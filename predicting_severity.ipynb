{
 "cells": [
  {
   "cell_type": "markdown",
   "metadata": {},
   "source": [
    "# Seattle Car Accident Severity"
   ]
  },
  {
   "cell_type": "code",
   "execution_count": 1,
   "metadata": {},
   "outputs": [],
   "source": [
    "import pandas as pd\n",
    "import numpy as np\n",
    "import seaborn as sns\n",
    "import matplotlib.pyplot as plt"
   ]
  },
  {
   "cell_type": "code",
   "execution_count": 2,
   "metadata": {},
   "outputs": [],
   "source": [
    "import warnings\n",
    "warnings.filterwarnings(\"ignore\")"
   ]
  },
  {
   "cell_type": "code",
   "execution_count": 3,
   "metadata": {},
   "outputs": [
    {
     "data": {
      "text/html": [
       "<div>\n",
       "<style scoped>\n",
       "    .dataframe tbody tr th:only-of-type {\n",
       "        vertical-align: middle;\n",
       "    }\n",
       "\n",
       "    .dataframe tbody tr th {\n",
       "        vertical-align: top;\n",
       "    }\n",
       "\n",
       "    .dataframe thead th {\n",
       "        text-align: right;\n",
       "    }\n",
       "</style>\n",
       "<table border=\"1\" class=\"dataframe\">\n",
       "  <thead>\n",
       "    <tr style=\"text-align: right;\">\n",
       "      <th></th>\n",
       "      <th>0</th>\n",
       "      <th>1</th>\n",
       "      <th>2</th>\n",
       "      <th>3</th>\n",
       "      <th>4</th>\n",
       "    </tr>\n",
       "  </thead>\n",
       "  <tbody>\n",
       "    <tr>\n",
       "      <th>severitycode</th>\n",
       "      <td>2</td>\n",
       "      <td>1</td>\n",
       "      <td>1</td>\n",
       "      <td>1</td>\n",
       "      <td>2</td>\n",
       "    </tr>\n",
       "    <tr>\n",
       "      <th>x</th>\n",
       "      <td>-122.323</td>\n",
       "      <td>-122.347</td>\n",
       "      <td>-122.335</td>\n",
       "      <td>-122.335</td>\n",
       "      <td>-122.306</td>\n",
       "    </tr>\n",
       "    <tr>\n",
       "      <th>y</th>\n",
       "      <td>47.7031</td>\n",
       "      <td>47.6472</td>\n",
       "      <td>47.6079</td>\n",
       "      <td>47.6048</td>\n",
       "      <td>47.5457</td>\n",
       "    </tr>\n",
       "    <tr>\n",
       "      <th>objectid</th>\n",
       "      <td>1</td>\n",
       "      <td>2</td>\n",
       "      <td>3</td>\n",
       "      <td>4</td>\n",
       "      <td>5</td>\n",
       "    </tr>\n",
       "    <tr>\n",
       "      <th>inckey</th>\n",
       "      <td>1307</td>\n",
       "      <td>52200</td>\n",
       "      <td>26700</td>\n",
       "      <td>1144</td>\n",
       "      <td>17700</td>\n",
       "    </tr>\n",
       "    <tr>\n",
       "      <th>coldetkey</th>\n",
       "      <td>1307</td>\n",
       "      <td>52200</td>\n",
       "      <td>26700</td>\n",
       "      <td>1144</td>\n",
       "      <td>17700</td>\n",
       "    </tr>\n",
       "    <tr>\n",
       "      <th>reportno</th>\n",
       "      <td>3502005</td>\n",
       "      <td>2607959</td>\n",
       "      <td>1482393</td>\n",
       "      <td>3503937</td>\n",
       "      <td>1807429</td>\n",
       "    </tr>\n",
       "    <tr>\n",
       "      <th>status</th>\n",
       "      <td>Matched</td>\n",
       "      <td>Matched</td>\n",
       "      <td>Matched</td>\n",
       "      <td>Matched</td>\n",
       "      <td>Matched</td>\n",
       "    </tr>\n",
       "    <tr>\n",
       "      <th>addrtype</th>\n",
       "      <td>Intersection</td>\n",
       "      <td>Block</td>\n",
       "      <td>Block</td>\n",
       "      <td>Block</td>\n",
       "      <td>Intersection</td>\n",
       "    </tr>\n",
       "    <tr>\n",
       "      <th>intkey</th>\n",
       "      <td>37475</td>\n",
       "      <td>NaN</td>\n",
       "      <td>NaN</td>\n",
       "      <td>NaN</td>\n",
       "      <td>34387</td>\n",
       "    </tr>\n",
       "    <tr>\n",
       "      <th>location</th>\n",
       "      <td>5TH AVE NE AND NE 103RD ST</td>\n",
       "      <td>AURORA BR BETWEEN RAYE ST AND BRIDGE WAY N</td>\n",
       "      <td>4TH AVE BETWEEN SENECA ST AND UNIVERSITY ST</td>\n",
       "      <td>2ND AVE BETWEEN MARION ST AND MADISON ST</td>\n",
       "      <td>SWIFT AVE S AND SWIFT AV OFF RP</td>\n",
       "    </tr>\n",
       "    <tr>\n",
       "      <th>exceptrsncode</th>\n",
       "      <td></td>\n",
       "      <td>NaN</td>\n",
       "      <td>NaN</td>\n",
       "      <td></td>\n",
       "      <td>NaN</td>\n",
       "    </tr>\n",
       "    <tr>\n",
       "      <th>exceptrsndesc</th>\n",
       "      <td>NaN</td>\n",
       "      <td>NaN</td>\n",
       "      <td>NaN</td>\n",
       "      <td>NaN</td>\n",
       "      <td>NaN</td>\n",
       "    </tr>\n",
       "    <tr>\n",
       "      <th>severitycode.1</th>\n",
       "      <td>2</td>\n",
       "      <td>1</td>\n",
       "      <td>1</td>\n",
       "      <td>1</td>\n",
       "      <td>2</td>\n",
       "    </tr>\n",
       "    <tr>\n",
       "      <th>severitydesc</th>\n",
       "      <td>Injury Collision</td>\n",
       "      <td>Property Damage Only Collision</td>\n",
       "      <td>Property Damage Only Collision</td>\n",
       "      <td>Property Damage Only Collision</td>\n",
       "      <td>Injury Collision</td>\n",
       "    </tr>\n",
       "    <tr>\n",
       "      <th>collisiontype</th>\n",
       "      <td>Angles</td>\n",
       "      <td>Sideswipe</td>\n",
       "      <td>Parked Car</td>\n",
       "      <td>Other</td>\n",
       "      <td>Angles</td>\n",
       "    </tr>\n",
       "    <tr>\n",
       "      <th>personcount</th>\n",
       "      <td>2</td>\n",
       "      <td>2</td>\n",
       "      <td>4</td>\n",
       "      <td>3</td>\n",
       "      <td>2</td>\n",
       "    </tr>\n",
       "    <tr>\n",
       "      <th>pedcount</th>\n",
       "      <td>0</td>\n",
       "      <td>0</td>\n",
       "      <td>0</td>\n",
       "      <td>0</td>\n",
       "      <td>0</td>\n",
       "    </tr>\n",
       "    <tr>\n",
       "      <th>pedcylcount</th>\n",
       "      <td>0</td>\n",
       "      <td>0</td>\n",
       "      <td>0</td>\n",
       "      <td>0</td>\n",
       "      <td>0</td>\n",
       "    </tr>\n",
       "    <tr>\n",
       "      <th>vehcount</th>\n",
       "      <td>2</td>\n",
       "      <td>2</td>\n",
       "      <td>3</td>\n",
       "      <td>3</td>\n",
       "      <td>2</td>\n",
       "    </tr>\n",
       "    <tr>\n",
       "      <th>incdate</th>\n",
       "      <td>2013/03/27 00:00:00+00</td>\n",
       "      <td>2006/12/20 00:00:00+00</td>\n",
       "      <td>2004/11/18 00:00:00+00</td>\n",
       "      <td>2013/03/29 00:00:00+00</td>\n",
       "      <td>2004/01/28 00:00:00+00</td>\n",
       "    </tr>\n",
       "    <tr>\n",
       "      <th>incdttm</th>\n",
       "      <td>3/27/2013 2:54:00 PM</td>\n",
       "      <td>12/20/2006 6:55:00 PM</td>\n",
       "      <td>11/18/2004 10:20:00 AM</td>\n",
       "      <td>3/29/2013 9:26:00 AM</td>\n",
       "      <td>1/28/2004 8:04:00 AM</td>\n",
       "    </tr>\n",
       "    <tr>\n",
       "      <th>junctiontype</th>\n",
       "      <td>At Intersection (intersection related)</td>\n",
       "      <td>Mid-Block (not related to intersection)</td>\n",
       "      <td>Mid-Block (not related to intersection)</td>\n",
       "      <td>Mid-Block (not related to intersection)</td>\n",
       "      <td>At Intersection (intersection related)</td>\n",
       "    </tr>\n",
       "    <tr>\n",
       "      <th>sdot_colcode</th>\n",
       "      <td>11</td>\n",
       "      <td>16</td>\n",
       "      <td>14</td>\n",
       "      <td>11</td>\n",
       "      <td>11</td>\n",
       "    </tr>\n",
       "    <tr>\n",
       "      <th>sdot_coldesc</th>\n",
       "      <td>MOTOR VEHICLE STRUCK MOTOR VEHICLE, FRONT END ...</td>\n",
       "      <td>MOTOR VEHICLE STRUCK MOTOR VEHICLE, LEFT SIDE ...</td>\n",
       "      <td>MOTOR VEHICLE STRUCK MOTOR VEHICLE, REAR END</td>\n",
       "      <td>MOTOR VEHICLE STRUCK MOTOR VEHICLE, FRONT END ...</td>\n",
       "      <td>MOTOR VEHICLE STRUCK MOTOR VEHICLE, FRONT END ...</td>\n",
       "    </tr>\n",
       "    <tr>\n",
       "      <th>inattentionind</th>\n",
       "      <td>NaN</td>\n",
       "      <td>NaN</td>\n",
       "      <td>NaN</td>\n",
       "      <td>NaN</td>\n",
       "      <td>NaN</td>\n",
       "    </tr>\n",
       "    <tr>\n",
       "      <th>underinfl</th>\n",
       "      <td>N</td>\n",
       "      <td>0</td>\n",
       "      <td>0</td>\n",
       "      <td>N</td>\n",
       "      <td>0</td>\n",
       "    </tr>\n",
       "    <tr>\n",
       "      <th>weather</th>\n",
       "      <td>Overcast</td>\n",
       "      <td>Raining</td>\n",
       "      <td>Overcast</td>\n",
       "      <td>Clear</td>\n",
       "      <td>Raining</td>\n",
       "    </tr>\n",
       "    <tr>\n",
       "      <th>roadcond</th>\n",
       "      <td>Wet</td>\n",
       "      <td>Wet</td>\n",
       "      <td>Dry</td>\n",
       "      <td>Dry</td>\n",
       "      <td>Wet</td>\n",
       "    </tr>\n",
       "    <tr>\n",
       "      <th>lightcond</th>\n",
       "      <td>Daylight</td>\n",
       "      <td>Dark - Street Lights On</td>\n",
       "      <td>Daylight</td>\n",
       "      <td>Daylight</td>\n",
       "      <td>Daylight</td>\n",
       "    </tr>\n",
       "    <tr>\n",
       "      <th>pedrownotgrnt</th>\n",
       "      <td>NaN</td>\n",
       "      <td>NaN</td>\n",
       "      <td>NaN</td>\n",
       "      <td>NaN</td>\n",
       "      <td>NaN</td>\n",
       "    </tr>\n",
       "    <tr>\n",
       "      <th>sdotcolnum</th>\n",
       "      <td>NaN</td>\n",
       "      <td>6.35404e+06</td>\n",
       "      <td>4.32303e+06</td>\n",
       "      <td>NaN</td>\n",
       "      <td>4.02803e+06</td>\n",
       "    </tr>\n",
       "    <tr>\n",
       "      <th>speeding</th>\n",
       "      <td>NaN</td>\n",
       "      <td>NaN</td>\n",
       "      <td>NaN</td>\n",
       "      <td>NaN</td>\n",
       "      <td>NaN</td>\n",
       "    </tr>\n",
       "    <tr>\n",
       "      <th>st_colcode</th>\n",
       "      <td>10</td>\n",
       "      <td>11</td>\n",
       "      <td>32</td>\n",
       "      <td>23</td>\n",
       "      <td>10</td>\n",
       "    </tr>\n",
       "    <tr>\n",
       "      <th>st_coldesc</th>\n",
       "      <td>Entering at angle</td>\n",
       "      <td>From same direction - both going straight - bo...</td>\n",
       "      <td>One parked--one moving</td>\n",
       "      <td>From same direction - all others</td>\n",
       "      <td>Entering at angle</td>\n",
       "    </tr>\n",
       "    <tr>\n",
       "      <th>seglanekey</th>\n",
       "      <td>0</td>\n",
       "      <td>0</td>\n",
       "      <td>0</td>\n",
       "      <td>0</td>\n",
       "      <td>0</td>\n",
       "    </tr>\n",
       "    <tr>\n",
       "      <th>crosswalkkey</th>\n",
       "      <td>0</td>\n",
       "      <td>0</td>\n",
       "      <td>0</td>\n",
       "      <td>0</td>\n",
       "      <td>0</td>\n",
       "    </tr>\n",
       "    <tr>\n",
       "      <th>hitparkedcar</th>\n",
       "      <td>N</td>\n",
       "      <td>N</td>\n",
       "      <td>N</td>\n",
       "      <td>N</td>\n",
       "      <td>N</td>\n",
       "    </tr>\n",
       "  </tbody>\n",
       "</table>\n",
       "</div>"
      ],
      "text/plain": [
       "                                                                0  \\\n",
       "severitycode                                                    2   \n",
       "x                                                        -122.323   \n",
       "y                                                         47.7031   \n",
       "objectid                                                        1   \n",
       "inckey                                                       1307   \n",
       "coldetkey                                                    1307   \n",
       "reportno                                                  3502005   \n",
       "status                                                    Matched   \n",
       "addrtype                                             Intersection   \n",
       "intkey                                                      37475   \n",
       "location                               5TH AVE NE AND NE 103RD ST   \n",
       "exceptrsncode                                                       \n",
       "exceptrsndesc                                                 NaN   \n",
       "severitycode.1                                                  2   \n",
       "severitydesc                                     Injury Collision   \n",
       "collisiontype                                              Angles   \n",
       "personcount                                                     2   \n",
       "pedcount                                                        0   \n",
       "pedcylcount                                                     0   \n",
       "vehcount                                                        2   \n",
       "incdate                                    2013/03/27 00:00:00+00   \n",
       "incdttm                                      3/27/2013 2:54:00 PM   \n",
       "junctiontype               At Intersection (intersection related)   \n",
       "sdot_colcode                                                   11   \n",
       "sdot_coldesc    MOTOR VEHICLE STRUCK MOTOR VEHICLE, FRONT END ...   \n",
       "inattentionind                                                NaN   \n",
       "underinfl                                                       N   \n",
       "weather                                                  Overcast   \n",
       "roadcond                                                      Wet   \n",
       "lightcond                                                Daylight   \n",
       "pedrownotgrnt                                                 NaN   \n",
       "sdotcolnum                                                    NaN   \n",
       "speeding                                                      NaN   \n",
       "st_colcode                                                     10   \n",
       "st_coldesc                                      Entering at angle   \n",
       "seglanekey                                                      0   \n",
       "crosswalkkey                                                    0   \n",
       "hitparkedcar                                                    N   \n",
       "\n",
       "                                                                1  \\\n",
       "severitycode                                                    1   \n",
       "x                                                        -122.347   \n",
       "y                                                         47.6472   \n",
       "objectid                                                        2   \n",
       "inckey                                                      52200   \n",
       "coldetkey                                                   52200   \n",
       "reportno                                                  2607959   \n",
       "status                                                    Matched   \n",
       "addrtype                                                    Block   \n",
       "intkey                                                        NaN   \n",
       "location               AURORA BR BETWEEN RAYE ST AND BRIDGE WAY N   \n",
       "exceptrsncode                                                 NaN   \n",
       "exceptrsndesc                                                 NaN   \n",
       "severitycode.1                                                  1   \n",
       "severitydesc                       Property Damage Only Collision   \n",
       "collisiontype                                           Sideswipe   \n",
       "personcount                                                     2   \n",
       "pedcount                                                        0   \n",
       "pedcylcount                                                     0   \n",
       "vehcount                                                        2   \n",
       "incdate                                    2006/12/20 00:00:00+00   \n",
       "incdttm                                     12/20/2006 6:55:00 PM   \n",
       "junctiontype              Mid-Block (not related to intersection)   \n",
       "sdot_colcode                                                   16   \n",
       "sdot_coldesc    MOTOR VEHICLE STRUCK MOTOR VEHICLE, LEFT SIDE ...   \n",
       "inattentionind                                                NaN   \n",
       "underinfl                                                       0   \n",
       "weather                                                   Raining   \n",
       "roadcond                                                      Wet   \n",
       "lightcond                                 Dark - Street Lights On   \n",
       "pedrownotgrnt                                                 NaN   \n",
       "sdotcolnum                                            6.35404e+06   \n",
       "speeding                                                      NaN   \n",
       "st_colcode                                                     11   \n",
       "st_coldesc      From same direction - both going straight - bo...   \n",
       "seglanekey                                                      0   \n",
       "crosswalkkey                                                    0   \n",
       "hitparkedcar                                                    N   \n",
       "\n",
       "                                                           2  \\\n",
       "severitycode                                               1   \n",
       "x                                                   -122.335   \n",
       "y                                                    47.6079   \n",
       "objectid                                                   3   \n",
       "inckey                                                 26700   \n",
       "coldetkey                                              26700   \n",
       "reportno                                             1482393   \n",
       "status                                               Matched   \n",
       "addrtype                                               Block   \n",
       "intkey                                                   NaN   \n",
       "location         4TH AVE BETWEEN SENECA ST AND UNIVERSITY ST   \n",
       "exceptrsncode                                            NaN   \n",
       "exceptrsndesc                                            NaN   \n",
       "severitycode.1                                             1   \n",
       "severitydesc                  Property Damage Only Collision   \n",
       "collisiontype                                     Parked Car   \n",
       "personcount                                                4   \n",
       "pedcount                                                   0   \n",
       "pedcylcount                                                0   \n",
       "vehcount                                                   3   \n",
       "incdate                               2004/11/18 00:00:00+00   \n",
       "incdttm                               11/18/2004 10:20:00 AM   \n",
       "junctiontype         Mid-Block (not related to intersection)   \n",
       "sdot_colcode                                              14   \n",
       "sdot_coldesc    MOTOR VEHICLE STRUCK MOTOR VEHICLE, REAR END   \n",
       "inattentionind                                           NaN   \n",
       "underinfl                                                  0   \n",
       "weather                                             Overcast   \n",
       "roadcond                                                 Dry   \n",
       "lightcond                                           Daylight   \n",
       "pedrownotgrnt                                            NaN   \n",
       "sdotcolnum                                       4.32303e+06   \n",
       "speeding                                                 NaN   \n",
       "st_colcode                                                32   \n",
       "st_coldesc                            One parked--one moving   \n",
       "seglanekey                                                 0   \n",
       "crosswalkkey                                               0   \n",
       "hitparkedcar                                               N   \n",
       "\n",
       "                                                                3  \\\n",
       "severitycode                                                    1   \n",
       "x                                                        -122.335   \n",
       "y                                                         47.6048   \n",
       "objectid                                                        4   \n",
       "inckey                                                       1144   \n",
       "coldetkey                                                    1144   \n",
       "reportno                                                  3503937   \n",
       "status                                                    Matched   \n",
       "addrtype                                                    Block   \n",
       "intkey                                                        NaN   \n",
       "location                 2ND AVE BETWEEN MARION ST AND MADISON ST   \n",
       "exceptrsncode                                                       \n",
       "exceptrsndesc                                                 NaN   \n",
       "severitycode.1                                                  1   \n",
       "severitydesc                       Property Damage Only Collision   \n",
       "collisiontype                                               Other   \n",
       "personcount                                                     3   \n",
       "pedcount                                                        0   \n",
       "pedcylcount                                                     0   \n",
       "vehcount                                                        3   \n",
       "incdate                                    2013/03/29 00:00:00+00   \n",
       "incdttm                                      3/29/2013 9:26:00 AM   \n",
       "junctiontype              Mid-Block (not related to intersection)   \n",
       "sdot_colcode                                                   11   \n",
       "sdot_coldesc    MOTOR VEHICLE STRUCK MOTOR VEHICLE, FRONT END ...   \n",
       "inattentionind                                                NaN   \n",
       "underinfl                                                       N   \n",
       "weather                                                     Clear   \n",
       "roadcond                                                      Dry   \n",
       "lightcond                                                Daylight   \n",
       "pedrownotgrnt                                                 NaN   \n",
       "sdotcolnum                                                    NaN   \n",
       "speeding                                                      NaN   \n",
       "st_colcode                                                     23   \n",
       "st_coldesc                       From same direction - all others   \n",
       "seglanekey                                                      0   \n",
       "crosswalkkey                                                    0   \n",
       "hitparkedcar                                                    N   \n",
       "\n",
       "                                                                4  \n",
       "severitycode                                                    2  \n",
       "x                                                        -122.306  \n",
       "y                                                         47.5457  \n",
       "objectid                                                        5  \n",
       "inckey                                                      17700  \n",
       "coldetkey                                                   17700  \n",
       "reportno                                                  1807429  \n",
       "status                                                    Matched  \n",
       "addrtype                                             Intersection  \n",
       "intkey                                                      34387  \n",
       "location                          SWIFT AVE S AND SWIFT AV OFF RP  \n",
       "exceptrsncode                                                 NaN  \n",
       "exceptrsndesc                                                 NaN  \n",
       "severitycode.1                                                  2  \n",
       "severitydesc                                     Injury Collision  \n",
       "collisiontype                                              Angles  \n",
       "personcount                                                     2  \n",
       "pedcount                                                        0  \n",
       "pedcylcount                                                     0  \n",
       "vehcount                                                        2  \n",
       "incdate                                    2004/01/28 00:00:00+00  \n",
       "incdttm                                      1/28/2004 8:04:00 AM  \n",
       "junctiontype               At Intersection (intersection related)  \n",
       "sdot_colcode                                                   11  \n",
       "sdot_coldesc    MOTOR VEHICLE STRUCK MOTOR VEHICLE, FRONT END ...  \n",
       "inattentionind                                                NaN  \n",
       "underinfl                                                       0  \n",
       "weather                                                   Raining  \n",
       "roadcond                                                      Wet  \n",
       "lightcond                                                Daylight  \n",
       "pedrownotgrnt                                                 NaN  \n",
       "sdotcolnum                                            4.02803e+06  \n",
       "speeding                                                      NaN  \n",
       "st_colcode                                                     10  \n",
       "st_coldesc                                      Entering at angle  \n",
       "seglanekey                                                      0  \n",
       "crosswalkkey                                                    0  \n",
       "hitparkedcar                                                    N  "
      ]
     },
     "execution_count": 3,
     "metadata": {},
     "output_type": "execute_result"
    }
   ],
   "source": [
    "df = pd.read_csv(\"Data-Collisions.csv\")\n",
    "df.columns = df.columns.str.lower()\n",
    "df.head().T"
   ]
  },
  {
   "cell_type": "code",
   "execution_count": 4,
   "metadata": {},
   "outputs": [
    {
     "name": "stdout",
     "output_type": "stream",
     "text": [
      "<class 'pandas.core.frame.DataFrame'>\n",
      "RangeIndex: 194673 entries, 0 to 194672\n",
      "Data columns (total 38 columns):\n",
      " #   Column          Non-Null Count   Dtype  \n",
      "---  ------          --------------   -----  \n",
      " 0   severitycode    194673 non-null  int64  \n",
      " 1   x               189339 non-null  float64\n",
      " 2   y               189339 non-null  float64\n",
      " 3   objectid        194673 non-null  int64  \n",
      " 4   inckey          194673 non-null  int64  \n",
      " 5   coldetkey       194673 non-null  int64  \n",
      " 6   reportno        194673 non-null  object \n",
      " 7   status          194673 non-null  object \n",
      " 8   addrtype        192747 non-null  object \n",
      " 9   intkey          65070 non-null   float64\n",
      " 10  location        191996 non-null  object \n",
      " 11  exceptrsncode   84811 non-null   object \n",
      " 12  exceptrsndesc   5638 non-null    object \n",
      " 13  severitycode.1  194673 non-null  int64  \n",
      " 14  severitydesc    194673 non-null  object \n",
      " 15  collisiontype   189769 non-null  object \n",
      " 16  personcount     194673 non-null  int64  \n",
      " 17  pedcount        194673 non-null  int64  \n",
      " 18  pedcylcount     194673 non-null  int64  \n",
      " 19  vehcount        194673 non-null  int64  \n",
      " 20  incdate         194673 non-null  object \n",
      " 21  incdttm         194673 non-null  object \n",
      " 22  junctiontype    188344 non-null  object \n",
      " 23  sdot_colcode    194673 non-null  int64  \n",
      " 24  sdot_coldesc    194673 non-null  object \n",
      " 25  inattentionind  29805 non-null   object \n",
      " 26  underinfl       189789 non-null  object \n",
      " 27  weather         189592 non-null  object \n",
      " 28  roadcond        189661 non-null  object \n",
      " 29  lightcond       189503 non-null  object \n",
      " 30  pedrownotgrnt   4667 non-null    object \n",
      " 31  sdotcolnum      114936 non-null  float64\n",
      " 32  speeding        9333 non-null    object \n",
      " 33  st_colcode      194655 non-null  object \n",
      " 34  st_coldesc      189769 non-null  object \n",
      " 35  seglanekey      194673 non-null  int64  \n",
      " 36  crosswalkkey    194673 non-null  int64  \n",
      " 37  hitparkedcar    194673 non-null  object \n",
      "dtypes: float64(4), int64(12), object(22)\n",
      "memory usage: 56.4+ MB\n"
     ]
    }
   ],
   "source": [
    "df.info()"
   ]
  },
  {
   "cell_type": "code",
   "execution_count": 5,
   "metadata": {},
   "outputs": [
    {
     "data": {
      "text/html": [
       "<div>\n",
       "<style scoped>\n",
       "    .dataframe tbody tr th:only-of-type {\n",
       "        vertical-align: middle;\n",
       "    }\n",
       "\n",
       "    .dataframe tbody tr th {\n",
       "        vertical-align: top;\n",
       "    }\n",
       "\n",
       "    .dataframe thead th {\n",
       "        text-align: right;\n",
       "    }\n",
       "</style>\n",
       "<table border=\"1\" class=\"dataframe\">\n",
       "  <thead>\n",
       "    <tr style=\"text-align: right;\">\n",
       "      <th></th>\n",
       "      <th>count</th>\n",
       "      <th>mean</th>\n",
       "      <th>std</th>\n",
       "      <th>min</th>\n",
       "      <th>25%</th>\n",
       "      <th>50%</th>\n",
       "      <th>75%</th>\n",
       "      <th>max</th>\n",
       "    </tr>\n",
       "  </thead>\n",
       "  <tbody>\n",
       "    <tr>\n",
       "      <th>severitycode</th>\n",
       "      <td>194673.0</td>\n",
       "      <td>1.298901e+00</td>\n",
       "      <td>4.577776e-01</td>\n",
       "      <td>1.000000e+00</td>\n",
       "      <td>1.000000e+00</td>\n",
       "      <td>1.000000e+00</td>\n",
       "      <td>2.000000e+00</td>\n",
       "      <td>2.000000e+00</td>\n",
       "    </tr>\n",
       "    <tr>\n",
       "      <th>x</th>\n",
       "      <td>189339.0</td>\n",
       "      <td>-1.223305e+02</td>\n",
       "      <td>2.997605e-02</td>\n",
       "      <td>-1.224191e+02</td>\n",
       "      <td>-1.223487e+02</td>\n",
       "      <td>-1.223302e+02</td>\n",
       "      <td>-1.223119e+02</td>\n",
       "      <td>-1.222389e+02</td>\n",
       "    </tr>\n",
       "    <tr>\n",
       "      <th>y</th>\n",
       "      <td>189339.0</td>\n",
       "      <td>4.761954e+01</td>\n",
       "      <td>5.615664e-02</td>\n",
       "      <td>4.749557e+01</td>\n",
       "      <td>4.757596e+01</td>\n",
       "      <td>4.761537e+01</td>\n",
       "      <td>4.766366e+01</td>\n",
       "      <td>4.773414e+01</td>\n",
       "    </tr>\n",
       "    <tr>\n",
       "      <th>objectid</th>\n",
       "      <td>194673.0</td>\n",
       "      <td>1.084794e+05</td>\n",
       "      <td>6.264972e+04</td>\n",
       "      <td>1.000000e+00</td>\n",
       "      <td>5.426700e+04</td>\n",
       "      <td>1.069120e+05</td>\n",
       "      <td>1.622720e+05</td>\n",
       "      <td>2.195470e+05</td>\n",
       "    </tr>\n",
       "    <tr>\n",
       "      <th>inckey</th>\n",
       "      <td>194673.0</td>\n",
       "      <td>1.410915e+05</td>\n",
       "      <td>8.663440e+04</td>\n",
       "      <td>1.001000e+03</td>\n",
       "      <td>7.038300e+04</td>\n",
       "      <td>1.233630e+05</td>\n",
       "      <td>2.033190e+05</td>\n",
       "      <td>3.314540e+05</td>\n",
       "    </tr>\n",
       "    <tr>\n",
       "      <th>coldetkey</th>\n",
       "      <td>194673.0</td>\n",
       "      <td>1.412988e+05</td>\n",
       "      <td>8.698654e+04</td>\n",
       "      <td>1.001000e+03</td>\n",
       "      <td>7.038300e+04</td>\n",
       "      <td>1.233630e+05</td>\n",
       "      <td>2.034590e+05</td>\n",
       "      <td>3.329540e+05</td>\n",
       "    </tr>\n",
       "    <tr>\n",
       "      <th>intkey</th>\n",
       "      <td>65070.0</td>\n",
       "      <td>3.755845e+04</td>\n",
       "      <td>5.174599e+04</td>\n",
       "      <td>2.380700e+04</td>\n",
       "      <td>2.866700e+04</td>\n",
       "      <td>2.997300e+04</td>\n",
       "      <td>3.397300e+04</td>\n",
       "      <td>7.575800e+05</td>\n",
       "    </tr>\n",
       "    <tr>\n",
       "      <th>severitycode.1</th>\n",
       "      <td>194673.0</td>\n",
       "      <td>1.298901e+00</td>\n",
       "      <td>4.577776e-01</td>\n",
       "      <td>1.000000e+00</td>\n",
       "      <td>1.000000e+00</td>\n",
       "      <td>1.000000e+00</td>\n",
       "      <td>2.000000e+00</td>\n",
       "      <td>2.000000e+00</td>\n",
       "    </tr>\n",
       "    <tr>\n",
       "      <th>personcount</th>\n",
       "      <td>194673.0</td>\n",
       "      <td>2.444427e+00</td>\n",
       "      <td>1.345929e+00</td>\n",
       "      <td>0.000000e+00</td>\n",
       "      <td>2.000000e+00</td>\n",
       "      <td>2.000000e+00</td>\n",
       "      <td>3.000000e+00</td>\n",
       "      <td>8.100000e+01</td>\n",
       "    </tr>\n",
       "    <tr>\n",
       "      <th>pedcount</th>\n",
       "      <td>194673.0</td>\n",
       "      <td>3.713920e-02</td>\n",
       "      <td>1.981499e-01</td>\n",
       "      <td>0.000000e+00</td>\n",
       "      <td>0.000000e+00</td>\n",
       "      <td>0.000000e+00</td>\n",
       "      <td>0.000000e+00</td>\n",
       "      <td>6.000000e+00</td>\n",
       "    </tr>\n",
       "    <tr>\n",
       "      <th>pedcylcount</th>\n",
       "      <td>194673.0</td>\n",
       "      <td>2.839120e-02</td>\n",
       "      <td>1.674128e-01</td>\n",
       "      <td>0.000000e+00</td>\n",
       "      <td>0.000000e+00</td>\n",
       "      <td>0.000000e+00</td>\n",
       "      <td>0.000000e+00</td>\n",
       "      <td>2.000000e+00</td>\n",
       "    </tr>\n",
       "    <tr>\n",
       "      <th>vehcount</th>\n",
       "      <td>194673.0</td>\n",
       "      <td>1.920780e+00</td>\n",
       "      <td>6.310467e-01</td>\n",
       "      <td>0.000000e+00</td>\n",
       "      <td>2.000000e+00</td>\n",
       "      <td>2.000000e+00</td>\n",
       "      <td>2.000000e+00</td>\n",
       "      <td>1.200000e+01</td>\n",
       "    </tr>\n",
       "    <tr>\n",
       "      <th>sdot_colcode</th>\n",
       "      <td>194673.0</td>\n",
       "      <td>1.386777e+01</td>\n",
       "      <td>6.868755e+00</td>\n",
       "      <td>0.000000e+00</td>\n",
       "      <td>1.100000e+01</td>\n",
       "      <td>1.300000e+01</td>\n",
       "      <td>1.400000e+01</td>\n",
       "      <td>6.900000e+01</td>\n",
       "    </tr>\n",
       "    <tr>\n",
       "      <th>sdotcolnum</th>\n",
       "      <td>114936.0</td>\n",
       "      <td>7.972521e+06</td>\n",
       "      <td>2.553533e+06</td>\n",
       "      <td>1.007024e+06</td>\n",
       "      <td>6.040015e+06</td>\n",
       "      <td>8.023022e+06</td>\n",
       "      <td>1.015501e+07</td>\n",
       "      <td>1.307202e+07</td>\n",
       "    </tr>\n",
       "    <tr>\n",
       "      <th>seglanekey</th>\n",
       "      <td>194673.0</td>\n",
       "      <td>2.694011e+02</td>\n",
       "      <td>3.315776e+03</td>\n",
       "      <td>0.000000e+00</td>\n",
       "      <td>0.000000e+00</td>\n",
       "      <td>0.000000e+00</td>\n",
       "      <td>0.000000e+00</td>\n",
       "      <td>5.252410e+05</td>\n",
       "    </tr>\n",
       "    <tr>\n",
       "      <th>crosswalkkey</th>\n",
       "      <td>194673.0</td>\n",
       "      <td>9.782452e+03</td>\n",
       "      <td>7.226926e+04</td>\n",
       "      <td>0.000000e+00</td>\n",
       "      <td>0.000000e+00</td>\n",
       "      <td>0.000000e+00</td>\n",
       "      <td>0.000000e+00</td>\n",
       "      <td>5.239700e+06</td>\n",
       "    </tr>\n",
       "  </tbody>\n",
       "</table>\n",
       "</div>"
      ],
      "text/plain": [
       "                   count          mean           std           min  \\\n",
       "severitycode    194673.0  1.298901e+00  4.577776e-01  1.000000e+00   \n",
       "x               189339.0 -1.223305e+02  2.997605e-02 -1.224191e+02   \n",
       "y               189339.0  4.761954e+01  5.615664e-02  4.749557e+01   \n",
       "objectid        194673.0  1.084794e+05  6.264972e+04  1.000000e+00   \n",
       "inckey          194673.0  1.410915e+05  8.663440e+04  1.001000e+03   \n",
       "coldetkey       194673.0  1.412988e+05  8.698654e+04  1.001000e+03   \n",
       "intkey           65070.0  3.755845e+04  5.174599e+04  2.380700e+04   \n",
       "severitycode.1  194673.0  1.298901e+00  4.577776e-01  1.000000e+00   \n",
       "personcount     194673.0  2.444427e+00  1.345929e+00  0.000000e+00   \n",
       "pedcount        194673.0  3.713920e-02  1.981499e-01  0.000000e+00   \n",
       "pedcylcount     194673.0  2.839120e-02  1.674128e-01  0.000000e+00   \n",
       "vehcount        194673.0  1.920780e+00  6.310467e-01  0.000000e+00   \n",
       "sdot_colcode    194673.0  1.386777e+01  6.868755e+00  0.000000e+00   \n",
       "sdotcolnum      114936.0  7.972521e+06  2.553533e+06  1.007024e+06   \n",
       "seglanekey      194673.0  2.694011e+02  3.315776e+03  0.000000e+00   \n",
       "crosswalkkey    194673.0  9.782452e+03  7.226926e+04  0.000000e+00   \n",
       "\n",
       "                         25%           50%           75%           max  \n",
       "severitycode    1.000000e+00  1.000000e+00  2.000000e+00  2.000000e+00  \n",
       "x              -1.223487e+02 -1.223302e+02 -1.223119e+02 -1.222389e+02  \n",
       "y               4.757596e+01  4.761537e+01  4.766366e+01  4.773414e+01  \n",
       "objectid        5.426700e+04  1.069120e+05  1.622720e+05  2.195470e+05  \n",
       "inckey          7.038300e+04  1.233630e+05  2.033190e+05  3.314540e+05  \n",
       "coldetkey       7.038300e+04  1.233630e+05  2.034590e+05  3.329540e+05  \n",
       "intkey          2.866700e+04  2.997300e+04  3.397300e+04  7.575800e+05  \n",
       "severitycode.1  1.000000e+00  1.000000e+00  2.000000e+00  2.000000e+00  \n",
       "personcount     2.000000e+00  2.000000e+00  3.000000e+00  8.100000e+01  \n",
       "pedcount        0.000000e+00  0.000000e+00  0.000000e+00  6.000000e+00  \n",
       "pedcylcount     0.000000e+00  0.000000e+00  0.000000e+00  2.000000e+00  \n",
       "vehcount        2.000000e+00  2.000000e+00  2.000000e+00  1.200000e+01  \n",
       "sdot_colcode    1.100000e+01  1.300000e+01  1.400000e+01  6.900000e+01  \n",
       "sdotcolnum      6.040015e+06  8.023022e+06  1.015501e+07  1.307202e+07  \n",
       "seglanekey      0.000000e+00  0.000000e+00  0.000000e+00  5.252410e+05  \n",
       "crosswalkkey    0.000000e+00  0.000000e+00  0.000000e+00  5.239700e+06  "
      ]
     },
     "execution_count": 5,
     "metadata": {},
     "output_type": "execute_result"
    }
   ],
   "source": [
    "df.describe().T"
   ]
  },
  {
   "cell_type": "code",
   "execution_count": 6,
   "metadata": {},
   "outputs": [
    {
     "data": {
      "text/html": [
       "<div>\n",
       "<style scoped>\n",
       "    .dataframe tbody tr th:only-of-type {\n",
       "        vertical-align: middle;\n",
       "    }\n",
       "\n",
       "    .dataframe tbody tr th {\n",
       "        vertical-align: top;\n",
       "    }\n",
       "\n",
       "    .dataframe thead th {\n",
       "        text-align: right;\n",
       "    }\n",
       "</style>\n",
       "<table border=\"1\" class=\"dataframe\">\n",
       "  <thead>\n",
       "    <tr style=\"text-align: right;\">\n",
       "      <th></th>\n",
       "      <th>count</th>\n",
       "    </tr>\n",
       "  </thead>\n",
       "  <tbody>\n",
       "    <tr>\n",
       "      <th>1</th>\n",
       "      <td>136485</td>\n",
       "    </tr>\n",
       "    <tr>\n",
       "      <th>2</th>\n",
       "      <td>58188</td>\n",
       "    </tr>\n",
       "  </tbody>\n",
       "</table>\n",
       "</div>"
      ],
      "text/plain": [
       "    count\n",
       "1  136485\n",
       "2   58188"
      ]
     },
     "execution_count": 6,
     "metadata": {},
     "output_type": "execute_result"
    }
   ],
   "source": [
    "df.severitycode.value_counts().to_frame(\"count\")"
   ]
  },
  {
   "cell_type": "code",
   "execution_count": 7,
   "metadata": {},
   "outputs": [
    {
     "data": {
      "text/html": [
       "<div>\n",
       "<style scoped>\n",
       "    .dataframe tbody tr th:only-of-type {\n",
       "        vertical-align: middle;\n",
       "    }\n",
       "\n",
       "    .dataframe tbody tr th {\n",
       "        vertical-align: top;\n",
       "    }\n",
       "\n",
       "    .dataframe thead th {\n",
       "        text-align: right;\n",
       "    }\n",
       "</style>\n",
       "<table border=\"1\" class=\"dataframe\">\n",
       "  <thead>\n",
       "    <tr style=\"text-align: right;\">\n",
       "      <th></th>\n",
       "      <th>count</th>\n",
       "    </tr>\n",
       "  </thead>\n",
       "  <tbody>\n",
       "    <tr>\n",
       "      <th>Matched</th>\n",
       "      <td>189786</td>\n",
       "    </tr>\n",
       "    <tr>\n",
       "      <th>Unmatched</th>\n",
       "      <td>4887</td>\n",
       "    </tr>\n",
       "  </tbody>\n",
       "</table>\n",
       "</div>"
      ],
      "text/plain": [
       "            count\n",
       "Matched    189786\n",
       "Unmatched    4887"
      ]
     },
     "execution_count": 7,
     "metadata": {},
     "output_type": "execute_result"
    }
   ],
   "source": [
    "df.status.value_counts().to_frame(\"count\")"
   ]
  },
  {
   "cell_type": "code",
   "execution_count": 8,
   "metadata": {},
   "outputs": [
    {
     "data": {
      "text/html": [
       "<div>\n",
       "<style scoped>\n",
       "    .dataframe tbody tr th:only-of-type {\n",
       "        vertical-align: middle;\n",
       "    }\n",
       "\n",
       "    .dataframe tbody tr th {\n",
       "        vertical-align: top;\n",
       "    }\n",
       "\n",
       "    .dataframe thead th {\n",
       "        text-align: right;\n",
       "    }\n",
       "</style>\n",
       "<table border=\"1\" class=\"dataframe\">\n",
       "  <thead>\n",
       "    <tr style=\"text-align: right;\">\n",
       "      <th></th>\n",
       "      <th>count</th>\n",
       "    </tr>\n",
       "  </thead>\n",
       "  <tbody>\n",
       "    <tr>\n",
       "      <th>Block</th>\n",
       "      <td>126926</td>\n",
       "    </tr>\n",
       "    <tr>\n",
       "      <th>Intersection</th>\n",
       "      <td>65070</td>\n",
       "    </tr>\n",
       "    <tr>\n",
       "      <th>Alley</th>\n",
       "      <td>751</td>\n",
       "    </tr>\n",
       "  </tbody>\n",
       "</table>\n",
       "</div>"
      ],
      "text/plain": [
       "               count\n",
       "Block         126926\n",
       "Intersection   65070\n",
       "Alley            751"
      ]
     },
     "execution_count": 8,
     "metadata": {},
     "output_type": "execute_result"
    }
   ],
   "source": [
    "df.addrtype.value_counts().to_frame(\"count\")"
   ]
  },
  {
   "cell_type": "code",
   "execution_count": 9,
   "metadata": {},
   "outputs": [
    {
     "data": {
      "text/html": [
       "<div>\n",
       "<style scoped>\n",
       "    .dataframe tbody tr th:only-of-type {\n",
       "        vertical-align: middle;\n",
       "    }\n",
       "\n",
       "    .dataframe tbody tr th {\n",
       "        vertical-align: top;\n",
       "    }\n",
       "\n",
       "    .dataframe thead th {\n",
       "        text-align: right;\n",
       "    }\n",
       "</style>\n",
       "<table border=\"1\" class=\"dataframe\">\n",
       "  <thead>\n",
       "    <tr style=\"text-align: right;\">\n",
       "      <th></th>\n",
       "      <th>count</th>\n",
       "    </tr>\n",
       "  </thead>\n",
       "  <tbody>\n",
       "    <tr>\n",
       "      <th>Property Damage Only Collision</th>\n",
       "      <td>136485</td>\n",
       "    </tr>\n",
       "    <tr>\n",
       "      <th>Injury Collision</th>\n",
       "      <td>58188</td>\n",
       "    </tr>\n",
       "  </tbody>\n",
       "</table>\n",
       "</div>"
      ],
      "text/plain": [
       "                                 count\n",
       "Property Damage Only Collision  136485\n",
       "Injury Collision                 58188"
      ]
     },
     "execution_count": 9,
     "metadata": {},
     "output_type": "execute_result"
    }
   ],
   "source": [
    "df.severitydesc.value_counts().to_frame(\"count\")"
   ]
  },
  {
   "cell_type": "code",
   "execution_count": 10,
   "metadata": {},
   "outputs": [
    {
     "data": {
      "text/html": [
       "<div>\n",
       "<style scoped>\n",
       "    .dataframe tbody tr th:only-of-type {\n",
       "        vertical-align: middle;\n",
       "    }\n",
       "\n",
       "    .dataframe tbody tr th {\n",
       "        vertical-align: top;\n",
       "    }\n",
       "\n",
       "    .dataframe thead th {\n",
       "        text-align: right;\n",
       "    }\n",
       "</style>\n",
       "<table border=\"1\" class=\"dataframe\">\n",
       "  <thead>\n",
       "    <tr style=\"text-align: right;\">\n",
       "      <th></th>\n",
       "      <th>count</th>\n",
       "    </tr>\n",
       "  </thead>\n",
       "  <tbody>\n",
       "    <tr>\n",
       "      <th>Parked Car</th>\n",
       "      <td>47987</td>\n",
       "    </tr>\n",
       "    <tr>\n",
       "      <th>Angles</th>\n",
       "      <td>34674</td>\n",
       "    </tr>\n",
       "    <tr>\n",
       "      <th>Rear Ended</th>\n",
       "      <td>34090</td>\n",
       "    </tr>\n",
       "    <tr>\n",
       "      <th>Other</th>\n",
       "      <td>23703</td>\n",
       "    </tr>\n",
       "    <tr>\n",
       "      <th>Sideswipe</th>\n",
       "      <td>18609</td>\n",
       "    </tr>\n",
       "    <tr>\n",
       "      <th>Left Turn</th>\n",
       "      <td>13703</td>\n",
       "    </tr>\n",
       "    <tr>\n",
       "      <th>Pedestrian</th>\n",
       "      <td>6608</td>\n",
       "    </tr>\n",
       "    <tr>\n",
       "      <th>Cycles</th>\n",
       "      <td>5415</td>\n",
       "    </tr>\n",
       "    <tr>\n",
       "      <th>Right Turn</th>\n",
       "      <td>2956</td>\n",
       "    </tr>\n",
       "    <tr>\n",
       "      <th>Head On</th>\n",
       "      <td>2024</td>\n",
       "    </tr>\n",
       "  </tbody>\n",
       "</table>\n",
       "</div>"
      ],
      "text/plain": [
       "            count\n",
       "Parked Car  47987\n",
       "Angles      34674\n",
       "Rear Ended  34090\n",
       "Other       23703\n",
       "Sideswipe   18609\n",
       "Left Turn   13703\n",
       "Pedestrian   6608\n",
       "Cycles       5415\n",
       "Right Turn   2956\n",
       "Head On      2024"
      ]
     },
     "execution_count": 10,
     "metadata": {},
     "output_type": "execute_result"
    }
   ],
   "source": [
    "df.collisiontype.value_counts().to_frame(\"count\")"
   ]
  },
  {
   "cell_type": "code",
   "execution_count": 11,
   "metadata": {},
   "outputs": [
    {
     "data": {
      "text/html": [
       "<div>\n",
       "<style scoped>\n",
       "    .dataframe tbody tr th:only-of-type {\n",
       "        vertical-align: middle;\n",
       "    }\n",
       "\n",
       "    .dataframe tbody tr th {\n",
       "        vertical-align: top;\n",
       "    }\n",
       "\n",
       "    .dataframe thead th {\n",
       "        text-align: right;\n",
       "    }\n",
       "</style>\n",
       "<table border=\"1\" class=\"dataframe\">\n",
       "  <thead>\n",
       "    <tr style=\"text-align: right;\">\n",
       "      <th></th>\n",
       "      <th>count</th>\n",
       "    </tr>\n",
       "  </thead>\n",
       "  <tbody>\n",
       "    <tr>\n",
       "      <th>Mid-Block (not related to intersection)</th>\n",
       "      <td>89800</td>\n",
       "    </tr>\n",
       "    <tr>\n",
       "      <th>At Intersection (intersection related)</th>\n",
       "      <td>62810</td>\n",
       "    </tr>\n",
       "    <tr>\n",
       "      <th>Mid-Block (but intersection related)</th>\n",
       "      <td>22790</td>\n",
       "    </tr>\n",
       "    <tr>\n",
       "      <th>Driveway Junction</th>\n",
       "      <td>10671</td>\n",
       "    </tr>\n",
       "    <tr>\n",
       "      <th>At Intersection (but not related to intersection)</th>\n",
       "      <td>2098</td>\n",
       "    </tr>\n",
       "    <tr>\n",
       "      <th>Ramp Junction</th>\n",
       "      <td>166</td>\n",
       "    </tr>\n",
       "    <tr>\n",
       "      <th>Unknown</th>\n",
       "      <td>9</td>\n",
       "    </tr>\n",
       "  </tbody>\n",
       "</table>\n",
       "</div>"
      ],
      "text/plain": [
       "                                                   count\n",
       "Mid-Block (not related to intersection)            89800\n",
       "At Intersection (intersection related)             62810\n",
       "Mid-Block (but intersection related)               22790\n",
       "Driveway Junction                                  10671\n",
       "At Intersection (but not related to intersection)   2098\n",
       "Ramp Junction                                        166\n",
       "Unknown                                                9"
      ]
     },
     "execution_count": 11,
     "metadata": {},
     "output_type": "execute_result"
    }
   ],
   "source": [
    "df.junctiontype.value_counts().to_frame(\"count\")"
   ]
  },
  {
   "cell_type": "code",
   "execution_count": 12,
   "metadata": {},
   "outputs": [
    {
     "data": {
      "text/html": [
       "<div>\n",
       "<style scoped>\n",
       "    .dataframe tbody tr th:only-of-type {\n",
       "        vertical-align: middle;\n",
       "    }\n",
       "\n",
       "    .dataframe tbody tr th {\n",
       "        vertical-align: top;\n",
       "    }\n",
       "\n",
       "    .dataframe thead th {\n",
       "        text-align: right;\n",
       "    }\n",
       "</style>\n",
       "<table border=\"1\" class=\"dataframe\">\n",
       "  <thead>\n",
       "    <tr style=\"text-align: right;\">\n",
       "      <th></th>\n",
       "      <th>count</th>\n",
       "    </tr>\n",
       "  </thead>\n",
       "  <tbody>\n",
       "    <tr>\n",
       "      <th>N</th>\n",
       "      <td>164868</td>\n",
       "    </tr>\n",
       "    <tr>\n",
       "      <th>Y</th>\n",
       "      <td>29805</td>\n",
       "    </tr>\n",
       "  </tbody>\n",
       "</table>\n",
       "</div>"
      ],
      "text/plain": [
       "    count\n",
       "N  164868\n",
       "Y   29805"
      ]
     },
     "execution_count": 12,
     "metadata": {},
     "output_type": "execute_result"
    }
   ],
   "source": [
    "df.inattentionind = df.inattentionind.fillna(\"N\")\n",
    "df.inattentionind.value_counts().to_frame(\"count\")"
   ]
  },
  {
   "cell_type": "code",
   "execution_count": 13,
   "metadata": {},
   "outputs": [
    {
     "data": {
      "text/html": [
       "<div>\n",
       "<style scoped>\n",
       "    .dataframe tbody tr th:only-of-type {\n",
       "        vertical-align: middle;\n",
       "    }\n",
       "\n",
       "    .dataframe tbody tr th {\n",
       "        vertical-align: top;\n",
       "    }\n",
       "\n",
       "    .dataframe thead th {\n",
       "        text-align: right;\n",
       "    }\n",
       "</style>\n",
       "<table border=\"1\" class=\"dataframe\">\n",
       "  <thead>\n",
       "    <tr style=\"text-align: right;\">\n",
       "      <th></th>\n",
       "      <th>count</th>\n",
       "    </tr>\n",
       "  </thead>\n",
       "  <tbody>\n",
       "    <tr>\n",
       "      <th>N</th>\n",
       "      <td>100274</td>\n",
       "    </tr>\n",
       "    <tr>\n",
       "      <th>0</th>\n",
       "      <td>80394</td>\n",
       "    </tr>\n",
       "    <tr>\n",
       "      <th>Y</th>\n",
       "      <td>5126</td>\n",
       "    </tr>\n",
       "    <tr>\n",
       "      <th>1</th>\n",
       "      <td>3995</td>\n",
       "    </tr>\n",
       "  </tbody>\n",
       "</table>\n",
       "</div>"
      ],
      "text/plain": [
       "    count\n",
       "N  100274\n",
       "0   80394\n",
       "Y    5126\n",
       "1    3995"
      ]
     },
     "execution_count": 13,
     "metadata": {},
     "output_type": "execute_result"
    }
   ],
   "source": [
    "df.underinfl.value_counts().to_frame(\"count\")"
   ]
  },
  {
   "cell_type": "code",
   "execution_count": 14,
   "metadata": {},
   "outputs": [
    {
     "data": {
      "text/html": [
       "<div>\n",
       "<style scoped>\n",
       "    .dataframe tbody tr th:only-of-type {\n",
       "        vertical-align: middle;\n",
       "    }\n",
       "\n",
       "    .dataframe tbody tr th {\n",
       "        vertical-align: top;\n",
       "    }\n",
       "\n",
       "    .dataframe thead th {\n",
       "        text-align: right;\n",
       "    }\n",
       "</style>\n",
       "<table border=\"1\" class=\"dataframe\">\n",
       "  <thead>\n",
       "    <tr style=\"text-align: right;\">\n",
       "      <th></th>\n",
       "      <th>count</th>\n",
       "    </tr>\n",
       "  </thead>\n",
       "  <tbody>\n",
       "    <tr>\n",
       "      <th>Clear</th>\n",
       "      <td>111135</td>\n",
       "    </tr>\n",
       "    <tr>\n",
       "      <th>Raining</th>\n",
       "      <td>33145</td>\n",
       "    </tr>\n",
       "    <tr>\n",
       "      <th>Overcast</th>\n",
       "      <td>27714</td>\n",
       "    </tr>\n",
       "    <tr>\n",
       "      <th>Unknown</th>\n",
       "      <td>15091</td>\n",
       "    </tr>\n",
       "    <tr>\n",
       "      <th>Snowing</th>\n",
       "      <td>907</td>\n",
       "    </tr>\n",
       "    <tr>\n",
       "      <th>Other</th>\n",
       "      <td>832</td>\n",
       "    </tr>\n",
       "    <tr>\n",
       "      <th>Fog/Smog/Smoke</th>\n",
       "      <td>569</td>\n",
       "    </tr>\n",
       "    <tr>\n",
       "      <th>Sleet/Hail/Freezing Rain</th>\n",
       "      <td>113</td>\n",
       "    </tr>\n",
       "    <tr>\n",
       "      <th>Blowing Sand/Dirt</th>\n",
       "      <td>56</td>\n",
       "    </tr>\n",
       "    <tr>\n",
       "      <th>Severe Crosswind</th>\n",
       "      <td>25</td>\n",
       "    </tr>\n",
       "    <tr>\n",
       "      <th>Partly Cloudy</th>\n",
       "      <td>5</td>\n",
       "    </tr>\n",
       "  </tbody>\n",
       "</table>\n",
       "</div>"
      ],
      "text/plain": [
       "                           count\n",
       "Clear                     111135\n",
       "Raining                    33145\n",
       "Overcast                   27714\n",
       "Unknown                    15091\n",
       "Snowing                      907\n",
       "Other                        832\n",
       "Fog/Smog/Smoke               569\n",
       "Sleet/Hail/Freezing Rain     113\n",
       "Blowing Sand/Dirt             56\n",
       "Severe Crosswind              25\n",
       "Partly Cloudy                  5"
      ]
     },
     "execution_count": 14,
     "metadata": {},
     "output_type": "execute_result"
    }
   ],
   "source": [
    "df.weather.value_counts().to_frame(\"count\")"
   ]
  },
  {
   "cell_type": "code",
   "execution_count": 15,
   "metadata": {},
   "outputs": [
    {
     "data": {
      "text/html": [
       "<div>\n",
       "<style scoped>\n",
       "    .dataframe tbody tr th:only-of-type {\n",
       "        vertical-align: middle;\n",
       "    }\n",
       "\n",
       "    .dataframe tbody tr th {\n",
       "        vertical-align: top;\n",
       "    }\n",
       "\n",
       "    .dataframe thead th {\n",
       "        text-align: right;\n",
       "    }\n",
       "</style>\n",
       "<table border=\"1\" class=\"dataframe\">\n",
       "  <thead>\n",
       "    <tr style=\"text-align: right;\">\n",
       "      <th></th>\n",
       "      <th>count</th>\n",
       "    </tr>\n",
       "  </thead>\n",
       "  <tbody>\n",
       "    <tr>\n",
       "      <th>Dry</th>\n",
       "      <td>124510</td>\n",
       "    </tr>\n",
       "    <tr>\n",
       "      <th>Wet</th>\n",
       "      <td>47474</td>\n",
       "    </tr>\n",
       "    <tr>\n",
       "      <th>Unknown</th>\n",
       "      <td>15078</td>\n",
       "    </tr>\n",
       "    <tr>\n",
       "      <th>Ice</th>\n",
       "      <td>1209</td>\n",
       "    </tr>\n",
       "    <tr>\n",
       "      <th>Snow/Slush</th>\n",
       "      <td>1004</td>\n",
       "    </tr>\n",
       "    <tr>\n",
       "      <th>Other</th>\n",
       "      <td>132</td>\n",
       "    </tr>\n",
       "    <tr>\n",
       "      <th>Standing Water</th>\n",
       "      <td>115</td>\n",
       "    </tr>\n",
       "    <tr>\n",
       "      <th>Sand/Mud/Dirt</th>\n",
       "      <td>75</td>\n",
       "    </tr>\n",
       "    <tr>\n",
       "      <th>Oil</th>\n",
       "      <td>64</td>\n",
       "    </tr>\n",
       "  </tbody>\n",
       "</table>\n",
       "</div>"
      ],
      "text/plain": [
       "                 count\n",
       "Dry             124510\n",
       "Wet              47474\n",
       "Unknown          15078\n",
       "Ice               1209\n",
       "Snow/Slush        1004\n",
       "Other              132\n",
       "Standing Water     115\n",
       "Sand/Mud/Dirt       75\n",
       "Oil                 64"
      ]
     },
     "execution_count": 15,
     "metadata": {},
     "output_type": "execute_result"
    }
   ],
   "source": [
    "df.roadcond.value_counts().to_frame(\"count\")"
   ]
  },
  {
   "cell_type": "code",
   "execution_count": 16,
   "metadata": {},
   "outputs": [
    {
     "data": {
      "text/html": [
       "<div>\n",
       "<style scoped>\n",
       "    .dataframe tbody tr th:only-of-type {\n",
       "        vertical-align: middle;\n",
       "    }\n",
       "\n",
       "    .dataframe tbody tr th {\n",
       "        vertical-align: top;\n",
       "    }\n",
       "\n",
       "    .dataframe thead th {\n",
       "        text-align: right;\n",
       "    }\n",
       "</style>\n",
       "<table border=\"1\" class=\"dataframe\">\n",
       "  <thead>\n",
       "    <tr style=\"text-align: right;\">\n",
       "      <th></th>\n",
       "      <th>count</th>\n",
       "    </tr>\n",
       "  </thead>\n",
       "  <tbody>\n",
       "    <tr>\n",
       "      <th>Daylight</th>\n",
       "      <td>116137</td>\n",
       "    </tr>\n",
       "    <tr>\n",
       "      <th>Dark - Street Lights On</th>\n",
       "      <td>48507</td>\n",
       "    </tr>\n",
       "    <tr>\n",
       "      <th>Unknown</th>\n",
       "      <td>13473</td>\n",
       "    </tr>\n",
       "    <tr>\n",
       "      <th>Dusk</th>\n",
       "      <td>5902</td>\n",
       "    </tr>\n",
       "    <tr>\n",
       "      <th>Dawn</th>\n",
       "      <td>2502</td>\n",
       "    </tr>\n",
       "    <tr>\n",
       "      <th>Dark - No Street Lights</th>\n",
       "      <td>1537</td>\n",
       "    </tr>\n",
       "    <tr>\n",
       "      <th>Dark - Street Lights Off</th>\n",
       "      <td>1199</td>\n",
       "    </tr>\n",
       "    <tr>\n",
       "      <th>Other</th>\n",
       "      <td>235</td>\n",
       "    </tr>\n",
       "    <tr>\n",
       "      <th>Dark - Unknown Lighting</th>\n",
       "      <td>11</td>\n",
       "    </tr>\n",
       "  </tbody>\n",
       "</table>\n",
       "</div>"
      ],
      "text/plain": [
       "                           count\n",
       "Daylight                  116137\n",
       "Dark - Street Lights On    48507\n",
       "Unknown                    13473\n",
       "Dusk                        5902\n",
       "Dawn                        2502\n",
       "Dark - No Street Lights     1537\n",
       "Dark - Street Lights Off    1199\n",
       "Other                        235\n",
       "Dark - Unknown Lighting       11"
      ]
     },
     "execution_count": 16,
     "metadata": {},
     "output_type": "execute_result"
    }
   ],
   "source": [
    "df.lightcond.value_counts().to_frame(\"count\")"
   ]
  },
  {
   "cell_type": "code",
   "execution_count": 17,
   "metadata": {},
   "outputs": [
    {
     "data": {
      "text/html": [
       "<div>\n",
       "<style scoped>\n",
       "    .dataframe tbody tr th:only-of-type {\n",
       "        vertical-align: middle;\n",
       "    }\n",
       "\n",
       "    .dataframe tbody tr th {\n",
       "        vertical-align: top;\n",
       "    }\n",
       "\n",
       "    .dataframe thead th {\n",
       "        text-align: right;\n",
       "    }\n",
       "</style>\n",
       "<table border=\"1\" class=\"dataframe\">\n",
       "  <thead>\n",
       "    <tr style=\"text-align: right;\">\n",
       "      <th></th>\n",
       "      <th>count</th>\n",
       "    </tr>\n",
       "  </thead>\n",
       "  <tbody>\n",
       "    <tr>\n",
       "      <th>N</th>\n",
       "      <td>185340</td>\n",
       "    </tr>\n",
       "    <tr>\n",
       "      <th>Y</th>\n",
       "      <td>9333</td>\n",
       "    </tr>\n",
       "  </tbody>\n",
       "</table>\n",
       "</div>"
      ],
      "text/plain": [
       "    count\n",
       "N  185340\n",
       "Y    9333"
      ]
     },
     "execution_count": 17,
     "metadata": {},
     "output_type": "execute_result"
    }
   ],
   "source": [
    "df.speeding = df.speeding.fillna(\"N\")\n",
    "df.speeding.value_counts().to_frame(\"count\")"
   ]
  },
  {
   "cell_type": "code",
   "execution_count": 18,
   "metadata": {},
   "outputs": [
    {
     "data": {
      "text/html": [
       "<div>\n",
       "<style scoped>\n",
       "    .dataframe tbody tr th:only-of-type {\n",
       "        vertical-align: middle;\n",
       "    }\n",
       "\n",
       "    .dataframe tbody tr th {\n",
       "        vertical-align: top;\n",
       "    }\n",
       "\n",
       "    .dataframe thead th {\n",
       "        text-align: right;\n",
       "    }\n",
       "</style>\n",
       "<table border=\"1\" class=\"dataframe\">\n",
       "  <thead>\n",
       "    <tr style=\"text-align: right;\">\n",
       "      <th></th>\n",
       "      <th>count</th>\n",
       "    </tr>\n",
       "  </thead>\n",
       "  <tbody>\n",
       "    <tr>\n",
       "      <th>N</th>\n",
       "      <td>187457</td>\n",
       "    </tr>\n",
       "    <tr>\n",
       "      <th>Y</th>\n",
       "      <td>7216</td>\n",
       "    </tr>\n",
       "  </tbody>\n",
       "</table>\n",
       "</div>"
      ],
      "text/plain": [
       "    count\n",
       "N  187457\n",
       "Y    7216"
      ]
     },
     "execution_count": 18,
     "metadata": {},
     "output_type": "execute_result"
    }
   ],
   "source": [
    "df.hitparkedcar.value_counts().to_frame(\"count\")"
   ]
  },
  {
   "cell_type": "code",
   "execution_count": 19,
   "metadata": {},
   "outputs": [
    {
     "data": {
      "text/plain": [
       "severitycode           0\n",
       "x                   5334\n",
       "y                   5334\n",
       "objectid               0\n",
       "inckey                 0\n",
       "coldetkey              0\n",
       "reportno               0\n",
       "status                 0\n",
       "addrtype            1926\n",
       "intkey            129603\n",
       "location            2677\n",
       "exceptrsncode     109862\n",
       "exceptrsndesc     189035\n",
       "severitycode.1         0\n",
       "severitydesc           0\n",
       "collisiontype       4904\n",
       "personcount            0\n",
       "pedcount               0\n",
       "pedcylcount            0\n",
       "vehcount               0\n",
       "incdate                0\n",
       "incdttm                0\n",
       "junctiontype        6329\n",
       "sdot_colcode           0\n",
       "sdot_coldesc           0\n",
       "inattentionind         0\n",
       "underinfl           4884\n",
       "weather             5081\n",
       "roadcond            5012\n",
       "lightcond           5170\n",
       "pedrownotgrnt     190006\n",
       "sdotcolnum         79737\n",
       "speeding               0\n",
       "st_colcode            18\n",
       "st_coldesc          4904\n",
       "seglanekey             0\n",
       "crosswalkkey           0\n",
       "hitparkedcar           0\n",
       "dtype: int64"
      ]
     },
     "execution_count": 19,
     "metadata": {},
     "output_type": "execute_result"
    }
   ],
   "source": [
    "df.isna().sum()"
   ]
  },
  {
   "cell_type": "markdown",
   "metadata": {},
   "source": [
    "# Data Pre-processing"
   ]
  },
  {
   "cell_type": "code",
   "execution_count": 20,
   "metadata": {},
   "outputs": [
    {
     "data": {
      "text/plain": [
       "0"
      ]
     },
     "execution_count": 20,
     "metadata": {},
     "output_type": "execute_result"
    }
   ],
   "source": [
    "df.duplicated().sum()"
   ]
  },
  {
   "cell_type": "code",
   "execution_count": 21,
   "metadata": {},
   "outputs": [],
   "source": [
    "df_clean = df[[\"severitycode\",\"weather\",\"lightcond\",\"roadcond\",\"speeding\",\n",
    "                 \"underinfl\",\"personcount\",\"pedcylcount\",\"pedcount\",\"vehcount\",\n",
    "                \"junctiontype\",\"crosswalkkey\"]]"
   ]
  },
  {
   "cell_type": "code",
   "execution_count": 22,
   "metadata": {},
   "outputs": [
    {
     "data": {
      "text/html": [
       "<div>\n",
       "<style scoped>\n",
       "    .dataframe tbody tr th:only-of-type {\n",
       "        vertical-align: middle;\n",
       "    }\n",
       "\n",
       "    .dataframe tbody tr th {\n",
       "        vertical-align: top;\n",
       "    }\n",
       "\n",
       "    .dataframe thead th {\n",
       "        text-align: right;\n",
       "    }\n",
       "</style>\n",
       "<table border=\"1\" class=\"dataframe\">\n",
       "  <thead>\n",
       "    <tr style=\"text-align: right;\">\n",
       "      <th></th>\n",
       "      <th>severitycode</th>\n",
       "      <th>weather</th>\n",
       "      <th>lightcond</th>\n",
       "      <th>roadcond</th>\n",
       "      <th>speeding</th>\n",
       "      <th>underinfl</th>\n",
       "      <th>personcount</th>\n",
       "      <th>pedcylcount</th>\n",
       "      <th>pedcount</th>\n",
       "      <th>vehcount</th>\n",
       "      <th>junctiontype</th>\n",
       "      <th>crosswalkkey</th>\n",
       "    </tr>\n",
       "  </thead>\n",
       "  <tbody>\n",
       "    <tr>\n",
       "      <th>0</th>\n",
       "      <td>2</td>\n",
       "      <td>Overcast</td>\n",
       "      <td>Daylight</td>\n",
       "      <td>Wet</td>\n",
       "      <td>N</td>\n",
       "      <td>N</td>\n",
       "      <td>2</td>\n",
       "      <td>0</td>\n",
       "      <td>0</td>\n",
       "      <td>2</td>\n",
       "      <td>At Intersection (intersection related)</td>\n",
       "      <td>0</td>\n",
       "    </tr>\n",
       "    <tr>\n",
       "      <th>1</th>\n",
       "      <td>1</td>\n",
       "      <td>Raining</td>\n",
       "      <td>Dark - Street Lights On</td>\n",
       "      <td>Wet</td>\n",
       "      <td>N</td>\n",
       "      <td>0</td>\n",
       "      <td>2</td>\n",
       "      <td>0</td>\n",
       "      <td>0</td>\n",
       "      <td>2</td>\n",
       "      <td>Mid-Block (not related to intersection)</td>\n",
       "      <td>0</td>\n",
       "    </tr>\n",
       "    <tr>\n",
       "      <th>2</th>\n",
       "      <td>1</td>\n",
       "      <td>Overcast</td>\n",
       "      <td>Daylight</td>\n",
       "      <td>Dry</td>\n",
       "      <td>N</td>\n",
       "      <td>0</td>\n",
       "      <td>4</td>\n",
       "      <td>0</td>\n",
       "      <td>0</td>\n",
       "      <td>3</td>\n",
       "      <td>Mid-Block (not related to intersection)</td>\n",
       "      <td>0</td>\n",
       "    </tr>\n",
       "    <tr>\n",
       "      <th>3</th>\n",
       "      <td>1</td>\n",
       "      <td>Clear</td>\n",
       "      <td>Daylight</td>\n",
       "      <td>Dry</td>\n",
       "      <td>N</td>\n",
       "      <td>N</td>\n",
       "      <td>3</td>\n",
       "      <td>0</td>\n",
       "      <td>0</td>\n",
       "      <td>3</td>\n",
       "      <td>Mid-Block (not related to intersection)</td>\n",
       "      <td>0</td>\n",
       "    </tr>\n",
       "    <tr>\n",
       "      <th>4</th>\n",
       "      <td>2</td>\n",
       "      <td>Raining</td>\n",
       "      <td>Daylight</td>\n",
       "      <td>Wet</td>\n",
       "      <td>N</td>\n",
       "      <td>0</td>\n",
       "      <td>2</td>\n",
       "      <td>0</td>\n",
       "      <td>0</td>\n",
       "      <td>2</td>\n",
       "      <td>At Intersection (intersection related)</td>\n",
       "      <td>0</td>\n",
       "    </tr>\n",
       "  </tbody>\n",
       "</table>\n",
       "</div>"
      ],
      "text/plain": [
       "   severitycode   weather                lightcond roadcond speeding  \\\n",
       "0             2  Overcast                 Daylight      Wet        N   \n",
       "1             1   Raining  Dark - Street Lights On      Wet        N   \n",
       "2             1  Overcast                 Daylight      Dry        N   \n",
       "3             1     Clear                 Daylight      Dry        N   \n",
       "4             2   Raining                 Daylight      Wet        N   \n",
       "\n",
       "  underinfl  personcount  pedcylcount  pedcount  vehcount  \\\n",
       "0         N            2            0         0         2   \n",
       "1         0            2            0         0         2   \n",
       "2         0            4            0         0         3   \n",
       "3         N            3            0         0         3   \n",
       "4         0            2            0         0         2   \n",
       "\n",
       "                              junctiontype  crosswalkkey  \n",
       "0   At Intersection (intersection related)             0  \n",
       "1  Mid-Block (not related to intersection)             0  \n",
       "2  Mid-Block (not related to intersection)             0  \n",
       "3  Mid-Block (not related to intersection)             0  \n",
       "4   At Intersection (intersection related)             0  "
      ]
     },
     "execution_count": 22,
     "metadata": {},
     "output_type": "execute_result"
    }
   ],
   "source": [
    "df_clean.head()"
   ]
  },
  {
   "cell_type": "code",
   "execution_count": 23,
   "metadata": {},
   "outputs": [
    {
     "data": {
      "text/html": [
       "<div>\n",
       "<style scoped>\n",
       "    .dataframe tbody tr th:only-of-type {\n",
       "        vertical-align: middle;\n",
       "    }\n",
       "\n",
       "    .dataframe tbody tr th {\n",
       "        vertical-align: top;\n",
       "    }\n",
       "\n",
       "    .dataframe thead th {\n",
       "        text-align: right;\n",
       "    }\n",
       "</style>\n",
       "<table border=\"1\" class=\"dataframe\">\n",
       "  <thead>\n",
       "    <tr style=\"text-align: right;\">\n",
       "      <th></th>\n",
       "      <th>count</th>\n",
       "    </tr>\n",
       "  </thead>\n",
       "  <tbody>\n",
       "    <tr>\n",
       "      <th>0</th>\n",
       "      <td>185340</td>\n",
       "    </tr>\n",
       "    <tr>\n",
       "      <th>1</th>\n",
       "      <td>9333</td>\n",
       "    </tr>\n",
       "  </tbody>\n",
       "</table>\n",
       "</div>"
      ],
      "text/plain": [
       "    count\n",
       "0  185340\n",
       "1    9333"
      ]
     },
     "execution_count": 23,
     "metadata": {},
     "output_type": "execute_result"
    }
   ],
   "source": [
    "df_clean[\"speeding\"].replace(to_replace=['N','Y'], value=[0,1], inplace=True)\n",
    "df_clean.speeding.value_counts().to_frame(\"count\")"
   ]
  },
  {
   "cell_type": "code",
   "execution_count": 24,
   "metadata": {},
   "outputs": [
    {
     "data": {
      "text/html": [
       "<div>\n",
       "<style scoped>\n",
       "    .dataframe tbody tr th:only-of-type {\n",
       "        vertical-align: middle;\n",
       "    }\n",
       "\n",
       "    .dataframe tbody tr th {\n",
       "        vertical-align: top;\n",
       "    }\n",
       "\n",
       "    .dataframe thead th {\n",
       "        text-align: right;\n",
       "    }\n",
       "</style>\n",
       "<table border=\"1\" class=\"dataframe\">\n",
       "  <thead>\n",
       "    <tr style=\"text-align: right;\">\n",
       "      <th></th>\n",
       "      <th>count</th>\n",
       "    </tr>\n",
       "  </thead>\n",
       "  <tbody>\n",
       "    <tr>\n",
       "      <th>Mid-Block (not related to intersection)</th>\n",
       "      <td>89800</td>\n",
       "    </tr>\n",
       "    <tr>\n",
       "      <th>At Intersection (intersection related)</th>\n",
       "      <td>62810</td>\n",
       "    </tr>\n",
       "    <tr>\n",
       "      <th>Mid-Block (but intersection related)</th>\n",
       "      <td>22790</td>\n",
       "    </tr>\n",
       "    <tr>\n",
       "      <th>Driveway Junction</th>\n",
       "      <td>10671</td>\n",
       "    </tr>\n",
       "    <tr>\n",
       "      <th>At Intersection (but not related to intersection)</th>\n",
       "      <td>2098</td>\n",
       "    </tr>\n",
       "    <tr>\n",
       "      <th>Ramp Junction</th>\n",
       "      <td>166</td>\n",
       "    </tr>\n",
       "    <tr>\n",
       "      <th>Unknown</th>\n",
       "      <td>9</td>\n",
       "    </tr>\n",
       "  </tbody>\n",
       "</table>\n",
       "</div>"
      ],
      "text/plain": [
       "                                                   count\n",
       "Mid-Block (not related to intersection)            89800\n",
       "At Intersection (intersection related)             62810\n",
       "Mid-Block (but intersection related)               22790\n",
       "Driveway Junction                                  10671\n",
       "At Intersection (but not related to intersection)   2098\n",
       "Ramp Junction                                        166\n",
       "Unknown                                                9"
      ]
     },
     "execution_count": 24,
     "metadata": {},
     "output_type": "execute_result"
    }
   ],
   "source": [
    "df_clean.junctiontype.value_counts().to_frame(\"count\")"
   ]
  },
  {
   "cell_type": "code",
   "execution_count": 25,
   "metadata": {},
   "outputs": [],
   "source": [
    "df_clean[\"underinfl\"] = df_clean['underinfl'].map({'N': 0, '0': 0, 'Y': 1, '1': 1})"
   ]
  },
  {
   "cell_type": "code",
   "execution_count": 26,
   "metadata": {},
   "outputs": [
    {
     "data": {
      "text/html": [
       "<div>\n",
       "<style scoped>\n",
       "    .dataframe tbody tr th:only-of-type {\n",
       "        vertical-align: middle;\n",
       "    }\n",
       "\n",
       "    .dataframe tbody tr th {\n",
       "        vertical-align: top;\n",
       "    }\n",
       "\n",
       "    .dataframe thead th {\n",
       "        text-align: right;\n",
       "    }\n",
       "</style>\n",
       "<table border=\"1\" class=\"dataframe\">\n",
       "  <thead>\n",
       "    <tr style=\"text-align: right;\">\n",
       "      <th></th>\n",
       "      <th>count</th>\n",
       "    </tr>\n",
       "  </thead>\n",
       "  <tbody>\n",
       "    <tr>\n",
       "      <th>0.0</th>\n",
       "      <td>180668</td>\n",
       "    </tr>\n",
       "    <tr>\n",
       "      <th>1.0</th>\n",
       "      <td>9121</td>\n",
       "    </tr>\n",
       "  </tbody>\n",
       "</table>\n",
       "</div>"
      ],
      "text/plain": [
       "      count\n",
       "0.0  180668\n",
       "1.0    9121"
      ]
     },
     "execution_count": 26,
     "metadata": {},
     "output_type": "execute_result"
    }
   ],
   "source": [
    "df_clean.underinfl.value_counts().to_frame(\"count\")"
   ]
  },
  {
   "cell_type": "code",
   "execution_count": 27,
   "metadata": {},
   "outputs": [
    {
     "data": {
      "text/html": [
       "<div>\n",
       "<style scoped>\n",
       "    .dataframe tbody tr th:only-of-type {\n",
       "        vertical-align: middle;\n",
       "    }\n",
       "\n",
       "    .dataframe tbody tr th {\n",
       "        vertical-align: top;\n",
       "    }\n",
       "\n",
       "    .dataframe thead th {\n",
       "        text-align: right;\n",
       "    }\n",
       "</style>\n",
       "<table border=\"1\" class=\"dataframe\">\n",
       "  <thead>\n",
       "    <tr style=\"text-align: right;\">\n",
       "      <th></th>\n",
       "      <th>severitycode</th>\n",
       "      <th>weather</th>\n",
       "      <th>lightcond</th>\n",
       "      <th>roadcond</th>\n",
       "      <th>speeding</th>\n",
       "      <th>underinfl</th>\n",
       "      <th>personcount</th>\n",
       "      <th>pedcylcount</th>\n",
       "      <th>pedcount</th>\n",
       "      <th>vehcount</th>\n",
       "      <th>junctiontype</th>\n",
       "      <th>crosswalkkey</th>\n",
       "    </tr>\n",
       "  </thead>\n",
       "  <tbody>\n",
       "    <tr>\n",
       "      <th>0</th>\n",
       "      <td>2</td>\n",
       "      <td>Overcast</td>\n",
       "      <td>Daylight</td>\n",
       "      <td>Wet</td>\n",
       "      <td>0</td>\n",
       "      <td>0.0</td>\n",
       "      <td>2</td>\n",
       "      <td>0</td>\n",
       "      <td>0</td>\n",
       "      <td>2</td>\n",
       "      <td>At Intersection (intersection related)</td>\n",
       "      <td>0</td>\n",
       "    </tr>\n",
       "    <tr>\n",
       "      <th>1</th>\n",
       "      <td>1</td>\n",
       "      <td>Raining</td>\n",
       "      <td>Dark - Street Lights On</td>\n",
       "      <td>Wet</td>\n",
       "      <td>0</td>\n",
       "      <td>0.0</td>\n",
       "      <td>2</td>\n",
       "      <td>0</td>\n",
       "      <td>0</td>\n",
       "      <td>2</td>\n",
       "      <td>Mid-Block (not related to intersection)</td>\n",
       "      <td>0</td>\n",
       "    </tr>\n",
       "    <tr>\n",
       "      <th>2</th>\n",
       "      <td>1</td>\n",
       "      <td>Overcast</td>\n",
       "      <td>Daylight</td>\n",
       "      <td>Dry</td>\n",
       "      <td>0</td>\n",
       "      <td>0.0</td>\n",
       "      <td>4</td>\n",
       "      <td>0</td>\n",
       "      <td>0</td>\n",
       "      <td>3</td>\n",
       "      <td>Mid-Block (not related to intersection)</td>\n",
       "      <td>0</td>\n",
       "    </tr>\n",
       "    <tr>\n",
       "      <th>3</th>\n",
       "      <td>1</td>\n",
       "      <td>Clear</td>\n",
       "      <td>Daylight</td>\n",
       "      <td>Dry</td>\n",
       "      <td>0</td>\n",
       "      <td>0.0</td>\n",
       "      <td>3</td>\n",
       "      <td>0</td>\n",
       "      <td>0</td>\n",
       "      <td>3</td>\n",
       "      <td>Mid-Block (not related to intersection)</td>\n",
       "      <td>0</td>\n",
       "    </tr>\n",
       "    <tr>\n",
       "      <th>4</th>\n",
       "      <td>2</td>\n",
       "      <td>Raining</td>\n",
       "      <td>Daylight</td>\n",
       "      <td>Wet</td>\n",
       "      <td>0</td>\n",
       "      <td>0.0</td>\n",
       "      <td>2</td>\n",
       "      <td>0</td>\n",
       "      <td>0</td>\n",
       "      <td>2</td>\n",
       "      <td>At Intersection (intersection related)</td>\n",
       "      <td>0</td>\n",
       "    </tr>\n",
       "  </tbody>\n",
       "</table>\n",
       "</div>"
      ],
      "text/plain": [
       "   severitycode   weather                lightcond roadcond  speeding  \\\n",
       "0             2  Overcast                 Daylight      Wet         0   \n",
       "1             1   Raining  Dark - Street Lights On      Wet         0   \n",
       "2             1  Overcast                 Daylight      Dry         0   \n",
       "3             1     Clear                 Daylight      Dry         0   \n",
       "4             2   Raining                 Daylight      Wet         0   \n",
       "\n",
       "   underinfl  personcount  pedcylcount  pedcount  vehcount  \\\n",
       "0        0.0            2            0         0         2   \n",
       "1        0.0            2            0         0         2   \n",
       "2        0.0            4            0         0         3   \n",
       "3        0.0            3            0         0         3   \n",
       "4        0.0            2            0         0         2   \n",
       "\n",
       "                              junctiontype  crosswalkkey  \n",
       "0   At Intersection (intersection related)             0  \n",
       "1  Mid-Block (not related to intersection)             0  \n",
       "2  Mid-Block (not related to intersection)             0  \n",
       "3  Mid-Block (not related to intersection)             0  \n",
       "4   At Intersection (intersection related)             0  "
      ]
     },
     "execution_count": 27,
     "metadata": {},
     "output_type": "execute_result"
    }
   ],
   "source": [
    "df_clean.head()"
   ]
  },
  {
   "cell_type": "markdown",
   "metadata": {},
   "source": [
    "## Missing Values"
   ]
  },
  {
   "cell_type": "code",
   "execution_count": 28,
   "metadata": {},
   "outputs": [
    {
     "data": {
      "text/plain": [
       "severitycode       0\n",
       "weather         5081\n",
       "lightcond       5170\n",
       "roadcond        5012\n",
       "speeding           0\n",
       "underinfl       4884\n",
       "personcount        0\n",
       "pedcylcount        0\n",
       "pedcount           0\n",
       "vehcount           0\n",
       "junctiontype    6329\n",
       "crosswalkkey       0\n",
       "dtype: int64"
      ]
     },
     "execution_count": 28,
     "metadata": {},
     "output_type": "execute_result"
    }
   ],
   "source": [
    "df_clean.isna().sum()"
   ]
  },
  {
   "cell_type": "code",
   "execution_count": 29,
   "metadata": {},
   "outputs": [
    {
     "data": {
      "text/plain": [
       "194673"
      ]
     },
     "execution_count": 29,
     "metadata": {},
     "output_type": "execute_result"
    }
   ],
   "source": [
    "len(df_clean)"
   ]
  },
  {
   "cell_type": "code",
   "execution_count": 30,
   "metadata": {},
   "outputs": [],
   "source": [
    "df_clean.dropna(axis = 0, inplace = True)"
   ]
  },
  {
   "cell_type": "code",
   "execution_count": 31,
   "metadata": {},
   "outputs": [
    {
     "data": {
      "text/plain": [
       "severitycode    0\n",
       "weather         0\n",
       "lightcond       0\n",
       "roadcond        0\n",
       "speeding        0\n",
       "underinfl       0\n",
       "personcount     0\n",
       "pedcylcount     0\n",
       "pedcount        0\n",
       "vehcount        0\n",
       "junctiontype    0\n",
       "crosswalkkey    0\n",
       "dtype: int64"
      ]
     },
     "execution_count": 31,
     "metadata": {},
     "output_type": "execute_result"
    }
   ],
   "source": [
    "df_clean.isna().sum()"
   ]
  },
  {
   "cell_type": "code",
   "execution_count": 32,
   "metadata": {},
   "outputs": [
    {
     "data": {
      "text/plain": [
       "183196"
      ]
     },
     "execution_count": 32,
     "metadata": {},
     "output_type": "execute_result"
    }
   ],
   "source": [
    "len(df_clean)"
   ]
  },
  {
   "cell_type": "code",
   "execution_count": 33,
   "metadata": {},
   "outputs": [
    {
     "name": "stdout",
     "output_type": "stream",
     "text": [
      "<class 'pandas.core.frame.DataFrame'>\n",
      "Int64Index: 183196 entries, 0 to 194672\n",
      "Data columns (total 12 columns):\n",
      " #   Column        Non-Null Count   Dtype  \n",
      "---  ------        --------------   -----  \n",
      " 0   severitycode  183196 non-null  int64  \n",
      " 1   weather       183196 non-null  object \n",
      " 2   lightcond     183196 non-null  object \n",
      " 3   roadcond      183196 non-null  object \n",
      " 4   speeding      183196 non-null  int64  \n",
      " 5   underinfl     183196 non-null  float64\n",
      " 6   personcount   183196 non-null  int64  \n",
      " 7   pedcylcount   183196 non-null  int64  \n",
      " 8   pedcount      183196 non-null  int64  \n",
      " 9   vehcount      183196 non-null  int64  \n",
      " 10  junctiontype  183196 non-null  object \n",
      " 11  crosswalkkey  183196 non-null  int64  \n",
      "dtypes: float64(1), int64(7), object(4)\n",
      "memory usage: 18.2+ MB\n"
     ]
    }
   ],
   "source": [
    "df_clean.info()"
   ]
  },
  {
   "cell_type": "code",
   "execution_count": 34,
   "metadata": {},
   "outputs": [
    {
     "data": {
      "text/plain": [
       "<matplotlib.axes._subplots.AxesSubplot at 0x2369fe50220>"
      ]
     },
     "execution_count": 34,
     "metadata": {},
     "output_type": "execute_result"
    },
    {
     "data": {
      "image/png": "[encoded data removed]",
      "text/plain": [
       "<Figure size 432x288 with 1 Axes>"
      ]
     },
     "metadata": {
      "needs_background": "light"
     },
     "output_type": "display_data"
    }
   ],
   "source": [
    "df_clean[\"weather\"].value_counts().plot.barh()"
   ]
  },
  {
   "cell_type": "code",
   "execution_count": 35,
   "metadata": {},
   "outputs": [
    {
     "data": {
      "text/plain": [
       "<matplotlib.axes._subplots.AxesSubplot at 0x236a0243df0>"
      ]
     },
     "execution_count": 35,
     "metadata": {},
     "output_type": "execute_result"
    },
    {
     "data": {
      "image/png": "[encoded data removed]",
      "text/plain": [
       "<Figure size 432x288 with 1 Axes>"
      ]
     },
     "metadata": {
      "needs_background": "light"
     },
     "output_type": "display_data"
    }
   ],
   "source": [
    "df_clean[\"lightcond\"].value_counts().plot.barh()"
   ]
  },
  {
   "cell_type": "code",
   "execution_count": 36,
   "metadata": {},
   "outputs": [
    {
     "data": {
      "text/plain": [
       "<matplotlib.axes._subplots.AxesSubplot at 0x236a2ff8760>"
      ]
     },
     "execution_count": 36,
     "metadata": {},
     "output_type": "execute_result"
    },
    {
     "data": {
      "image/png": "[encoded data removed]",
      "text/plain": [
       "<Figure size 432x288 with 1 Axes>"
      ]
     },
     "metadata": {
      "needs_background": "light"
     },
     "output_type": "display_data"
    }
   ],
   "source": [
    "df_clean[\"roadcond\"].value_counts().plot.barh()"
   ]
  },
  {
   "cell_type": "code",
   "execution_count": 37,
   "metadata": {},
   "outputs": [
    {
     "data": {
      "text/plain": [
       "<matplotlib.axes._subplots.AxesSubplot at 0x236a30674f0>"
      ]
     },
     "execution_count": 37,
     "metadata": {},
     "output_type": "execute_result"
    },
    {
     "data": {
      "image/png": "[encoded data removed]",
      "text/plain": [
       "<Figure size 432x288 with 1 Axes>"
      ]
     },
     "metadata": {
      "needs_background": "light"
     },
     "output_type": "display_data"
    }
   ],
   "source": [
    "df_clean[\"underinfl\"].value_counts().plot.barh()"
   ]
  },
  {
   "cell_type": "code",
   "execution_count": 38,
   "metadata": {},
   "outputs": [
    {
     "data": {
      "text/plain": [
       "<matplotlib.axes._subplots.AxesSubplot at 0x236a732a550>"
      ]
     },
     "execution_count": 38,
     "metadata": {},
     "output_type": "execute_result"
    },
    {
     "data": {
      "image/png": "[encoded data removed]",
      "text/plain": [
       "<Figure size 432x288 with 1 Axes>"
      ]
     },
     "metadata": {
      "needs_background": "light"
     },
     "output_type": "display_data"
    }
   ],
   "source": [
    "df_clean[\"junctiontype\"].value_counts().plot.barh()"
   ]
  },
  {
   "cell_type": "markdown",
   "metadata": {},
   "source": [
    "Numeric values summary"
   ]
  },
  {
   "cell_type": "code",
   "execution_count": 39,
   "metadata": {},
   "outputs": [
    {
     "data": {
      "text/html": [
       "<div>\n",
       "<style scoped>\n",
       "    .dataframe tbody tr th:only-of-type {\n",
       "        vertical-align: middle;\n",
       "    }\n",
       "\n",
       "    .dataframe tbody tr th {\n",
       "        vertical-align: top;\n",
       "    }\n",
       "\n",
       "    .dataframe thead th {\n",
       "        text-align: right;\n",
       "    }\n",
       "</style>\n",
       "<table border=\"1\" class=\"dataframe\">\n",
       "  <thead>\n",
       "    <tr style=\"text-align: right;\">\n",
       "      <th></th>\n",
       "      <th>count</th>\n",
       "      <th>mean</th>\n",
       "      <th>std</th>\n",
       "      <th>min</th>\n",
       "      <th>25%</th>\n",
       "      <th>50%</th>\n",
       "      <th>75%</th>\n",
       "      <th>max</th>\n",
       "    </tr>\n",
       "  </thead>\n",
       "  <tbody>\n",
       "    <tr>\n",
       "      <th>severitycode</th>\n",
       "      <td>183196.0</td>\n",
       "      <td>1.309335</td>\n",
       "      <td>0.462221</td>\n",
       "      <td>1.0</td>\n",
       "      <td>1.0</td>\n",
       "      <td>1.0</td>\n",
       "      <td>2.0</td>\n",
       "      <td>2.0</td>\n",
       "    </tr>\n",
       "    <tr>\n",
       "      <th>speeding</th>\n",
       "      <td>183196.0</td>\n",
       "      <td>0.050274</td>\n",
       "      <td>0.218510</td>\n",
       "      <td>0.0</td>\n",
       "      <td>0.0</td>\n",
       "      <td>0.0</td>\n",
       "      <td>0.0</td>\n",
       "      <td>1.0</td>\n",
       "    </tr>\n",
       "    <tr>\n",
       "      <th>underinfl</th>\n",
       "      <td>183196.0</td>\n",
       "      <td>0.049144</td>\n",
       "      <td>0.216169</td>\n",
       "      <td>0.0</td>\n",
       "      <td>0.0</td>\n",
       "      <td>0.0</td>\n",
       "      <td>0.0</td>\n",
       "      <td>1.0</td>\n",
       "    </tr>\n",
       "    <tr>\n",
       "      <th>personcount</th>\n",
       "      <td>183196.0</td>\n",
       "      <td>2.475660</td>\n",
       "      <td>1.370318</td>\n",
       "      <td>0.0</td>\n",
       "      <td>2.0</td>\n",
       "      <td>2.0</td>\n",
       "      <td>3.0</td>\n",
       "      <td>81.0</td>\n",
       "    </tr>\n",
       "    <tr>\n",
       "      <th>pedcylcount</th>\n",
       "      <td>183196.0</td>\n",
       "      <td>0.029886</td>\n",
       "      <td>0.171583</td>\n",
       "      <td>0.0</td>\n",
       "      <td>0.0</td>\n",
       "      <td>0.0</td>\n",
       "      <td>0.0</td>\n",
       "      <td>2.0</td>\n",
       "    </tr>\n",
       "    <tr>\n",
       "      <th>pedcount</th>\n",
       "      <td>183196.0</td>\n",
       "      <td>0.038942</td>\n",
       "      <td>0.202824</td>\n",
       "      <td>0.0</td>\n",
       "      <td>0.0</td>\n",
       "      <td>0.0</td>\n",
       "      <td>0.0</td>\n",
       "      <td>6.0</td>\n",
       "    </tr>\n",
       "    <tr>\n",
       "      <th>vehcount</th>\n",
       "      <td>183196.0</td>\n",
       "      <td>1.971828</td>\n",
       "      <td>0.563070</td>\n",
       "      <td>0.0</td>\n",
       "      <td>2.0</td>\n",
       "      <td>2.0</td>\n",
       "      <td>2.0</td>\n",
       "      <td>12.0</td>\n",
       "    </tr>\n",
       "    <tr>\n",
       "      <th>crosswalkkey</th>\n",
       "      <td>183196.0</td>\n",
       "      <td>10199.855701</td>\n",
       "      <td>73778.611075</td>\n",
       "      <td>0.0</td>\n",
       "      <td>0.0</td>\n",
       "      <td>0.0</td>\n",
       "      <td>0.0</td>\n",
       "      <td>5239700.0</td>\n",
       "    </tr>\n",
       "  </tbody>\n",
       "</table>\n",
       "</div>"
      ],
      "text/plain": [
       "                 count          mean           std  min  25%  50%  75%  \\\n",
       "severitycode  183196.0      1.309335      0.462221  1.0  1.0  1.0  2.0   \n",
       "speeding      183196.0      0.050274      0.218510  0.0  0.0  0.0  0.0   \n",
       "underinfl     183196.0      0.049144      0.216169  0.0  0.0  0.0  0.0   \n",
       "personcount   183196.0      2.475660      1.370318  0.0  2.0  2.0  3.0   \n",
       "pedcylcount   183196.0      0.029886      0.171583  0.0  0.0  0.0  0.0   \n",
       "pedcount      183196.0      0.038942      0.202824  0.0  0.0  0.0  0.0   \n",
       "vehcount      183196.0      1.971828      0.563070  0.0  2.0  2.0  2.0   \n",
       "crosswalkkey  183196.0  10199.855701  73778.611075  0.0  0.0  0.0  0.0   \n",
       "\n",
       "                    max  \n",
       "severitycode        2.0  \n",
       "speeding            1.0  \n",
       "underinfl           1.0  \n",
       "personcount        81.0  \n",
       "pedcylcount         2.0  \n",
       "pedcount            6.0  \n",
       "vehcount           12.0  \n",
       "crosswalkkey  5239700.0  "
      ]
     },
     "execution_count": 39,
     "metadata": {},
     "output_type": "execute_result"
    }
   ],
   "source": [
    "df_clean.describe().T"
   ]
  },
  {
   "cell_type": "code",
   "execution_count": 40,
   "metadata": {},
   "outputs": [
    {
     "data": {
      "text/plain": [
       "1     109163\n",
       "6      32678\n",
       "4      27208\n",
       "10     11767\n",
       "9        882\n",
       "3        749\n",
       "2        558\n",
       "8        112\n",
       "0         49\n",
       "7         25\n",
       "5          5\n",
       "Name: weather, dtype: int64"
      ]
     },
     "execution_count": 40,
     "metadata": {},
     "output_type": "execute_result"
    }
   ],
   "source": [
    "df_clean[\"weather\"] = df_clean[\"weather\"].astype(\"category\")\n",
    "df_clean[\"weather\"] = df_clean[\"weather\"].cat.codes\n",
    "df_clean[\"weather\"].value_counts()"
   ]
  },
  {
   "cell_type": "code",
   "execution_count": 41,
   "metadata": {},
   "outputs": [
    {
     "data": {
      "text/plain": [
       "5    113972\n",
       "2     47593\n",
       "8     10553\n",
       "6      5781\n",
       "4      2454\n",
       "0      1463\n",
       "1      1158\n",
       "7       211\n",
       "3        11\n",
       "Name: lightcond, dtype: int64"
      ]
     },
     "execution_count": 41,
     "metadata": {},
     "output_type": "execute_result"
    }
   ],
   "source": [
    "df_clean[\"lightcond\"] = df_clean[\"lightcond\"].astype(\"category\")\n",
    "df_clean[\"lightcond\"] = df_clean[\"lightcond\"].cat.codes\n",
    "df_clean[\"lightcond\"].value_counts()"
   ]
  },
  {
   "cell_type": "code",
   "execution_count": 42,
   "metadata": {},
   "outputs": [
    {
     "data": {
      "text/plain": [
       "0    122266\n",
       "8     46758\n",
       "7     11654\n",
       "1      1179\n",
       "5       980\n",
       "3       123\n",
       "6       109\n",
       "4        67\n",
       "2        60\n",
       "Name: roadcond, dtype: int64"
      ]
     },
     "execution_count": 42,
     "metadata": {},
     "output_type": "execute_result"
    }
   ],
   "source": [
    "df_clean[\"roadcond\"] = df_clean[\"roadcond\"].astype(\"category\")\n",
    "df_clean[\"roadcond\"] = df_clean[\"roadcond\"].cat.codes\n",
    "df_clean[\"roadcond\"].value_counts()"
   ]
  },
  {
   "cell_type": "code",
   "execution_count": 43,
   "metadata": {},
   "outputs": [
    {
     "data": {
      "text/plain": [
       "4    86856\n",
       "1    61241\n",
       "3    22353\n",
       "2    10520\n",
       "0     2057\n",
       "5      162\n",
       "6        7\n",
       "Name: junctiontype, dtype: int64"
      ]
     },
     "execution_count": 43,
     "metadata": {},
     "output_type": "execute_result"
    }
   ],
   "source": [
    "df_clean[\"junctiontype\"] = df_clean[\"junctiontype\"].astype(\"category\")\n",
    "df_clean[\"junctiontype\"] = df_clean[\"junctiontype\"].cat.codes\n",
    "df_clean[\"junctiontype\"].value_counts()"
   ]
  },
  {
   "cell_type": "code",
   "execution_count": 44,
   "metadata": {},
   "outputs": [
    {
     "name": "stdout",
     "output_type": "stream",
     "text": [
      "<class 'pandas.core.frame.DataFrame'>\n",
      "Int64Index: 183196 entries, 0 to 194672\n",
      "Data columns (total 12 columns):\n",
      " #   Column        Non-Null Count   Dtype  \n",
      "---  ------        --------------   -----  \n",
      " 0   severitycode  183196 non-null  int64  \n",
      " 1   weather       183196 non-null  int8   \n",
      " 2   lightcond     183196 non-null  int8   \n",
      " 3   roadcond      183196 non-null  int8   \n",
      " 4   speeding      183196 non-null  int64  \n",
      " 5   underinfl     183196 non-null  float64\n",
      " 6   personcount   183196 non-null  int64  \n",
      " 7   pedcylcount   183196 non-null  int64  \n",
      " 8   pedcount      183196 non-null  int64  \n",
      " 9   vehcount      183196 non-null  int64  \n",
      " 10  junctiontype  183196 non-null  int8   \n",
      " 11  crosswalkkey  183196 non-null  int64  \n",
      "dtypes: float64(1), int64(7), int8(4)\n",
      "memory usage: 13.3 MB\n"
     ]
    }
   ],
   "source": [
    "df_clean.info()"
   ]
  },
  {
   "cell_type": "markdown",
   "metadata": {},
   "source": [
    "# EDA"
   ]
  },
  {
   "cell_type": "markdown",
   "metadata": {},
   "source": [
    "## Corr Matrix"
   ]
  },
  {
   "cell_type": "code",
   "execution_count": 45,
   "metadata": {},
   "outputs": [
    {
     "data": {
      "image/png": "[encoded data removed]",
      "text/plain": [
       "<Figure size 1440x1080 with 4 Axes>"
      ]
     },
     "metadata": {
      "needs_background": "light"
     },
     "output_type": "display_data"
    }
   ],
   "source": [
    "corr_matrix = df_clean.corr()\n",
    "sns.clustermap(corr_matrix, annot = True, fmt = \".2f\", figsize=(20, 15))\n",
    "plt.title(\"correlation between features\")\n",
    "plt.show()"
   ]
  },
  {
   "cell_type": "code",
   "execution_count": 46,
   "metadata": {},
   "outputs": [
    {
     "data": {
      "text/plain": [
       "<matplotlib.axes._subplots.AxesSubplot at 0x236a7372df0>"
      ]
     },
     "execution_count": 46,
     "metadata": {},
     "output_type": "execute_result"
    },
    {
     "data": {
      "image/png": "[encoded data removed]",
      "text/plain": [
       "<Figure size 432x288 with 1 Axes>"
      ]
     },
     "metadata": {
      "needs_background": "light"
     },
     "output_type": "display_data"
    }
   ],
   "source": [
    "plt.figure()\n",
    "sns.countplot(df[\"severitycode\"])"
   ]
  },
  {
   "cell_type": "code",
   "execution_count": 47,
   "metadata": {},
   "outputs": [
    {
     "data": {
      "image/png": "[encoded data removed]",
      "text/plain": [
       "<Figure size 432x288 with 1 Axes>"
      ]
     },
     "metadata": {
      "needs_background": "light"
     },
     "output_type": "display_data"
    }
   ],
   "source": [
    "plt.figure()\n",
    "ax = sns.countplot(df[\"lightcond\"])\n",
    "ax.set_xticklabels(ax.get_xticklabels(), rotation=40, ha=\"right\")\n",
    "plt.tight_layout()"
   ]
  },
  {
   "cell_type": "code",
   "execution_count": 48,
   "metadata": {},
   "outputs": [
    {
     "data": {
      "image/png": "[encoded data removed]",
      "text/plain": [
       "<Figure size 432x288 with 1 Axes>"
      ]
     },
     "metadata": {
      "needs_background": "light"
     },
     "output_type": "display_data"
    }
   ],
   "source": [
    "plt.figure()\n",
    "ax = sns.countplot(df[\"weather\"])\n",
    "ax.set_xticklabels(ax.get_xticklabels(), rotation=40, ha=\"right\")\n",
    "plt.tight_layout()"
   ]
  },
  {
   "cell_type": "code",
   "execution_count": 49,
   "metadata": {},
   "outputs": [
    {
     "data": {
      "image/png": "[encoded data removed]",
      "text/plain": [
       "<Figure size 432x288 with 1 Axes>"
      ]
     },
     "metadata": {
      "needs_background": "light"
     },
     "output_type": "display_data"
    }
   ],
   "source": [
    "plt.figure()\n",
    "ax = sns.countplot(df[\"roadcond\"])\n",
    "ax.set_xticklabels(ax.get_xticklabels(), rotation=40, ha=\"right\")\n",
    "plt.tight_layout()"
   ]
  },
  {
   "cell_type": "code",
   "execution_count": 50,
   "metadata": {},
   "outputs": [
    {
     "data": {
      "image/png": "[encoded data removed]",
      "text/plain": [
       "<Figure size 432x288 with 1 Axes>"
      ]
     },
     "metadata": {
      "needs_background": "light"
     },
     "output_type": "display_data"
    }
   ],
   "source": [
    "plt.figure()\n",
    "ax = sns.countplot(df[\"junctiontype\"])\n",
    "ax.set_xticklabels(ax.get_xticklabels(), rotation=40, ha=\"right\")\n",
    "plt.tight_layout()"
   ]
  },
  {
   "cell_type": "markdown",
   "metadata": {},
   "source": [
    "## Train Test Split"
   ]
  },
  {
   "cell_type": "code",
   "execution_count": 51,
   "metadata": {},
   "outputs": [],
   "source": [
    "y = df_clean.severitycode\n",
    "X = df_clean.drop([\"severitycode\"], axis = 1)\n",
    "columns = X.columns.tolist()"
   ]
  },
  {
   "cell_type": "code",
   "execution_count": 52,
   "metadata": {},
   "outputs": [
    {
     "data": {
      "text/plain": [
       "array([[ 0.3765232 ,  0.39050716,  1.50405985, -0.23007671, -0.22734127,\n",
       "        -0.34711735, -0.17417903, -0.19199912,  0.050033  , -1.24738427,\n",
       "        -0.13824987],\n",
       "       [ 1.107783  , -1.40786766,  1.50405985, -0.23007671, -0.22734127,\n",
       "        -0.34711735, -0.17417903, -0.19199912,  0.050033  ,  0.93297139,\n",
       "        -0.13824987],\n",
       "       [ 0.3765232 ,  0.39050716, -0.6948855 , -0.23007671, -0.22734127,\n",
       "         1.11240159, -0.17417903, -0.19199912,  1.82601554,  0.93297139,\n",
       "        -0.13824987],\n",
       "       [-0.72036651,  0.39050716, -0.6948855 , -0.23007671, -0.22734127,\n",
       "         0.38264212, -0.17417903, -0.19199912,  1.82601554,  0.93297139,\n",
       "        -0.13824987],\n",
       "       [ 1.107783  ,  0.39050716,  1.50405985, -0.23007671, -0.22734127,\n",
       "        -0.34711735, -0.17417903, -0.19199912,  0.050033  , -1.24738427,\n",
       "        -0.13824987]])"
      ]
     },
     "execution_count": 52,
     "metadata": {},
     "output_type": "execute_result"
    }
   ],
   "source": [
    "from sklearn import preprocessing\n",
    "X = preprocessing.StandardScaler().fit(X).transform(X)\n",
    "X[0:5]"
   ]
  },
  {
   "cell_type": "code",
   "execution_count": 53,
   "metadata": {},
   "outputs": [
    {
     "name": "stdout",
     "output_type": "stream",
     "text": [
      "Train set: (146556, 11) (146556,)\n",
      "Test set: (36640, 11) (36640,)\n"
     ]
    }
   ],
   "source": [
    "from sklearn.model_selection import train_test_split\n",
    "X_train, X_test, y_train, y_test = train_test_split( X, y, test_size=0.2, random_state=4)\n",
    "print ('Train set:', X_train.shape,  y_train.shape)\n",
    "print ('Test set:', X_test.shape,  y_test.shape)"
   ]
  },
  {
   "cell_type": "markdown",
   "metadata": {},
   "source": [
    "## Logistic Regression"
   ]
  },
  {
   "cell_type": "code",
   "execution_count": 54,
   "metadata": {},
   "outputs": [
    {
     "data": {
      "text/plain": [
       "LogisticRegression(C=0.01, solver='liblinear')"
      ]
     },
     "execution_count": 54,
     "metadata": {},
     "output_type": "execute_result"
    }
   ],
   "source": [
    "from sklearn.linear_model import LogisticRegression\n",
    "from sklearn.metrics import confusion_matrix\n",
    "from sklearn.metrics import accuracy_score\n",
    "from sklearn.metrics import classification_report\n",
    "from sklearn.metrics import jaccard_score\n",
    "\n",
    "LR = LogisticRegression(C=0.01, solver='liblinear').fit(X_train,y_train)\n",
    "LR"
   ]
  },
  {
   "cell_type": "code",
   "execution_count": 55,
   "metadata": {},
   "outputs": [],
   "source": [
    "y_pred = LR.predict(X_test)"
   ]
  },
  {
   "cell_type": "code",
   "execution_count": 56,
   "metadata": {},
   "outputs": [],
   "source": [
    "y_pred_train = LR.predict(X_train)"
   ]
  },
  {
   "cell_type": "code",
   "execution_count": 57,
   "metadata": {},
   "outputs": [
    {
     "name": "stdout",
     "output_type": "stream",
     "text": [
      "test_score = 0.7437227074235808, train_score = 0.7444253391195175\n"
     ]
    }
   ],
   "source": [
    "acc_test = accuracy_score(y_test, y_pred)\n",
    "acc_train = accuracy_score(y_train, y_pred_train)\n",
    "print('test_score = {}, train_score = {}'.format(acc_test, acc_train))"
   ]
  },
  {
   "cell_type": "code",
   "execution_count": 58,
   "metadata": {},
   "outputs": [
    {
     "data": {
      "text/plain": [
       "array([[0.61436116, 0.38563884],\n",
       "       [0.54537733, 0.45462267],\n",
       "       [0.78096829, 0.21903171],\n",
       "       ...,\n",
       "       [0.72229635, 0.27770365],\n",
       "       [0.66395088, 0.33604912],\n",
       "       [0.80824756, 0.19175244]])"
      ]
     },
     "execution_count": 58,
     "metadata": {},
     "output_type": "execute_result"
    }
   ],
   "source": [
    "yhat_prob = LR.predict_proba(X_test)\n",
    "yhat_prob"
   ]
  },
  {
   "cell_type": "code",
   "execution_count": 59,
   "metadata": {},
   "outputs": [
    {
     "data": {
      "text/plain": [
       "0.7232537577365163"
      ]
     },
     "execution_count": 59,
     "metadata": {},
     "output_type": "execute_result"
    }
   ],
   "source": [
    "jaccard_score(y_test, y_pred)"
   ]
  },
  {
   "cell_type": "code",
   "execution_count": 60,
   "metadata": {},
   "outputs": [
    {
     "data": {
      "text/plain": [
       "0.5387037404106739"
      ]
     },
     "execution_count": 60,
     "metadata": {},
     "output_type": "execute_result"
    }
   ],
   "source": [
    "from sklearn.metrics import log_loss\n",
    "log_loss(y_test, yhat_prob)"
   ]
  },
  {
   "cell_type": "code",
   "execution_count": 61,
   "metadata": {},
   "outputs": [
    {
     "name": "stdout",
     "output_type": "stream",
     "text": [
      "              precision    recall  f1-score   support\n",
      "\n",
      "           1       0.74      0.97      0.84     25221\n",
      "           2       0.80      0.24      0.37     11419\n",
      "\n",
      "    accuracy                           0.74     36640\n",
      "   macro avg       0.77      0.61      0.60     36640\n",
      "weighted avg       0.76      0.74      0.69     36640\n",
      "\n"
     ]
    }
   ],
   "source": [
    "print(classification_report(y_test, y_pred))"
   ]
  },
  {
   "cell_type": "code",
   "execution_count": 62,
   "metadata": {},
   "outputs": [
    {
     "data": {
      "text/plain": [
       "array([[24540,   681],\n",
       "       [ 8709,  2710]], dtype=int64)"
      ]
     },
     "execution_count": 62,
     "metadata": {},
     "output_type": "execute_result"
    }
   ],
   "source": [
    "cm_log = confusion_matrix(y_test, y_pred)\n",
    "cm_log"
   ]
  },
  {
   "cell_type": "markdown",
   "metadata": {},
   "source": [
    "## Decision Tree"
   ]
  },
  {
   "cell_type": "code",
   "execution_count": 63,
   "metadata": {},
   "outputs": [],
   "source": [
    "from sklearn.tree import DecisionTreeClassifier\n",
    "from sklearn import metrics"
   ]
  },
  {
   "cell_type": "code",
   "execution_count": 64,
   "metadata": {},
   "outputs": [],
   "source": [
    "drugTree = DecisionTreeClassifier(criterion=\"entropy\", max_depth = 4)"
   ]
  },
  {
   "cell_type": "code",
   "execution_count": 65,
   "metadata": {},
   "outputs": [
    {
     "data": {
      "text/plain": [
       "DecisionTreeClassifier(criterion='entropy', max_depth=4)"
      ]
     },
     "execution_count": 65,
     "metadata": {},
     "output_type": "execute_result"
    }
   ],
   "source": [
    "drugTree.fit(X_train,y_train)"
   ]
  },
  {
   "cell_type": "code",
   "execution_count": 66,
   "metadata": {},
   "outputs": [],
   "source": [
    "y_pred = drugTree.predict(X_test)"
   ]
  },
  {
   "cell_type": "code",
   "execution_count": 67,
   "metadata": {},
   "outputs": [],
   "source": [
    "y_pred_train = drugTree.predict(X_train)"
   ]
  },
  {
   "cell_type": "code",
   "execution_count": 68,
   "metadata": {},
   "outputs": [
    {
     "name": "stdout",
     "output_type": "stream",
     "text": [
      "test_score = 0.7406386462882096, train_score = 0.7429105597860204\n"
     ]
    }
   ],
   "source": [
    "acc_test = accuracy_score(y_test, y_pred)\n",
    "acc_train = accuracy_score(y_train, y_pred_train)\n",
    "print('test_score = {}, train_score = {}'.format(acc_test, acc_train))"
   ]
  },
  {
   "cell_type": "code",
   "execution_count": 69,
   "metadata": {},
   "outputs": [
    {
     "data": {
      "text/plain": [
       "0.7242149863602066"
      ]
     },
     "execution_count": 69,
     "metadata": {},
     "output_type": "execute_result"
    }
   ],
   "source": [
    "jaccard_score(y_test, y_pred)"
   ]
  },
  {
   "cell_type": "code",
   "execution_count": 70,
   "metadata": {},
   "outputs": [
    {
     "name": "stdout",
     "output_type": "stream",
     "text": [
      "              precision    recall  f1-score   support\n",
      "\n",
      "           1       0.73      0.99      0.84     25221\n",
      "           2       0.89      0.19      0.31     11419\n",
      "\n",
      "    accuracy                           0.74     36640\n",
      "   macro avg       0.81      0.59      0.58     36640\n",
      "weighted avg       0.78      0.74      0.68     36640\n",
      "\n"
     ]
    }
   ],
   "source": [
    "print(classification_report(y_test, y_pred))"
   ]
  },
  {
   "cell_type": "code",
   "execution_count": 71,
   "metadata": {},
   "outputs": [
    {
     "data": {
      "text/plain": [
       "array([[24955,   266],\n",
       "       [ 9237,  2182]], dtype=int64)"
      ]
     },
     "execution_count": 71,
     "metadata": {},
     "output_type": "execute_result"
    }
   ],
   "source": [
    "cm_dt = confusion_matrix(y_test, y_pred)\n",
    "cm_dt"
   ]
  },
  {
   "cell_type": "markdown",
   "metadata": {},
   "source": [
    "## XGBoost"
   ]
  },
  {
   "cell_type": "code",
   "execution_count": 72,
   "metadata": {},
   "outputs": [],
   "source": [
    "from xgboost import XGBClassifier"
   ]
  },
  {
   "cell_type": "code",
   "execution_count": 73,
   "metadata": {},
   "outputs": [],
   "source": [
    "xgb_model = XGBClassifier().fit(X_train, y_train)"
   ]
  },
  {
   "cell_type": "code",
   "execution_count": 74,
   "metadata": {},
   "outputs": [],
   "source": [
    "y_pred = xgb_model.predict(X_test)"
   ]
  },
  {
   "cell_type": "code",
   "execution_count": 75,
   "metadata": {},
   "outputs": [],
   "source": [
    "y_pred_train = xgb_model.predict(X_train)"
   ]
  },
  {
   "cell_type": "code",
   "execution_count": 76,
   "metadata": {},
   "outputs": [
    {
     "name": "stdout",
     "output_type": "stream",
     "text": [
      "test_score = 0.7462882096069869, train_score = 0.7515420726548213\n"
     ]
    }
   ],
   "source": [
    "acc_test = accuracy_score(y_test, y_pred)\n",
    "acc_train = accuracy_score(y_train, y_pred_train)\n",
    "print('test_score = {}, train_score = {}'.format(acc_test, acc_train))"
   ]
  },
  {
   "cell_type": "code",
   "execution_count": 77,
   "metadata": {},
   "outputs": [
    {
     "data": {
      "text/plain": [
       "0.7243015599976274"
      ]
     },
     "execution_count": 77,
     "metadata": {},
     "output_type": "execute_result"
    }
   ],
   "source": [
    "jaccard_score(y_test, y_pred)"
   ]
  },
  {
   "cell_type": "code",
   "execution_count": 78,
   "metadata": {},
   "outputs": [
    {
     "name": "stdout",
     "output_type": "stream",
     "text": [
      "              precision    recall  f1-score   support\n",
      "\n",
      "           1       0.74      0.97      0.84     25221\n",
      "           2       0.79      0.26      0.39     11419\n",
      "\n",
      "    accuracy                           0.75     36640\n",
      "   macro avg       0.76      0.61      0.61     36640\n",
      "weighted avg       0.76      0.75      0.70     36640\n",
      "\n"
     ]
    }
   ],
   "source": [
    "print(classification_report(y_test, y_pred))"
   ]
  },
  {
   "cell_type": "code",
   "execution_count": 79,
   "metadata": {},
   "outputs": [
    {
     "data": {
      "text/plain": [
       "array([[24422,   799],\n",
       "       [ 8497,  2922]], dtype=int64)"
      ]
     },
     "execution_count": 79,
     "metadata": {},
     "output_type": "execute_result"
    }
   ],
   "source": [
    "cm_xgb = confusion_matrix(y_test, y_pred)\n",
    "cm_xgb"
   ]
  },
  {
   "cell_type": "markdown",
   "metadata": {},
   "source": [
    "## KNN"
   ]
  },
  {
   "cell_type": "code",
   "execution_count": 80,
   "metadata": {},
   "outputs": [],
   "source": [
    "from sklearn.neighbors import KNeighborsClassifier"
   ]
  },
  {
   "cell_type": "code",
   "execution_count": 81,
   "metadata": {},
   "outputs": [
    {
     "data": {
      "text/plain": [
       "KNeighborsClassifier()"
      ]
     },
     "execution_count": 81,
     "metadata": {},
     "output_type": "execute_result"
    }
   ],
   "source": [
    "knn = KNeighborsClassifier()\n",
    "knn_model = knn.fit(X_train, y_train)\n",
    "knn_model"
   ]
  },
  {
   "cell_type": "code",
   "execution_count": 82,
   "metadata": {},
   "outputs": [],
   "source": [
    "y_pred = knn_model.predict(X_test)"
   ]
  },
  {
   "cell_type": "code",
   "execution_count": 83,
   "metadata": {},
   "outputs": [],
   "source": [
    "y_pred_train = knn_model.predict(X_train)"
   ]
  },
  {
   "cell_type": "code",
   "execution_count": 84,
   "metadata": {},
   "outputs": [
    {
     "name": "stdout",
     "output_type": "stream",
     "text": [
      "test_score = 0.7237718340611353, train_score = 0.7357597095990611\n"
     ]
    }
   ],
   "source": [
    "acc_test = accuracy_score(y_test, y_pred)\n",
    "acc_train = accuracy_score(y_train, y_pred_train)\n",
    "print('test_score = {}, train_score = {}'.format(acc_test, acc_train))"
   ]
  },
  {
   "cell_type": "code",
   "execution_count": 85,
   "metadata": {},
   "outputs": [
    {
     "data": {
      "text/plain": [
       "0.6896826613521386"
      ]
     },
     "execution_count": 85,
     "metadata": {},
     "output_type": "execute_result"
    }
   ],
   "source": [
    "jaccard_knn = jaccard_score(y_test,y_pred)\n",
    "jaccard_knn"
   ]
  },
  {
   "cell_type": "code",
   "execution_count": 86,
   "metadata": {},
   "outputs": [
    {
     "name": "stdout",
     "output_type": "stream",
     "text": [
      "              precision    recall  f1-score   support\n",
      "\n",
      "           1       0.75      0.89      0.82     25221\n",
      "           2       0.60      0.35      0.44     11419\n",
      "\n",
      "    accuracy                           0.72     36640\n",
      "   macro avg       0.67      0.62      0.63     36640\n",
      "weighted avg       0.70      0.72      0.70     36640\n",
      "\n"
     ]
    }
   ],
   "source": [
    "print(classification_report(y_test, y_pred))"
   ]
  },
  {
   "cell_type": "code",
   "execution_count": 87,
   "metadata": {},
   "outputs": [
    {
     "data": {
      "text/plain": [
       "array([[22494,  2727],\n",
       "       [ 7394,  4025]], dtype=int64)"
      ]
     },
     "execution_count": 87,
     "metadata": {},
     "output_type": "execute_result"
    }
   ],
   "source": [
    "cm_knn = confusion_matrix(y_test, y_pred)\n",
    "cm_knn"
   ]
  },
  {
   "cell_type": "markdown",
   "metadata": {},
   "source": [
    "## Random Forest"
   ]
  },
  {
   "cell_type": "code",
   "execution_count": 88,
   "metadata": {},
   "outputs": [],
   "source": [
    "from sklearn.ensemble import RandomForestClassifier"
   ]
  },
  {
   "cell_type": "code",
   "execution_count": 89,
   "metadata": {},
   "outputs": [],
   "source": [
    "rf_model = RandomForestClassifier().fit(X_train, y_train)"
   ]
  },
  {
   "cell_type": "code",
   "execution_count": 90,
   "metadata": {},
   "outputs": [],
   "source": [
    "y_pred = rf_model.predict(X_test)"
   ]
  },
  {
   "cell_type": "code",
   "execution_count": 91,
   "metadata": {},
   "outputs": [],
   "source": [
    "y_pred_train = rf_model.predict(X_train)"
   ]
  },
  {
   "cell_type": "code",
   "execution_count": 92,
   "metadata": {},
   "outputs": [
    {
     "name": "stdout",
     "output_type": "stream",
     "text": [
      "test_score = 0.73992903930131, train_score = 0.764151587106635\n"
     ]
    }
   ],
   "source": [
    "acc_test = accuracy_score(y_test, y_pred)\n",
    "acc_train = accuracy_score(y_train, y_pred_train)\n",
    "print('test_score = {}, train_score = {}'.format(acc_test, acc_train))"
   ]
  },
  {
   "cell_type": "code",
   "execution_count": 93,
   "metadata": {},
   "outputs": [
    {
     "data": {
      "text/plain": [
       "0.7156456089045388"
      ]
     },
     "execution_count": 93,
     "metadata": {},
     "output_type": "execute_result"
    }
   ],
   "source": [
    "jaccard_score(y_test,y_pred)"
   ]
  },
  {
   "cell_type": "code",
   "execution_count": 94,
   "metadata": {},
   "outputs": [
    {
     "name": "stdout",
     "output_type": "stream",
     "text": [
      "              precision    recall  f1-score   support\n",
      "\n",
      "           1       0.74      0.95      0.83     25221\n",
      "           2       0.72      0.27      0.40     11419\n",
      "\n",
      "    accuracy                           0.74     36640\n",
      "   macro avg       0.73      0.61      0.62     36640\n",
      "weighted avg       0.73      0.74      0.70     36640\n",
      "\n"
     ]
    }
   ],
   "source": [
    "print(classification_report(y_test, y_pred))"
   ]
  },
  {
   "cell_type": "code",
   "execution_count": 95,
   "metadata": {},
   "outputs": [
    {
     "data": {
      "text/plain": [
       "array([[23982,  1239],\n",
       "       [ 8290,  3129]], dtype=int64)"
      ]
     },
     "execution_count": 95,
     "metadata": {},
     "output_type": "execute_result"
    }
   ],
   "source": [
    "cm_rf = confusion_matrix(y_test, y_pred)\n",
    "cm_rf"
   ]
  },
  {
   "cell_type": "markdown",
   "metadata": {},
   "source": [
    "## GBM"
   ]
  },
  {
   "cell_type": "code",
   "execution_count": 96,
   "metadata": {},
   "outputs": [],
   "source": [
    "from sklearn.ensemble import GradientBoostingClassifier"
   ]
  },
  {
   "cell_type": "code",
   "execution_count": 97,
   "metadata": {},
   "outputs": [],
   "source": [
    "gbm_model = GradientBoostingClassifier().fit(X_train, y_train)"
   ]
  },
  {
   "cell_type": "code",
   "execution_count": 98,
   "metadata": {},
   "outputs": [],
   "source": [
    "y_pred = gbm_model.predict(X_test)"
   ]
  },
  {
   "cell_type": "code",
   "execution_count": 99,
   "metadata": {},
   "outputs": [],
   "source": [
    "y_pred_train = rf_model.predict(X_train)"
   ]
  },
  {
   "cell_type": "code",
   "execution_count": 100,
   "metadata": {},
   "outputs": [
    {
     "name": "stdout",
     "output_type": "stream",
     "text": [
      "test_score = 0.7456331877729258, train_score = 0.764151587106635\n"
     ]
    }
   ],
   "source": [
    "acc_test = accuracy_score(y_test, y_pred)\n",
    "acc_train = accuracy_score(y_train, y_pred_train)\n",
    "print('test_score = {}, train_score = {}'.format(acc_test, acc_train))"
   ]
  },
  {
   "cell_type": "code",
   "execution_count": 101,
   "metadata": {},
   "outputs": [
    {
     "data": {
      "text/plain": [
       "0.7248302332447594"
      ]
     },
     "execution_count": 101,
     "metadata": {},
     "output_type": "execute_result"
    }
   ],
   "source": [
    "jaccard_score(y_test,y_pred)"
   ]
  },
  {
   "cell_type": "code",
   "execution_count": 102,
   "metadata": {},
   "outputs": [
    {
     "name": "stdout",
     "output_type": "stream",
     "text": [
      "              precision    recall  f1-score   support\n",
      "\n",
      "           1       0.74      0.97      0.84     25221\n",
      "           2       0.80      0.24      0.37     11419\n",
      "\n",
      "    accuracy                           0.75     36640\n",
      "   macro avg       0.77      0.61      0.61     36640\n",
      "weighted avg       0.76      0.75      0.69     36640\n",
      "\n"
     ]
    }
   ],
   "source": [
    "print(classification_report(y_test, y_pred))"
   ]
  },
  {
   "cell_type": "code",
   "execution_count": 103,
   "metadata": {},
   "outputs": [
    {
     "data": {
      "text/plain": [
       "array([[24550,   671],\n",
       "       [ 8649,  2770]], dtype=int64)"
      ]
     },
     "execution_count": 103,
     "metadata": {},
     "output_type": "execute_result"
    }
   ],
   "source": [
    "cm_gbm = confusion_matrix(y_test, y_pred)\n",
    "cm_gbm"
   ]
  },
  {
   "cell_type": "markdown",
   "metadata": {},
   "source": [
    "## CatBoost"
   ]
  },
  {
   "cell_type": "code",
   "execution_count": 104,
   "metadata": {},
   "outputs": [],
   "source": [
    "from catboost import CatBoostClassifier"
   ]
  },
  {
   "cell_type": "code",
   "execution_count": 105,
   "metadata": {
    "collapsed": true,
    "jupyter": {
     "outputs_hidden": true
    }
   },
   "outputs": [
    {
     "name": "stdout",
     "output_type": "stream",
     "text": [
      "Learning rate set to 0.08666\n",
      "0:\tlearn: 0.6619043\ttotal: 204ms\tremaining: 3m 23s\n",
      "1:\tlearn: 0.6369428\ttotal: 234ms\tremaining: 1m 56s\n",
      "2:\tlearn: 0.6156330\ttotal: 261ms\tremaining: 1m 26s\n",
      "3:\tlearn: 0.5996467\ttotal: 291ms\tremaining: 1m 12s\n",
      "4:\tlearn: 0.5856715\ttotal: 321ms\tremaining: 1m 3s\n",
      "5:\tlearn: 0.5747247\ttotal: 357ms\tremaining: 59.2s\n",
      "6:\tlearn: 0.5662986\ttotal: 389ms\tremaining: 55.1s\n",
      "7:\tlearn: 0.5597504\ttotal: 421ms\tremaining: 52.2s\n",
      "8:\tlearn: 0.5535209\ttotal: 449ms\tremaining: 49.4s\n",
      "9:\tlearn: 0.5487997\ttotal: 473ms\tremaining: 46.8s\n",
      "10:\tlearn: 0.5447313\ttotal: 500ms\tremaining: 45s\n",
      "11:\tlearn: 0.5410684\ttotal: 530ms\tremaining: 43.6s\n",
      "12:\tlearn: 0.5380195\ttotal: 573ms\tremaining: 43.5s\n",
      "13:\tlearn: 0.5352595\ttotal: 605ms\tremaining: 42.6s\n",
      "14:\tlearn: 0.5331210\ttotal: 634ms\tremaining: 41.6s\n",
      "15:\tlearn: 0.5313267\ttotal: 659ms\tremaining: 40.6s\n",
      "16:\tlearn: 0.5298018\ttotal: 694ms\tremaining: 40.1s\n",
      "17:\tlearn: 0.5284758\ttotal: 726ms\tremaining: 39.6s\n",
      "18:\tlearn: 0.5273087\ttotal: 757ms\tremaining: 39.1s\n",
      "19:\tlearn: 0.5260029\ttotal: 784ms\tremaining: 38.4s\n",
      "20:\tlearn: 0.5251520\ttotal: 815ms\tremaining: 38s\n",
      "21:\tlearn: 0.5242780\ttotal: 843ms\tremaining: 37.5s\n",
      "22:\tlearn: 0.5237079\ttotal: 875ms\tremaining: 37.2s\n",
      "23:\tlearn: 0.5229911\ttotal: 908ms\tremaining: 36.9s\n",
      "24:\tlearn: 0.5224010\ttotal: 935ms\tremaining: 36.5s\n",
      "25:\tlearn: 0.5218936\ttotal: 969ms\tremaining: 36.3s\n",
      "26:\tlearn: 0.5215422\ttotal: 998ms\tremaining: 36s\n",
      "27:\tlearn: 0.5212662\ttotal: 1.02s\tremaining: 35.6s\n",
      "28:\tlearn: 0.5209151\ttotal: 1.05s\tremaining: 35.3s\n",
      "29:\tlearn: 0.5206093\ttotal: 1.09s\tremaining: 35.2s\n",
      "30:\tlearn: 0.5202382\ttotal: 1.12s\tremaining: 35.1s\n",
      "31:\tlearn: 0.5198700\ttotal: 1.15s\tremaining: 34.7s\n",
      "32:\tlearn: 0.5197056\ttotal: 1.17s\tremaining: 34.4s\n",
      "33:\tlearn: 0.5194780\ttotal: 1.2s\tremaining: 34.1s\n",
      "34:\tlearn: 0.5192713\ttotal: 1.24s\tremaining: 34.1s\n",
      "35:\tlearn: 0.5190663\ttotal: 1.26s\tremaining: 33.9s\n",
      "36:\tlearn: 0.5188914\ttotal: 1.3s\tremaining: 33.8s\n",
      "37:\tlearn: 0.5187218\ttotal: 1.33s\tremaining: 33.6s\n",
      "38:\tlearn: 0.5185289\ttotal: 1.35s\tremaining: 33.4s\n",
      "39:\tlearn: 0.5184041\ttotal: 1.39s\tremaining: 33.4s\n",
      "40:\tlearn: 0.5181979\ttotal: 1.42s\tremaining: 33.3s\n",
      "41:\tlearn: 0.5181253\ttotal: 1.46s\tremaining: 33.3s\n",
      "42:\tlearn: 0.5180222\ttotal: 1.49s\tremaining: 33.1s\n",
      "43:\tlearn: 0.5179292\ttotal: 1.51s\tremaining: 32.9s\n",
      "44:\tlearn: 0.5178286\ttotal: 1.54s\tremaining: 32.6s\n",
      "45:\tlearn: 0.5177037\ttotal: 1.57s\tremaining: 32.5s\n",
      "46:\tlearn: 0.5175806\ttotal: 1.59s\tremaining: 32.3s\n",
      "47:\tlearn: 0.5174617\ttotal: 1.62s\tremaining: 32.1s\n",
      "48:\tlearn: 0.5173498\ttotal: 1.65s\tremaining: 32s\n",
      "49:\tlearn: 0.5172427\ttotal: 1.68s\tremaining: 31.9s\n",
      "50:\tlearn: 0.5171428\ttotal: 1.71s\tremaining: 31.9s\n",
      "51:\tlearn: 0.5170989\ttotal: 1.74s\tremaining: 31.8s\n",
      "52:\tlearn: 0.5170324\ttotal: 1.77s\tremaining: 31.6s\n",
      "53:\tlearn: 0.5169101\ttotal: 1.8s\tremaining: 31.5s\n",
      "54:\tlearn: 0.5168293\ttotal: 1.82s\tremaining: 31.4s\n",
      "55:\tlearn: 0.5167686\ttotal: 1.85s\tremaining: 31.2s\n",
      "56:\tlearn: 0.5166861\ttotal: 1.88s\tremaining: 31.1s\n",
      "57:\tlearn: 0.5166402\ttotal: 1.92s\tremaining: 31.2s\n",
      "58:\tlearn: 0.5165669\ttotal: 1.96s\tremaining: 31.2s\n",
      "59:\tlearn: 0.5165165\ttotal: 1.99s\tremaining: 31.1s\n",
      "60:\tlearn: 0.5164784\ttotal: 2.03s\tremaining: 31.2s\n",
      "61:\tlearn: 0.5164470\ttotal: 2.06s\tremaining: 31.1s\n",
      "62:\tlearn: 0.5163567\ttotal: 2.08s\tremaining: 31s\n",
      "63:\tlearn: 0.5163058\ttotal: 2.12s\tremaining: 30.9s\n",
      "64:\tlearn: 0.5161961\ttotal: 2.15s\tremaining: 30.9s\n",
      "65:\tlearn: 0.5161655\ttotal: 2.18s\tremaining: 30.8s\n",
      "66:\tlearn: 0.5161386\ttotal: 2.21s\tremaining: 30.7s\n",
      "67:\tlearn: 0.5161186\ttotal: 2.23s\tremaining: 30.6s\n",
      "68:\tlearn: 0.5160436\ttotal: 2.26s\tremaining: 30.5s\n",
      "69:\tlearn: 0.5160184\ttotal: 2.29s\tremaining: 30.4s\n",
      "70:\tlearn: 0.5159931\ttotal: 2.31s\tremaining: 30.3s\n",
      "71:\tlearn: 0.5159645\ttotal: 2.34s\tremaining: 30.2s\n",
      "72:\tlearn: 0.5159289\ttotal: 2.38s\tremaining: 30.3s\n",
      "73:\tlearn: 0.5158442\ttotal: 2.41s\tremaining: 30.2s\n",
      "74:\tlearn: 0.5157881\ttotal: 2.44s\tremaining: 30.1s\n",
      "75:\tlearn: 0.5157607\ttotal: 2.47s\tremaining: 30s\n",
      "76:\tlearn: 0.5157017\ttotal: 2.5s\tremaining: 29.9s\n",
      "77:\tlearn: 0.5156672\ttotal: 2.52s\tremaining: 29.8s\n",
      "78:\tlearn: 0.5156349\ttotal: 2.56s\tremaining: 29.8s\n",
      "79:\tlearn: 0.5155727\ttotal: 2.59s\tremaining: 29.8s\n",
      "80:\tlearn: 0.5155434\ttotal: 2.62s\tremaining: 29.7s\n",
      "81:\tlearn: 0.5155274\ttotal: 2.64s\tremaining: 29.6s\n",
      "82:\tlearn: 0.5154997\ttotal: 2.67s\tremaining: 29.6s\n",
      "83:\tlearn: 0.5154808\ttotal: 2.71s\tremaining: 29.5s\n",
      "84:\tlearn: 0.5154471\ttotal: 2.74s\tremaining: 29.5s\n",
      "85:\tlearn: 0.5153987\ttotal: 2.77s\tremaining: 29.5s\n",
      "86:\tlearn: 0.5153698\ttotal: 2.8s\tremaining: 29.4s\n",
      "87:\tlearn: 0.5153499\ttotal: 2.83s\tremaining: 29.3s\n",
      "88:\tlearn: 0.5153300\ttotal: 2.85s\tremaining: 29.2s\n",
      "89:\tlearn: 0.5153091\ttotal: 2.88s\tremaining: 29.2s\n",
      "90:\tlearn: 0.5152904\ttotal: 2.91s\tremaining: 29.1s\n",
      "91:\tlearn: 0.5152743\ttotal: 2.93s\tremaining: 28.9s\n",
      "92:\tlearn: 0.5152623\ttotal: 2.96s\tremaining: 28.9s\n",
      "93:\tlearn: 0.5151989\ttotal: 2.98s\tremaining: 28.8s\n",
      "94:\tlearn: 0.5151799\ttotal: 3.01s\tremaining: 28.7s\n",
      "95:\tlearn: 0.5151334\ttotal: 3.04s\tremaining: 28.6s\n",
      "96:\tlearn: 0.5151205\ttotal: 3.07s\tremaining: 28.6s\n",
      "97:\tlearn: 0.5150918\ttotal: 3.09s\tremaining: 28.5s\n",
      "98:\tlearn: 0.5150586\ttotal: 3.13s\tremaining: 28.5s\n",
      "99:\tlearn: 0.5150452\ttotal: 3.15s\tremaining: 28.4s\n",
      "100:\tlearn: 0.5150195\ttotal: 3.18s\tremaining: 28.3s\n",
      "101:\tlearn: 0.5150002\ttotal: 3.21s\tremaining: 28.3s\n",
      "102:\tlearn: 0.5149678\ttotal: 3.24s\tremaining: 28.2s\n",
      "103:\tlearn: 0.5149095\ttotal: 3.27s\tremaining: 28.2s\n",
      "104:\tlearn: 0.5148652\ttotal: 3.3s\tremaining: 28.1s\n",
      "105:\tlearn: 0.5148483\ttotal: 3.33s\tremaining: 28.1s\n",
      "106:\tlearn: 0.5148330\ttotal: 3.36s\tremaining: 28s\n",
      "107:\tlearn: 0.5148103\ttotal: 3.39s\tremaining: 28s\n",
      "108:\tlearn: 0.5147768\ttotal: 3.42s\tremaining: 28s\n",
      "109:\tlearn: 0.5147599\ttotal: 3.46s\tremaining: 28s\n",
      "110:\tlearn: 0.5147494\ttotal: 3.48s\tremaining: 27.9s\n",
      "111:\tlearn: 0.5147345\ttotal: 3.51s\tremaining: 27.8s\n",
      "112:\tlearn: 0.5146978\ttotal: 3.54s\tremaining: 27.8s\n",
      "113:\tlearn: 0.5146654\ttotal: 3.57s\tremaining: 27.8s\n",
      "114:\tlearn: 0.5146347\ttotal: 3.6s\tremaining: 27.7s\n",
      "115:\tlearn: 0.5145955\ttotal: 3.63s\tremaining: 27.6s\n",
      "116:\tlearn: 0.5145633\ttotal: 3.65s\tremaining: 27.6s\n",
      "117:\tlearn: 0.5145247\ttotal: 3.69s\tremaining: 27.6s\n",
      "118:\tlearn: 0.5145240\ttotal: 3.72s\tremaining: 27.5s\n",
      "119:\tlearn: 0.5145071\ttotal: 3.74s\tremaining: 27.5s\n",
      "120:\tlearn: 0.5144670\ttotal: 3.77s\tremaining: 27.4s\n",
      "121:\tlearn: 0.5144290\ttotal: 3.8s\tremaining: 27.4s\n",
      "122:\tlearn: 0.5144064\ttotal: 3.83s\tremaining: 27.3s\n",
      "123:\tlearn: 0.5143923\ttotal: 3.86s\tremaining: 27.3s\n",
      "124:\tlearn: 0.5143632\ttotal: 3.89s\tremaining: 27.2s\n",
      "125:\tlearn: 0.5143400\ttotal: 3.91s\tremaining: 27.1s\n",
      "126:\tlearn: 0.5143164\ttotal: 3.94s\tremaining: 27.1s\n",
      "127:\tlearn: 0.5143107\ttotal: 3.97s\tremaining: 27s\n",
      "128:\tlearn: 0.5142972\ttotal: 4s\tremaining: 27s\n",
      "129:\tlearn: 0.5142769\ttotal: 4.02s\tremaining: 26.9s\n",
      "130:\tlearn: 0.5142531\ttotal: 4.06s\tremaining: 26.9s\n",
      "131:\tlearn: 0.5142441\ttotal: 4.09s\tremaining: 26.9s\n",
      "132:\tlearn: 0.5142357\ttotal: 4.11s\tremaining: 26.8s\n",
      "133:\tlearn: 0.5142183\ttotal: 4.14s\tremaining: 26.8s\n",
      "134:\tlearn: 0.5142023\ttotal: 4.17s\tremaining: 26.7s\n",
      "135:\tlearn: 0.5141744\ttotal: 4.21s\tremaining: 26.7s\n",
      "136:\tlearn: 0.5141479\ttotal: 4.24s\tremaining: 26.7s\n",
      "137:\tlearn: 0.5141226\ttotal: 4.27s\tremaining: 26.7s\n",
      "138:\tlearn: 0.5140959\ttotal: 4.3s\tremaining: 26.6s\n",
      "139:\tlearn: 0.5140695\ttotal: 4.33s\tremaining: 26.6s\n",
      "140:\tlearn: 0.5140505\ttotal: 4.37s\tremaining: 26.6s\n",
      "141:\tlearn: 0.5140378\ttotal: 4.4s\tremaining: 26.6s\n",
      "142:\tlearn: 0.5140216\ttotal: 4.43s\tremaining: 26.5s\n",
      "143:\tlearn: 0.5140060\ttotal: 4.46s\tremaining: 26.5s\n",
      "144:\tlearn: 0.5139976\ttotal: 4.49s\tremaining: 26.4s\n",
      "145:\tlearn: 0.5139636\ttotal: 4.52s\tremaining: 26.4s\n",
      "146:\tlearn: 0.5139526\ttotal: 4.55s\tremaining: 26.4s\n",
      "147:\tlearn: 0.5139164\ttotal: 4.58s\tremaining: 26.4s\n",
      "148:\tlearn: 0.5138840\ttotal: 4.61s\tremaining: 26.3s\n",
      "149:\tlearn: 0.5138591\ttotal: 4.63s\tremaining: 26.3s\n",
      "150:\tlearn: 0.5138472\ttotal: 4.66s\tremaining: 26.2s\n",
      "151:\tlearn: 0.5138276\ttotal: 4.68s\tremaining: 26.1s\n",
      "152:\tlearn: 0.5137801\ttotal: 4.71s\tremaining: 26.1s\n",
      "153:\tlearn: 0.5137590\ttotal: 4.74s\tremaining: 26s\n",
      "154:\tlearn: 0.5137343\ttotal: 4.77s\tremaining: 26s\n",
      "155:\tlearn: 0.5136987\ttotal: 4.8s\tremaining: 26s\n",
      "156:\tlearn: 0.5136798\ttotal: 4.83s\tremaining: 25.9s\n",
      "157:\tlearn: 0.5136568\ttotal: 4.85s\tremaining: 25.9s\n",
      "158:\tlearn: 0.5136496\ttotal: 4.88s\tremaining: 25.8s\n",
      "159:\tlearn: 0.5136230\ttotal: 4.91s\tremaining: 25.8s\n",
      "160:\tlearn: 0.5136170\ttotal: 4.94s\tremaining: 25.7s\n",
      "161:\tlearn: 0.5135986\ttotal: 4.97s\tremaining: 25.7s\n",
      "162:\tlearn: 0.5135726\ttotal: 4.99s\tremaining: 25.6s\n",
      "163:\tlearn: 0.5135648\ttotal: 5.02s\tremaining: 25.6s\n",
      "164:\tlearn: 0.5135502\ttotal: 5.04s\tremaining: 25.5s\n",
      "165:\tlearn: 0.5135299\ttotal: 5.08s\tremaining: 25.5s\n",
      "166:\tlearn: 0.5135232\ttotal: 5.1s\tremaining: 25.4s\n",
      "167:\tlearn: 0.5135079\ttotal: 5.12s\tremaining: 25.4s\n",
      "168:\tlearn: 0.5134800\ttotal: 5.15s\tremaining: 25.3s\n",
      "169:\tlearn: 0.5134552\ttotal: 5.18s\tremaining: 25.3s\n",
      "170:\tlearn: 0.5134360\ttotal: 5.21s\tremaining: 25.2s\n",
      "171:\tlearn: 0.5134269\ttotal: 5.23s\tremaining: 25.2s\n",
      "172:\tlearn: 0.5134100\ttotal: 5.26s\tremaining: 25.1s\n",
      "173:\tlearn: 0.5134012\ttotal: 5.29s\tremaining: 25.1s\n",
      "174:\tlearn: 0.5133907\ttotal: 5.32s\tremaining: 25.1s\n",
      "175:\tlearn: 0.5133778\ttotal: 5.34s\tremaining: 25s\n",
      "176:\tlearn: 0.5133687\ttotal: 5.36s\tremaining: 24.9s\n",
      "177:\tlearn: 0.5133440\ttotal: 5.4s\tremaining: 24.9s\n",
      "178:\tlearn: 0.5133245\ttotal: 5.42s\tremaining: 24.9s\n",
      "179:\tlearn: 0.5132913\ttotal: 5.46s\tremaining: 24.9s\n",
      "180:\tlearn: 0.5132850\ttotal: 5.49s\tremaining: 24.8s\n",
      "181:\tlearn: 0.5132627\ttotal: 5.51s\tremaining: 24.8s\n",
      "182:\tlearn: 0.5132341\ttotal: 5.54s\tremaining: 24.7s\n",
      "183:\tlearn: 0.5132153\ttotal: 5.57s\tremaining: 24.7s\n",
      "184:\tlearn: 0.5132033\ttotal: 5.59s\tremaining: 24.6s\n",
      "185:\tlearn: 0.5131700\ttotal: 5.62s\tremaining: 24.6s\n",
      "186:\tlearn: 0.5131665\ttotal: 5.65s\tremaining: 24.6s\n",
      "187:\tlearn: 0.5131434\ttotal: 5.68s\tremaining: 24.5s\n",
      "188:\tlearn: 0.5131421\ttotal: 5.7s\tremaining: 24.5s\n",
      "189:\tlearn: 0.5131271\ttotal: 5.72s\tremaining: 24.4s\n",
      "190:\tlearn: 0.5131217\ttotal: 5.75s\tremaining: 24.3s\n",
      "191:\tlearn: 0.5131178\ttotal: 5.77s\tremaining: 24.3s\n",
      "192:\tlearn: 0.5131029\ttotal: 5.8s\tremaining: 24.3s\n",
      "193:\tlearn: 0.5130972\ttotal: 5.83s\tremaining: 24.2s\n",
      "194:\tlearn: 0.5130767\ttotal: 5.86s\tremaining: 24.2s\n",
      "195:\tlearn: 0.5130585\ttotal: 5.88s\tremaining: 24.1s\n",
      "196:\tlearn: 0.5130350\ttotal: 5.91s\tremaining: 24.1s\n",
      "197:\tlearn: 0.5130289\ttotal: 5.94s\tremaining: 24s\n",
      "198:\tlearn: 0.5130014\ttotal: 5.97s\tremaining: 24s\n",
      "199:\tlearn: 0.5129681\ttotal: 6s\tremaining: 24s\n",
      "200:\tlearn: 0.5129635\ttotal: 6.03s\tremaining: 24s\n",
      "201:\tlearn: 0.5129404\ttotal: 6.05s\tremaining: 23.9s\n",
      "202:\tlearn: 0.5129359\ttotal: 6.07s\tremaining: 23.8s\n",
      "203:\tlearn: 0.5129163\ttotal: 6.1s\tremaining: 23.8s\n",
      "204:\tlearn: 0.5129124\ttotal: 6.13s\tremaining: 23.8s\n",
      "205:\tlearn: 0.5129046\ttotal: 6.15s\tremaining: 23.7s\n",
      "206:\tlearn: 0.5128919\ttotal: 6.18s\tremaining: 23.7s\n",
      "207:\tlearn: 0.5128731\ttotal: 6.2s\tremaining: 23.6s\n",
      "208:\tlearn: 0.5128587\ttotal: 6.23s\tremaining: 23.6s\n",
      "209:\tlearn: 0.5128402\ttotal: 6.25s\tremaining: 23.5s\n",
      "210:\tlearn: 0.5128267\ttotal: 6.28s\tremaining: 23.5s\n",
      "211:\tlearn: 0.5128104\ttotal: 6.3s\tremaining: 23.4s\n",
      "212:\tlearn: 0.5127854\ttotal: 6.34s\tremaining: 23.4s\n",
      "213:\tlearn: 0.5127690\ttotal: 6.37s\tremaining: 23.4s\n",
      "214:\tlearn: 0.5127537\ttotal: 6.39s\tremaining: 23.3s\n",
      "215:\tlearn: 0.5127421\ttotal: 6.42s\tremaining: 23.3s\n",
      "216:\tlearn: 0.5127183\ttotal: 6.45s\tremaining: 23.3s\n",
      "217:\tlearn: 0.5127127\ttotal: 6.47s\tremaining: 23.2s\n",
      "218:\tlearn: 0.5127022\ttotal: 6.5s\tremaining: 23.2s\n",
      "219:\tlearn: 0.5126919\ttotal: 6.53s\tremaining: 23.1s\n",
      "220:\tlearn: 0.5126758\ttotal: 6.56s\tremaining: 23.1s\n",
      "221:\tlearn: 0.5126661\ttotal: 6.58s\tremaining: 23.1s\n",
      "222:\tlearn: 0.5126550\ttotal: 6.6s\tremaining: 23s\n",
      "223:\tlearn: 0.5126402\ttotal: 6.63s\tremaining: 23s\n",
      "224:\tlearn: 0.5126149\ttotal: 6.66s\tremaining: 22.9s\n",
      "225:\tlearn: 0.5125934\ttotal: 6.69s\tremaining: 22.9s\n",
      "226:\tlearn: 0.5125851\ttotal: 6.71s\tremaining: 22.9s\n",
      "227:\tlearn: 0.5125777\ttotal: 6.74s\tremaining: 22.8s\n",
      "228:\tlearn: 0.5125700\ttotal: 6.76s\tremaining: 22.8s\n",
      "229:\tlearn: 0.5125527\ttotal: 6.79s\tremaining: 22.7s\n",
      "230:\tlearn: 0.5125274\ttotal: 6.81s\tremaining: 22.7s\n",
      "231:\tlearn: 0.5125062\ttotal: 6.85s\tremaining: 22.7s\n",
      "232:\tlearn: 0.5124885\ttotal: 6.88s\tremaining: 22.6s\n",
      "233:\tlearn: 0.5124640\ttotal: 6.9s\tremaining: 22.6s\n",
      "234:\tlearn: 0.5124427\ttotal: 6.93s\tremaining: 22.6s\n",
      "235:\tlearn: 0.5124368\ttotal: 6.96s\tremaining: 22.5s\n",
      "236:\tlearn: 0.5124170\ttotal: 6.98s\tremaining: 22.5s\n",
      "237:\tlearn: 0.5124120\ttotal: 7.01s\tremaining: 22.4s\n",
      "238:\tlearn: 0.5124001\ttotal: 7.04s\tremaining: 22.4s\n",
      "239:\tlearn: 0.5123774\ttotal: 7.07s\tremaining: 22.4s\n",
      "240:\tlearn: 0.5123670\ttotal: 7.1s\tremaining: 22.4s\n",
      "241:\tlearn: 0.5123560\ttotal: 7.12s\tremaining: 22.3s\n",
      "242:\tlearn: 0.5123414\ttotal: 7.15s\tremaining: 22.3s\n",
      "243:\tlearn: 0.5123288\ttotal: 7.17s\tremaining: 22.2s\n",
      "244:\tlearn: 0.5123225\ttotal: 7.19s\tremaining: 22.2s\n",
      "245:\tlearn: 0.5123084\ttotal: 7.23s\tremaining: 22.2s\n",
      "246:\tlearn: 0.5123036\ttotal: 7.25s\tremaining: 22.1s\n",
      "247:\tlearn: 0.5122823\ttotal: 7.28s\tremaining: 22.1s\n",
      "248:\tlearn: 0.5122608\ttotal: 7.31s\tremaining: 22s\n",
      "249:\tlearn: 0.5122535\ttotal: 7.33s\tremaining: 22s\n",
      "250:\tlearn: 0.5122499\ttotal: 7.35s\tremaining: 21.9s\n",
      "251:\tlearn: 0.5122477\ttotal: 7.38s\tremaining: 21.9s\n",
      "252:\tlearn: 0.5122314\ttotal: 7.41s\tremaining: 21.9s\n",
      "253:\tlearn: 0.5122183\ttotal: 7.43s\tremaining: 21.8s\n",
      "254:\tlearn: 0.5121913\ttotal: 7.47s\tremaining: 21.8s\n",
      "255:\tlearn: 0.5121873\ttotal: 7.5s\tremaining: 21.8s\n",
      "256:\tlearn: 0.5121703\ttotal: 7.53s\tremaining: 21.8s\n",
      "257:\tlearn: 0.5121591\ttotal: 7.55s\tremaining: 21.7s\n",
      "258:\tlearn: 0.5121585\ttotal: 7.57s\tremaining: 21.7s\n",
      "259:\tlearn: 0.5121396\ttotal: 7.6s\tremaining: 21.6s\n",
      "260:\tlearn: 0.5121122\ttotal: 7.63s\tremaining: 21.6s\n",
      "261:\tlearn: 0.5120850\ttotal: 7.66s\tremaining: 21.6s\n",
      "262:\tlearn: 0.5120789\ttotal: 7.68s\tremaining: 21.5s\n",
      "263:\tlearn: 0.5120751\ttotal: 7.71s\tremaining: 21.5s\n",
      "264:\tlearn: 0.5120620\ttotal: 7.73s\tremaining: 21.4s\n",
      "265:\tlearn: 0.5120470\ttotal: 7.76s\tremaining: 21.4s\n",
      "266:\tlearn: 0.5120357\ttotal: 7.79s\tremaining: 21.4s\n",
      "267:\tlearn: 0.5120258\ttotal: 7.82s\tremaining: 21.4s\n",
      "268:\tlearn: 0.5119989\ttotal: 7.84s\tremaining: 21.3s\n",
      "269:\tlearn: 0.5119879\ttotal: 7.87s\tremaining: 21.3s\n",
      "270:\tlearn: 0.5119796\ttotal: 7.89s\tremaining: 21.2s\n",
      "271:\tlearn: 0.5119746\ttotal: 7.92s\tremaining: 21.2s\n",
      "272:\tlearn: 0.5119615\ttotal: 7.94s\tremaining: 21.2s\n",
      "273:\tlearn: 0.5119530\ttotal: 7.97s\tremaining: 21.1s\n",
      "274:\tlearn: 0.5119408\ttotal: 8s\tremaining: 21.1s\n",
      "275:\tlearn: 0.5119370\ttotal: 8.03s\tremaining: 21.1s\n",
      "276:\tlearn: 0.5119246\ttotal: 8.05s\tremaining: 21s\n",
      "277:\tlearn: 0.5119203\ttotal: 8.08s\tremaining: 21s\n",
      "278:\tlearn: 0.5119172\ttotal: 8.1s\tremaining: 20.9s\n",
      "279:\tlearn: 0.5119026\ttotal: 8.13s\tremaining: 20.9s\n",
      "280:\tlearn: 0.5118880\ttotal: 8.15s\tremaining: 20.9s\n",
      "281:\tlearn: 0.5118669\ttotal: 8.18s\tremaining: 20.8s\n",
      "282:\tlearn: 0.5118638\ttotal: 8.21s\tremaining: 20.8s\n",
      "283:\tlearn: 0.5118544\ttotal: 8.24s\tremaining: 20.8s\n",
      "284:\tlearn: 0.5118410\ttotal: 8.27s\tremaining: 20.7s\n",
      "285:\tlearn: 0.5118343\ttotal: 8.29s\tremaining: 20.7s\n",
      "286:\tlearn: 0.5118114\ttotal: 8.32s\tremaining: 20.7s\n",
      "287:\tlearn: 0.5118062\ttotal: 8.34s\tremaining: 20.6s\n",
      "288:\tlearn: 0.5117867\ttotal: 8.37s\tremaining: 20.6s\n",
      "289:\tlearn: 0.5117765\ttotal: 8.39s\tremaining: 20.6s\n",
      "290:\tlearn: 0.5117717\ttotal: 8.43s\tremaining: 20.5s\n",
      "291:\tlearn: 0.5117464\ttotal: 8.45s\tremaining: 20.5s\n",
      "292:\tlearn: 0.5117435\ttotal: 8.48s\tremaining: 20.5s\n",
      "293:\tlearn: 0.5117391\ttotal: 8.5s\tremaining: 20.4s\n",
      "294:\tlearn: 0.5117243\ttotal: 8.53s\tremaining: 20.4s\n",
      "295:\tlearn: 0.5117192\ttotal: 8.55s\tremaining: 20.3s\n",
      "296:\tlearn: 0.5117077\ttotal: 8.58s\tremaining: 20.3s\n",
      "297:\tlearn: 0.5117004\ttotal: 8.61s\tremaining: 20.3s\n",
      "298:\tlearn: 0.5116894\ttotal: 8.64s\tremaining: 20.3s\n",
      "299:\tlearn: 0.5116766\ttotal: 8.67s\tremaining: 20.2s\n",
      "300:\tlearn: 0.5116715\ttotal: 8.69s\tremaining: 20.2s\n",
      "301:\tlearn: 0.5116691\ttotal: 8.71s\tremaining: 20.1s\n",
      "302:\tlearn: 0.5116617\ttotal: 8.74s\tremaining: 20.1s\n",
      "303:\tlearn: 0.5116600\ttotal: 8.77s\tremaining: 20.1s\n",
      "304:\tlearn: 0.5116571\ttotal: 8.79s\tremaining: 20s\n",
      "305:\tlearn: 0.5116468\ttotal: 8.82s\tremaining: 20s\n",
      "306:\tlearn: 0.5116435\ttotal: 8.84s\tremaining: 20s\n",
      "307:\tlearn: 0.5116389\ttotal: 8.87s\tremaining: 19.9s\n",
      "308:\tlearn: 0.5116355\ttotal: 8.89s\tremaining: 19.9s\n",
      "309:\tlearn: 0.5116266\ttotal: 8.93s\tremaining: 19.9s\n",
      "310:\tlearn: 0.5116226\ttotal: 8.96s\tremaining: 19.9s\n",
      "311:\tlearn: 0.5116200\ttotal: 8.98s\tremaining: 19.8s\n",
      "312:\tlearn: 0.5116145\ttotal: 9.01s\tremaining: 19.8s\n",
      "313:\tlearn: 0.5115960\ttotal: 9.04s\tremaining: 19.7s\n",
      "314:\tlearn: 0.5115950\ttotal: 9.06s\tremaining: 19.7s\n",
      "315:\tlearn: 0.5115875\ttotal: 9.08s\tremaining: 19.7s\n",
      "316:\tlearn: 0.5115845\ttotal: 9.12s\tremaining: 19.6s\n",
      "317:\tlearn: 0.5115777\ttotal: 9.14s\tremaining: 19.6s\n",
      "318:\tlearn: 0.5115692\ttotal: 9.17s\tremaining: 19.6s\n",
      "319:\tlearn: 0.5115542\ttotal: 9.19s\tremaining: 19.5s\n",
      "320:\tlearn: 0.5115464\ttotal: 9.22s\tremaining: 19.5s\n",
      "321:\tlearn: 0.5115363\ttotal: 9.25s\tremaining: 19.5s\n",
      "322:\tlearn: 0.5115247\ttotal: 9.27s\tremaining: 19.4s\n",
      "323:\tlearn: 0.5115113\ttotal: 9.3s\tremaining: 19.4s\n",
      "324:\tlearn: 0.5114989\ttotal: 9.33s\tremaining: 19.4s\n",
      "325:\tlearn: 0.5114866\ttotal: 9.36s\tremaining: 19.4s\n",
      "326:\tlearn: 0.5114858\ttotal: 9.39s\tremaining: 19.3s\n",
      "327:\tlearn: 0.5114851\ttotal: 9.41s\tremaining: 19.3s\n",
      "328:\tlearn: 0.5114588\ttotal: 9.44s\tremaining: 19.3s\n",
      "329:\tlearn: 0.5114509\ttotal: 9.48s\tremaining: 19.3s\n",
      "330:\tlearn: 0.5114433\ttotal: 9.53s\tremaining: 19.3s\n",
      "331:\tlearn: 0.5114282\ttotal: 9.56s\tremaining: 19.2s\n",
      "332:\tlearn: 0.5114178\ttotal: 9.61s\tremaining: 19.2s\n",
      "333:\tlearn: 0.5114072\ttotal: 9.63s\tremaining: 19.2s\n",
      "334:\tlearn: 0.5113957\ttotal: 9.67s\tremaining: 19.2s\n",
      "335:\tlearn: 0.5113872\ttotal: 9.7s\tremaining: 19.2s\n",
      "336:\tlearn: 0.5113787\ttotal: 9.73s\tremaining: 19.1s\n",
      "337:\tlearn: 0.5113706\ttotal: 9.76s\tremaining: 19.1s\n",
      "338:\tlearn: 0.5113625\ttotal: 9.78s\tremaining: 19.1s\n",
      "339:\tlearn: 0.5113610\ttotal: 9.81s\tremaining: 19s\n",
      "340:\tlearn: 0.5113598\ttotal: 9.83s\tremaining: 19s\n",
      "341:\tlearn: 0.5113508\ttotal: 9.86s\tremaining: 19s\n",
      "342:\tlearn: 0.5113368\ttotal: 9.89s\tremaining: 18.9s\n",
      "343:\tlearn: 0.5113319\ttotal: 9.92s\tremaining: 18.9s\n",
      "344:\tlearn: 0.5113276\ttotal: 9.94s\tremaining: 18.9s\n",
      "345:\tlearn: 0.5113168\ttotal: 9.97s\tremaining: 18.8s\n",
      "346:\tlearn: 0.5112943\ttotal: 9.99s\tremaining: 18.8s\n",
      "347:\tlearn: 0.5112872\ttotal: 10s\tremaining: 18.8s\n",
      "348:\tlearn: 0.5112738\ttotal: 10s\tremaining: 18.7s\n",
      "349:\tlearn: 0.5112542\ttotal: 10.1s\tremaining: 18.7s\n",
      "350:\tlearn: 0.5112428\ttotal: 10.1s\tremaining: 18.7s\n",
      "351:\tlearn: 0.5112383\ttotal: 10.1s\tremaining: 18.7s\n",
      "352:\tlearn: 0.5112310\ttotal: 10.2s\tremaining: 18.6s\n",
      "353:\tlearn: 0.5112263\ttotal: 10.2s\tremaining: 18.6s\n",
      "354:\tlearn: 0.5112079\ttotal: 10.2s\tremaining: 18.6s\n",
      "355:\tlearn: 0.5112028\ttotal: 10.3s\tremaining: 18.5s\n",
      "356:\tlearn: 0.5111923\ttotal: 10.3s\tremaining: 18.5s\n",
      "357:\tlearn: 0.5111915\ttotal: 10.3s\tremaining: 18.5s\n",
      "358:\tlearn: 0.5111907\ttotal: 10.3s\tremaining: 18.4s\n",
      "359:\tlearn: 0.5111814\ttotal: 10.4s\tremaining: 18.4s\n",
      "360:\tlearn: 0.5111787\ttotal: 10.4s\tremaining: 18.4s\n",
      "361:\tlearn: 0.5111646\ttotal: 10.4s\tremaining: 18.3s\n",
      "362:\tlearn: 0.5111523\ttotal: 10.4s\tremaining: 18.3s\n",
      "363:\tlearn: 0.5111465\ttotal: 10.5s\tremaining: 18.3s\n",
      "364:\tlearn: 0.5111312\ttotal: 10.5s\tremaining: 18.2s\n",
      "365:\tlearn: 0.5111193\ttotal: 10.5s\tremaining: 18.2s\n",
      "366:\tlearn: 0.5111082\ttotal: 10.5s\tremaining: 18.2s\n",
      "367:\tlearn: 0.5111012\ttotal: 10.6s\tremaining: 18.2s\n",
      "368:\tlearn: 0.5110952\ttotal: 10.6s\tremaining: 18.1s\n",
      "369:\tlearn: 0.5110843\ttotal: 10.6s\tremaining: 18.1s\n",
      "370:\tlearn: 0.5110699\ttotal: 10.6s\tremaining: 18.1s\n",
      "371:\tlearn: 0.5110645\ttotal: 10.7s\tremaining: 18s\n",
      "372:\tlearn: 0.5110510\ttotal: 10.7s\tremaining: 18s\n",
      "373:\tlearn: 0.5110390\ttotal: 10.7s\tremaining: 18s\n",
      "374:\tlearn: 0.5110227\ttotal: 10.8s\tremaining: 17.9s\n",
      "375:\tlearn: 0.5110166\ttotal: 10.8s\tremaining: 17.9s\n",
      "376:\tlearn: 0.5110072\ttotal: 10.8s\tremaining: 17.9s\n",
      "377:\tlearn: 0.5109917\ttotal: 10.8s\tremaining: 17.8s\n",
      "378:\tlearn: 0.5109887\ttotal: 10.9s\tremaining: 17.8s\n",
      "379:\tlearn: 0.5109838\ttotal: 10.9s\tremaining: 17.8s\n",
      "380:\tlearn: 0.5109773\ttotal: 10.9s\tremaining: 17.7s\n",
      "381:\tlearn: 0.5109709\ttotal: 10.9s\tremaining: 17.7s\n",
      "382:\tlearn: 0.5109563\ttotal: 11s\tremaining: 17.7s\n",
      "383:\tlearn: 0.5109563\ttotal: 11s\tremaining: 17.6s\n",
      "384:\tlearn: 0.5109504\ttotal: 11s\tremaining: 17.6s\n",
      "385:\tlearn: 0.5109447\ttotal: 11.1s\tremaining: 17.6s\n",
      "386:\tlearn: 0.5109345\ttotal: 11.1s\tremaining: 17.6s\n",
      "387:\tlearn: 0.5109187\ttotal: 11.1s\tremaining: 17.5s\n",
      "388:\tlearn: 0.5109110\ttotal: 11.1s\tremaining: 17.5s\n",
      "389:\tlearn: 0.5108915\ttotal: 11.2s\tremaining: 17.5s\n",
      "390:\tlearn: 0.5108800\ttotal: 11.2s\tremaining: 17.4s\n",
      "391:\tlearn: 0.5108753\ttotal: 11.2s\tremaining: 17.4s\n",
      "392:\tlearn: 0.5108753\ttotal: 11.3s\tremaining: 17.4s\n",
      "393:\tlearn: 0.5108634\ttotal: 11.3s\tremaining: 17.4s\n",
      "394:\tlearn: 0.5108591\ttotal: 11.3s\tremaining: 17.3s\n",
      "395:\tlearn: 0.5108568\ttotal: 11.3s\tremaining: 17.3s\n",
      "396:\tlearn: 0.5108567\ttotal: 11.4s\tremaining: 17.3s\n",
      "397:\tlearn: 0.5108567\ttotal: 11.4s\tremaining: 17.2s\n",
      "398:\tlearn: 0.5108567\ttotal: 11.4s\tremaining: 17.2s\n",
      "399:\tlearn: 0.5108530\ttotal: 11.4s\tremaining: 17.1s\n",
      "400:\tlearn: 0.5108497\ttotal: 11.5s\tremaining: 17.1s\n",
      "401:\tlearn: 0.5108377\ttotal: 11.5s\tremaining: 17.1s\n",
      "402:\tlearn: 0.5108279\ttotal: 11.5s\tremaining: 17s\n",
      "403:\tlearn: 0.5108226\ttotal: 11.5s\tremaining: 17s\n",
      "404:\tlearn: 0.5108177\ttotal: 11.6s\tremaining: 17s\n",
      "405:\tlearn: 0.5108093\ttotal: 11.6s\tremaining: 17s\n",
      "406:\tlearn: 0.5108081\ttotal: 11.6s\tremaining: 16.9s\n",
      "407:\tlearn: 0.5108081\ttotal: 11.6s\tremaining: 16.9s\n",
      "408:\tlearn: 0.5108013\ttotal: 11.7s\tremaining: 16.9s\n",
      "409:\tlearn: 0.5108004\ttotal: 11.7s\tremaining: 16.8s\n",
      "410:\tlearn: 0.5107935\ttotal: 11.7s\tremaining: 16.8s\n",
      "411:\tlearn: 0.5107923\ttotal: 11.7s\tremaining: 16.8s\n",
      "412:\tlearn: 0.5107890\ttotal: 11.8s\tremaining: 16.7s\n",
      "413:\tlearn: 0.5107817\ttotal: 11.8s\tremaining: 16.7s\n",
      "414:\tlearn: 0.5107814\ttotal: 11.8s\tremaining: 16.7s\n",
      "415:\tlearn: 0.5107742\ttotal: 11.9s\tremaining: 16.7s\n",
      "416:\tlearn: 0.5107550\ttotal: 11.9s\tremaining: 16.6s\n",
      "417:\tlearn: 0.5107505\ttotal: 11.9s\tremaining: 16.6s\n",
      "418:\tlearn: 0.5107489\ttotal: 12s\tremaining: 16.6s\n",
      "419:\tlearn: 0.5107443\ttotal: 12.1s\tremaining: 16.6s\n",
      "420:\tlearn: 0.5107335\ttotal: 12.1s\tremaining: 16.6s\n",
      "421:\tlearn: 0.5107293\ttotal: 12.1s\tremaining: 16.6s\n",
      "422:\tlearn: 0.5107242\ttotal: 12.2s\tremaining: 16.6s\n",
      "423:\tlearn: 0.5107024\ttotal: 12.2s\tremaining: 16.6s\n",
      "424:\tlearn: 0.5106905\ttotal: 12.2s\tremaining: 16.5s\n",
      "425:\tlearn: 0.5106863\ttotal: 12.2s\tremaining: 16.5s\n",
      "426:\tlearn: 0.5106749\ttotal: 12.3s\tremaining: 16.5s\n",
      "427:\tlearn: 0.5106700\ttotal: 12.3s\tremaining: 16.5s\n",
      "428:\tlearn: 0.5106663\ttotal: 12.4s\tremaining: 16.5s\n",
      "429:\tlearn: 0.5106534\ttotal: 12.4s\tremaining: 16.4s\n",
      "430:\tlearn: 0.5106488\ttotal: 12.4s\tremaining: 16.4s\n",
      "431:\tlearn: 0.5106441\ttotal: 12.4s\tremaining: 16.4s\n",
      "432:\tlearn: 0.5106372\ttotal: 12.5s\tremaining: 16.3s\n",
      "433:\tlearn: 0.5106261\ttotal: 12.5s\tremaining: 16.3s\n",
      "434:\tlearn: 0.5106188\ttotal: 12.6s\tremaining: 16.3s\n",
      "435:\tlearn: 0.5106134\ttotal: 12.6s\tremaining: 16.3s\n",
      "436:\tlearn: 0.5106119\ttotal: 12.6s\tremaining: 16.3s\n",
      "437:\tlearn: 0.5106105\ttotal: 12.6s\tremaining: 16.2s\n",
      "438:\tlearn: 0.5106063\ttotal: 12.7s\tremaining: 16.2s\n",
      "439:\tlearn: 0.5106020\ttotal: 12.7s\tremaining: 16.2s\n",
      "440:\tlearn: 0.5105937\ttotal: 12.7s\tremaining: 16.2s\n",
      "441:\tlearn: 0.5105840\ttotal: 12.8s\tremaining: 16.1s\n",
      "442:\tlearn: 0.5105840\ttotal: 12.8s\tremaining: 16.1s\n",
      "443:\tlearn: 0.5105787\ttotal: 12.8s\tremaining: 16.1s\n",
      "444:\tlearn: 0.5105737\ttotal: 12.9s\tremaining: 16.1s\n",
      "445:\tlearn: 0.5105668\ttotal: 12.9s\tremaining: 16s\n",
      "446:\tlearn: 0.5105514\ttotal: 12.9s\tremaining: 16s\n",
      "447:\tlearn: 0.5105462\ttotal: 13s\tremaining: 16s\n",
      "448:\tlearn: 0.5105384\ttotal: 13s\tremaining: 15.9s\n",
      "449:\tlearn: 0.5105336\ttotal: 13s\tremaining: 15.9s\n",
      "450:\tlearn: 0.5105273\ttotal: 13s\tremaining: 15.9s\n",
      "451:\tlearn: 0.5105179\ttotal: 13.1s\tremaining: 15.9s\n",
      "452:\tlearn: 0.5105135\ttotal: 13.1s\tremaining: 15.8s\n",
      "453:\tlearn: 0.5105068\ttotal: 13.1s\tremaining: 15.8s\n",
      "454:\tlearn: 0.5105047\ttotal: 13.2s\tremaining: 15.8s\n",
      "455:\tlearn: 0.5105004\ttotal: 13.2s\tremaining: 15.7s\n",
      "456:\tlearn: 0.5104958\ttotal: 13.2s\tremaining: 15.7s\n",
      "457:\tlearn: 0.5104924\ttotal: 13.2s\tremaining: 15.7s\n",
      "458:\tlearn: 0.5104773\ttotal: 13.3s\tremaining: 15.7s\n",
      "459:\tlearn: 0.5104639\ttotal: 13.3s\tremaining: 15.6s\n",
      "460:\tlearn: 0.5104521\ttotal: 13.3s\tremaining: 15.6s\n",
      "461:\tlearn: 0.5104450\ttotal: 13.4s\tremaining: 15.6s\n",
      "462:\tlearn: 0.5104417\ttotal: 13.4s\tremaining: 15.5s\n",
      "463:\tlearn: 0.5104396\ttotal: 13.4s\tremaining: 15.5s\n",
      "464:\tlearn: 0.5104302\ttotal: 13.4s\tremaining: 15.5s\n",
      "465:\tlearn: 0.5104210\ttotal: 13.5s\tremaining: 15.4s\n",
      "466:\tlearn: 0.5104146\ttotal: 13.5s\tremaining: 15.4s\n",
      "467:\tlearn: 0.5104100\ttotal: 13.5s\tremaining: 15.4s\n",
      "468:\tlearn: 0.5103968\ttotal: 13.6s\tremaining: 15.4s\n",
      "469:\tlearn: 0.5103920\ttotal: 13.6s\tremaining: 15.3s\n",
      "470:\tlearn: 0.5103835\ttotal: 13.6s\tremaining: 15.3s\n",
      "471:\tlearn: 0.5103771\ttotal: 13.6s\tremaining: 15.3s\n",
      "472:\tlearn: 0.5103762\ttotal: 13.7s\tremaining: 15.2s\n",
      "473:\tlearn: 0.5103759\ttotal: 13.7s\tremaining: 15.2s\n",
      "474:\tlearn: 0.5103698\ttotal: 13.7s\tremaining: 15.2s\n",
      "475:\tlearn: 0.5103655\ttotal: 13.7s\tremaining: 15.1s\n",
      "476:\tlearn: 0.5103581\ttotal: 13.8s\tremaining: 15.1s\n",
      "477:\tlearn: 0.5103534\ttotal: 13.8s\tremaining: 15.1s\n",
      "478:\tlearn: 0.5103468\ttotal: 13.8s\tremaining: 15s\n",
      "479:\tlearn: 0.5103420\ttotal: 13.9s\tremaining: 15s\n",
      "480:\tlearn: 0.5103352\ttotal: 13.9s\tremaining: 15s\n",
      "481:\tlearn: 0.5103258\ttotal: 13.9s\tremaining: 15s\n",
      "482:\tlearn: 0.5103258\ttotal: 13.9s\tremaining: 14.9s\n",
      "483:\tlearn: 0.5103246\ttotal: 14s\tremaining: 14.9s\n",
      "484:\tlearn: 0.5103207\ttotal: 14s\tremaining: 14.8s\n",
      "485:\tlearn: 0.5103133\ttotal: 14s\tremaining: 14.8s\n",
      "486:\tlearn: 0.5103015\ttotal: 14s\tremaining: 14.8s\n",
      "487:\tlearn: 0.5102906\ttotal: 14.1s\tremaining: 14.8s\n",
      "488:\tlearn: 0.5102723\ttotal: 14.1s\tremaining: 14.7s\n",
      "489:\tlearn: 0.5102671\ttotal: 14.1s\tremaining: 14.7s\n",
      "490:\tlearn: 0.5102604\ttotal: 14.2s\tremaining: 14.7s\n",
      "491:\tlearn: 0.5102596\ttotal: 14.2s\tremaining: 14.6s\n",
      "492:\tlearn: 0.5102573\ttotal: 14.2s\tremaining: 14.6s\n",
      "493:\tlearn: 0.5102471\ttotal: 14.2s\tremaining: 14.6s\n",
      "494:\tlearn: 0.5102415\ttotal: 14.2s\tremaining: 14.5s\n",
      "495:\tlearn: 0.5102308\ttotal: 14.3s\tremaining: 14.5s\n",
      "496:\tlearn: 0.5102216\ttotal: 14.3s\tremaining: 14.5s\n",
      "497:\tlearn: 0.5102098\ttotal: 14.3s\tremaining: 14.5s\n",
      "498:\tlearn: 0.5102092\ttotal: 14.4s\tremaining: 14.4s\n",
      "499:\tlearn: 0.5102077\ttotal: 14.4s\tremaining: 14.4s\n",
      "500:\tlearn: 0.5102001\ttotal: 14.4s\tremaining: 14.4s\n",
      "501:\tlearn: 0.5101972\ttotal: 14.4s\tremaining: 14.3s\n",
      "502:\tlearn: 0.5101884\ttotal: 14.5s\tremaining: 14.3s\n",
      "503:\tlearn: 0.5101842\ttotal: 14.5s\tremaining: 14.3s\n",
      "504:\tlearn: 0.5101744\ttotal: 14.6s\tremaining: 14.3s\n",
      "505:\tlearn: 0.5101655\ttotal: 14.6s\tremaining: 14.3s\n",
      "506:\tlearn: 0.5101629\ttotal: 14.6s\tremaining: 14.2s\n",
      "507:\tlearn: 0.5101528\ttotal: 14.7s\tremaining: 14.2s\n",
      "508:\tlearn: 0.5101469\ttotal: 14.7s\tremaining: 14.2s\n",
      "509:\tlearn: 0.5101277\ttotal: 14.7s\tremaining: 14.2s\n",
      "510:\tlearn: 0.5101216\ttotal: 14.8s\tremaining: 14.1s\n",
      "511:\tlearn: 0.5101212\ttotal: 14.8s\tremaining: 14.1s\n",
      "512:\tlearn: 0.5101100\ttotal: 14.8s\tremaining: 14.1s\n",
      "513:\tlearn: 0.5101079\ttotal: 14.9s\tremaining: 14s\n",
      "514:\tlearn: 0.5101049\ttotal: 14.9s\tremaining: 14s\n",
      "515:\tlearn: 0.5101034\ttotal: 14.9s\tremaining: 14s\n",
      "516:\tlearn: 0.5101030\ttotal: 14.9s\tremaining: 14s\n",
      "517:\tlearn: 0.5100967\ttotal: 15s\tremaining: 13.9s\n",
      "518:\tlearn: 0.5100954\ttotal: 15s\tremaining: 13.9s\n",
      "519:\tlearn: 0.5100911\ttotal: 15s\tremaining: 13.9s\n",
      "520:\tlearn: 0.5100889\ttotal: 15.1s\tremaining: 13.8s\n",
      "521:\tlearn: 0.5100886\ttotal: 15.1s\tremaining: 13.8s\n",
      "522:\tlearn: 0.5100845\ttotal: 15.1s\tremaining: 13.8s\n",
      "523:\tlearn: 0.5100729\ttotal: 15.2s\tremaining: 13.8s\n",
      "524:\tlearn: 0.5100666\ttotal: 15.2s\tremaining: 13.7s\n",
      "525:\tlearn: 0.5100650\ttotal: 15.2s\tremaining: 13.7s\n",
      "526:\tlearn: 0.5100603\ttotal: 15.2s\tremaining: 13.7s\n",
      "527:\tlearn: 0.5100584\ttotal: 15.3s\tremaining: 13.7s\n",
      "528:\tlearn: 0.5100584\ttotal: 15.3s\tremaining: 13.6s\n",
      "529:\tlearn: 0.5100581\ttotal: 15.3s\tremaining: 13.6s\n",
      "530:\tlearn: 0.5100422\ttotal: 15.4s\tremaining: 13.6s\n",
      "531:\tlearn: 0.5100278\ttotal: 15.4s\tremaining: 13.5s\n",
      "532:\tlearn: 0.5100153\ttotal: 15.4s\tremaining: 13.5s\n",
      "533:\tlearn: 0.5100105\ttotal: 15.4s\tremaining: 13.5s\n",
      "534:\tlearn: 0.5099952\ttotal: 15.5s\tremaining: 13.5s\n",
      "535:\tlearn: 0.5099853\ttotal: 15.5s\tremaining: 13.4s\n",
      "536:\tlearn: 0.5099847\ttotal: 15.5s\tremaining: 13.4s\n",
      "537:\tlearn: 0.5099805\ttotal: 15.6s\tremaining: 13.4s\n",
      "538:\tlearn: 0.5099694\ttotal: 15.6s\tremaining: 13.4s\n",
      "539:\tlearn: 0.5099670\ttotal: 15.6s\tremaining: 13.3s\n",
      "540:\tlearn: 0.5099569\ttotal: 15.7s\tremaining: 13.3s\n",
      "541:\tlearn: 0.5099567\ttotal: 15.7s\tremaining: 13.3s\n",
      "542:\tlearn: 0.5099512\ttotal: 15.8s\tremaining: 13.3s\n",
      "543:\tlearn: 0.5099474\ttotal: 15.8s\tremaining: 13.2s\n",
      "544:\tlearn: 0.5099414\ttotal: 15.8s\tremaining: 13.2s\n",
      "545:\tlearn: 0.5099382\ttotal: 15.8s\tremaining: 13.2s\n",
      "546:\tlearn: 0.5099321\ttotal: 15.9s\tremaining: 13.1s\n",
      "547:\tlearn: 0.5099236\ttotal: 15.9s\tremaining: 13.1s\n",
      "548:\tlearn: 0.5099205\ttotal: 15.9s\tremaining: 13.1s\n",
      "549:\tlearn: 0.5099118\ttotal: 16s\tremaining: 13.1s\n",
      "550:\tlearn: 0.5099114\ttotal: 16s\tremaining: 13s\n",
      "551:\tlearn: 0.5099003\ttotal: 16s\tremaining: 13s\n",
      "552:\tlearn: 0.5098992\ttotal: 16.1s\tremaining: 13s\n",
      "553:\tlearn: 0.5098904\ttotal: 16.1s\tremaining: 13s\n",
      "554:\tlearn: 0.5098789\ttotal: 16.1s\tremaining: 12.9s\n",
      "555:\tlearn: 0.5098672\ttotal: 16.2s\tremaining: 12.9s\n",
      "556:\tlearn: 0.5098604\ttotal: 16.2s\tremaining: 12.9s\n",
      "557:\tlearn: 0.5098553\ttotal: 16.2s\tremaining: 12.8s\n",
      "558:\tlearn: 0.5098542\ttotal: 16.3s\tremaining: 12.8s\n",
      "559:\tlearn: 0.5098446\ttotal: 16.3s\tremaining: 12.8s\n",
      "560:\tlearn: 0.5098347\ttotal: 16.3s\tremaining: 12.8s\n",
      "561:\tlearn: 0.5098316\ttotal: 16.3s\tremaining: 12.7s\n",
      "562:\tlearn: 0.5098226\ttotal: 16.4s\tremaining: 12.7s\n",
      "563:\tlearn: 0.5098222\ttotal: 16.4s\tremaining: 12.7s\n",
      "564:\tlearn: 0.5098205\ttotal: 16.4s\tremaining: 12.7s\n",
      "565:\tlearn: 0.5098126\ttotal: 16.5s\tremaining: 12.6s\n",
      "566:\tlearn: 0.5098042\ttotal: 16.5s\tremaining: 12.6s\n",
      "567:\tlearn: 0.5097933\ttotal: 16.5s\tremaining: 12.6s\n",
      "568:\tlearn: 0.5097900\ttotal: 16.6s\tremaining: 12.5s\n",
      "569:\tlearn: 0.5097899\ttotal: 16.6s\tremaining: 12.5s\n",
      "570:\tlearn: 0.5097897\ttotal: 16.6s\tremaining: 12.5s\n",
      "571:\tlearn: 0.5097870\ttotal: 16.6s\tremaining: 12.5s\n",
      "572:\tlearn: 0.5097846\ttotal: 16.7s\tremaining: 12.4s\n",
      "573:\tlearn: 0.5097821\ttotal: 16.7s\tremaining: 12.4s\n",
      "574:\tlearn: 0.5097750\ttotal: 16.7s\tremaining: 12.4s\n",
      "575:\tlearn: 0.5097707\ttotal: 16.8s\tremaining: 12.3s\n",
      "576:\tlearn: 0.5097702\ttotal: 16.8s\tremaining: 12.3s\n",
      "577:\tlearn: 0.5097622\ttotal: 16.8s\tremaining: 12.3s\n",
      "578:\tlearn: 0.5097586\ttotal: 16.9s\tremaining: 12.3s\n",
      "579:\tlearn: 0.5097520\ttotal: 16.9s\tremaining: 12.3s\n",
      "580:\tlearn: 0.5097398\ttotal: 17s\tremaining: 12.3s\n",
      "581:\tlearn: 0.5097354\ttotal: 17s\tremaining: 12.2s\n",
      "582:\tlearn: 0.5097342\ttotal: 17.1s\tremaining: 12.2s\n",
      "583:\tlearn: 0.5097322\ttotal: 17.1s\tremaining: 12.2s\n",
      "584:\tlearn: 0.5097315\ttotal: 17.2s\tremaining: 12.2s\n",
      "585:\tlearn: 0.5097302\ttotal: 17.2s\tremaining: 12.1s\n",
      "586:\tlearn: 0.5097228\ttotal: 17.2s\tremaining: 12.1s\n",
      "587:\tlearn: 0.5097182\ttotal: 17.3s\tremaining: 12.1s\n",
      "588:\tlearn: 0.5097089\ttotal: 17.3s\tremaining: 12.1s\n",
      "589:\tlearn: 0.5096956\ttotal: 17.3s\tremaining: 12s\n",
      "590:\tlearn: 0.5096892\ttotal: 17.3s\tremaining: 12s\n",
      "591:\tlearn: 0.5096831\ttotal: 17.4s\tremaining: 12s\n",
      "592:\tlearn: 0.5096603\ttotal: 17.4s\tremaining: 11.9s\n",
      "593:\tlearn: 0.5096526\ttotal: 17.4s\tremaining: 11.9s\n",
      "594:\tlearn: 0.5096483\ttotal: 17.5s\tremaining: 11.9s\n",
      "595:\tlearn: 0.5096456\ttotal: 17.5s\tremaining: 11.9s\n",
      "596:\tlearn: 0.5096396\ttotal: 17.5s\tremaining: 11.8s\n",
      "597:\tlearn: 0.5096362\ttotal: 17.5s\tremaining: 11.8s\n",
      "598:\tlearn: 0.5096318\ttotal: 17.6s\tremaining: 11.8s\n",
      "599:\tlearn: 0.5096287\ttotal: 17.6s\tremaining: 11.7s\n",
      "600:\tlearn: 0.5096228\ttotal: 17.6s\tremaining: 11.7s\n",
      "601:\tlearn: 0.5096188\ttotal: 17.7s\tremaining: 11.7s\n",
      "602:\tlearn: 0.5096144\ttotal: 17.7s\tremaining: 11.6s\n",
      "603:\tlearn: 0.5096144\ttotal: 17.7s\tremaining: 11.6s\n",
      "604:\tlearn: 0.5096119\ttotal: 17.8s\tremaining: 11.6s\n",
      "605:\tlearn: 0.5096099\ttotal: 17.8s\tremaining: 11.6s\n",
      "606:\tlearn: 0.5096034\ttotal: 17.8s\tremaining: 11.5s\n",
      "607:\tlearn: 0.5095962\ttotal: 17.8s\tremaining: 11.5s\n",
      "608:\tlearn: 0.5095950\ttotal: 17.9s\tremaining: 11.5s\n",
      "609:\tlearn: 0.5095946\ttotal: 17.9s\tremaining: 11.4s\n",
      "610:\tlearn: 0.5095910\ttotal: 17.9s\tremaining: 11.4s\n",
      "611:\tlearn: 0.5095861\ttotal: 17.9s\tremaining: 11.4s\n",
      "612:\tlearn: 0.5095793\ttotal: 18s\tremaining: 11.3s\n",
      "613:\tlearn: 0.5095753\ttotal: 18s\tremaining: 11.3s\n",
      "614:\tlearn: 0.5095640\ttotal: 18s\tremaining: 11.3s\n",
      "615:\tlearn: 0.5095599\ttotal: 18.1s\tremaining: 11.3s\n",
      "616:\tlearn: 0.5095579\ttotal: 18.1s\tremaining: 11.2s\n",
      "617:\tlearn: 0.5095408\ttotal: 18.1s\tremaining: 11.2s\n",
      "618:\tlearn: 0.5095333\ttotal: 18.2s\tremaining: 11.2s\n",
      "619:\tlearn: 0.5095328\ttotal: 18.2s\tremaining: 11.2s\n",
      "620:\tlearn: 0.5095255\ttotal: 18.2s\tremaining: 11.1s\n",
      "621:\tlearn: 0.5095182\ttotal: 18.3s\tremaining: 11.1s\n",
      "622:\tlearn: 0.5095168\ttotal: 18.3s\tremaining: 11.1s\n",
      "623:\tlearn: 0.5095108\ttotal: 18.3s\tremaining: 11s\n",
      "624:\tlearn: 0.5095063\ttotal: 18.4s\tremaining: 11s\n",
      "625:\tlearn: 0.5095063\ttotal: 18.4s\tremaining: 11s\n",
      "626:\tlearn: 0.5094922\ttotal: 18.4s\tremaining: 11s\n",
      "627:\tlearn: 0.5094905\ttotal: 18.4s\tremaining: 10.9s\n",
      "628:\tlearn: 0.5094899\ttotal: 18.5s\tremaining: 10.9s\n",
      "629:\tlearn: 0.5094841\ttotal: 18.5s\tremaining: 10.9s\n",
      "630:\tlearn: 0.5094803\ttotal: 18.5s\tremaining: 10.8s\n",
      "631:\tlearn: 0.5094780\ttotal: 18.5s\tremaining: 10.8s\n",
      "632:\tlearn: 0.5094780\ttotal: 18.6s\tremaining: 10.8s\n",
      "633:\tlearn: 0.5094776\ttotal: 18.6s\tremaining: 10.7s\n",
      "634:\tlearn: 0.5094725\ttotal: 18.6s\tremaining: 10.7s\n",
      "635:\tlearn: 0.5094681\ttotal: 18.6s\tremaining: 10.7s\n",
      "636:\tlearn: 0.5094579\ttotal: 18.7s\tremaining: 10.6s\n",
      "637:\tlearn: 0.5094574\ttotal: 18.7s\tremaining: 10.6s\n",
      "638:\tlearn: 0.5094548\ttotal: 18.7s\tremaining: 10.6s\n",
      "639:\tlearn: 0.5094527\ttotal: 18.7s\tremaining: 10.5s\n",
      "640:\tlearn: 0.5094494\ttotal: 18.8s\tremaining: 10.5s\n",
      "641:\tlearn: 0.5094407\ttotal: 18.8s\tremaining: 10.5s\n",
      "642:\tlearn: 0.5094376\ttotal: 18.8s\tremaining: 10.5s\n",
      "643:\tlearn: 0.5094344\ttotal: 18.9s\tremaining: 10.4s\n",
      "644:\tlearn: 0.5094170\ttotal: 18.9s\tremaining: 10.4s\n",
      "645:\tlearn: 0.5094146\ttotal: 18.9s\tremaining: 10.4s\n",
      "646:\tlearn: 0.5094115\ttotal: 18.9s\tremaining: 10.3s\n",
      "647:\tlearn: 0.5094112\ttotal: 19s\tremaining: 10.3s\n",
      "648:\tlearn: 0.5094105\ttotal: 19s\tremaining: 10.3s\n",
      "649:\tlearn: 0.5094099\ttotal: 19s\tremaining: 10.2s\n",
      "650:\tlearn: 0.5094072\ttotal: 19.1s\tremaining: 10.2s\n",
      "651:\tlearn: 0.5093950\ttotal: 19.1s\tremaining: 10.2s\n",
      "652:\tlearn: 0.5093910\ttotal: 19.1s\tremaining: 10.2s\n",
      "653:\tlearn: 0.5093763\ttotal: 19.1s\tremaining: 10.1s\n",
      "654:\tlearn: 0.5093676\ttotal: 19.2s\tremaining: 10.1s\n",
      "655:\tlearn: 0.5093659\ttotal: 19.2s\tremaining: 10.1s\n",
      "656:\tlearn: 0.5093619\ttotal: 19.2s\tremaining: 10s\n",
      "657:\tlearn: 0.5093526\ttotal: 19.3s\tremaining: 10s\n",
      "658:\tlearn: 0.5093475\ttotal: 19.3s\tremaining: 9.98s\n",
      "659:\tlearn: 0.5093311\ttotal: 19.3s\tremaining: 9.95s\n",
      "660:\tlearn: 0.5093302\ttotal: 19.3s\tremaining: 9.92s\n",
      "661:\tlearn: 0.5093202\ttotal: 19.4s\tremaining: 9.89s\n",
      "662:\tlearn: 0.5093145\ttotal: 19.4s\tremaining: 9.86s\n",
      "663:\tlearn: 0.5093100\ttotal: 19.4s\tremaining: 9.83s\n",
      "664:\tlearn: 0.5093096\ttotal: 19.5s\tremaining: 9.8s\n",
      "665:\tlearn: 0.5092981\ttotal: 19.5s\tremaining: 9.77s\n",
      "666:\tlearn: 0.5092921\ttotal: 19.5s\tremaining: 9.73s\n",
      "667:\tlearn: 0.5092893\ttotal: 19.5s\tremaining: 9.71s\n",
      "668:\tlearn: 0.5092698\ttotal: 19.6s\tremaining: 9.68s\n",
      "669:\tlearn: 0.5092667\ttotal: 19.6s\tremaining: 9.65s\n",
      "670:\tlearn: 0.5092614\ttotal: 19.6s\tremaining: 9.62s\n",
      "671:\tlearn: 0.5092575\ttotal: 19.7s\tremaining: 9.59s\n",
      "672:\tlearn: 0.5092546\ttotal: 19.7s\tremaining: 9.56s\n",
      "673:\tlearn: 0.5092504\ttotal: 19.7s\tremaining: 9.53s\n",
      "674:\tlearn: 0.5092345\ttotal: 19.7s\tremaining: 9.5s\n",
      "675:\tlearn: 0.5092336\ttotal: 19.8s\tremaining: 9.48s\n",
      "676:\tlearn: 0.5092299\ttotal: 19.8s\tremaining: 9.45s\n",
      "677:\tlearn: 0.5092277\ttotal: 19.8s\tremaining: 9.42s\n",
      "678:\tlearn: 0.5092215\ttotal: 19.9s\tremaining: 9.39s\n",
      "679:\tlearn: 0.5092214\ttotal: 19.9s\tremaining: 9.36s\n",
      "680:\tlearn: 0.5092081\ttotal: 19.9s\tremaining: 9.33s\n",
      "681:\tlearn: 0.5091978\ttotal: 20s\tremaining: 9.3s\n",
      "682:\tlearn: 0.5091973\ttotal: 20s\tremaining: 9.27s\n",
      "683:\tlearn: 0.5091908\ttotal: 20s\tremaining: 9.24s\n",
      "684:\tlearn: 0.5091902\ttotal: 20s\tremaining: 9.22s\n",
      "685:\tlearn: 0.5091813\ttotal: 20.1s\tremaining: 9.19s\n",
      "686:\tlearn: 0.5091755\ttotal: 20.1s\tremaining: 9.16s\n",
      "687:\tlearn: 0.5091751\ttotal: 20.1s\tremaining: 9.13s\n",
      "688:\tlearn: 0.5091728\ttotal: 20.2s\tremaining: 9.1s\n",
      "689:\tlearn: 0.5091716\ttotal: 20.2s\tremaining: 9.07s\n",
      "690:\tlearn: 0.5091697\ttotal: 20.2s\tremaining: 9.03s\n",
      "691:\tlearn: 0.5091620\ttotal: 20.2s\tremaining: 9s\n",
      "692:\tlearn: 0.5091585\ttotal: 20.3s\tremaining: 8.97s\n",
      "693:\tlearn: 0.5091447\ttotal: 20.3s\tremaining: 8.94s\n",
      "694:\tlearn: 0.5091447\ttotal: 20.3s\tremaining: 8.91s\n",
      "695:\tlearn: 0.5091404\ttotal: 20.3s\tremaining: 8.88s\n",
      "696:\tlearn: 0.5091404\ttotal: 20.4s\tremaining: 8.85s\n",
      "697:\tlearn: 0.5091355\ttotal: 20.4s\tremaining: 8.82s\n",
      "698:\tlearn: 0.5091330\ttotal: 20.4s\tremaining: 8.79s\n",
      "699:\tlearn: 0.5091264\ttotal: 20.4s\tremaining: 8.76s\n",
      "700:\tlearn: 0.5091188\ttotal: 20.5s\tremaining: 8.73s\n",
      "701:\tlearn: 0.5091125\ttotal: 20.5s\tremaining: 8.7s\n",
      "702:\tlearn: 0.5090926\ttotal: 20.5s\tremaining: 8.67s\n",
      "703:\tlearn: 0.5090889\ttotal: 20.6s\tremaining: 8.64s\n",
      "704:\tlearn: 0.5090825\ttotal: 20.6s\tremaining: 8.61s\n",
      "705:\tlearn: 0.5090770\ttotal: 20.6s\tremaining: 8.58s\n",
      "706:\tlearn: 0.5090753\ttotal: 20.6s\tremaining: 8.55s\n",
      "707:\tlearn: 0.5090726\ttotal: 20.7s\tremaining: 8.52s\n",
      "708:\tlearn: 0.5090676\ttotal: 20.7s\tremaining: 8.49s\n",
      "709:\tlearn: 0.5090663\ttotal: 20.7s\tremaining: 8.46s\n",
      "710:\tlearn: 0.5090589\ttotal: 20.7s\tremaining: 8.43s\n",
      "711:\tlearn: 0.5090523\ttotal: 20.8s\tremaining: 8.4s\n",
      "712:\tlearn: 0.5090479\ttotal: 20.8s\tremaining: 8.37s\n",
      "713:\tlearn: 0.5090476\ttotal: 20.8s\tremaining: 8.34s\n",
      "714:\tlearn: 0.5090476\ttotal: 20.8s\tremaining: 8.31s\n",
      "715:\tlearn: 0.5090373\ttotal: 20.9s\tremaining: 8.28s\n",
      "716:\tlearn: 0.5090325\ttotal: 20.9s\tremaining: 8.24s\n",
      "717:\tlearn: 0.5090325\ttotal: 20.9s\tremaining: 8.21s\n",
      "718:\tlearn: 0.5090325\ttotal: 20.9s\tremaining: 8.18s\n",
      "719:\tlearn: 0.5090322\ttotal: 21s\tremaining: 8.15s\n",
      "720:\tlearn: 0.5090302\ttotal: 21s\tremaining: 8.12s\n",
      "721:\tlearn: 0.5090253\ttotal: 21s\tremaining: 8.09s\n",
      "722:\tlearn: 0.5090253\ttotal: 21s\tremaining: 8.06s\n",
      "723:\tlearn: 0.5090253\ttotal: 21.1s\tremaining: 8.03s\n",
      "724:\tlearn: 0.5090225\ttotal: 21.1s\tremaining: 8s\n",
      "725:\tlearn: 0.5090221\ttotal: 21.1s\tremaining: 7.97s\n",
      "726:\tlearn: 0.5090101\ttotal: 21.1s\tremaining: 7.94s\n",
      "727:\tlearn: 0.5090044\ttotal: 21.2s\tremaining: 7.91s\n",
      "728:\tlearn: 0.5090016\ttotal: 21.2s\tremaining: 7.88s\n",
      "729:\tlearn: 0.5089993\ttotal: 21.2s\tremaining: 7.85s\n",
      "730:\tlearn: 0.5089926\ttotal: 21.2s\tremaining: 7.82s\n",
      "731:\tlearn: 0.5089886\ttotal: 21.3s\tremaining: 7.79s\n",
      "732:\tlearn: 0.5089875\ttotal: 21.3s\tremaining: 7.76s\n",
      "733:\tlearn: 0.5089833\ttotal: 21.3s\tremaining: 7.73s\n",
      "734:\tlearn: 0.5089748\ttotal: 21.4s\tremaining: 7.7s\n",
      "735:\tlearn: 0.5089601\ttotal: 21.4s\tremaining: 7.67s\n",
      "736:\tlearn: 0.5089584\ttotal: 21.4s\tremaining: 7.64s\n",
      "737:\tlearn: 0.5089523\ttotal: 21.4s\tremaining: 7.61s\n",
      "738:\tlearn: 0.5089493\ttotal: 21.5s\tremaining: 7.58s\n",
      "739:\tlearn: 0.5089411\ttotal: 21.5s\tremaining: 7.55s\n",
      "740:\tlearn: 0.5089404\ttotal: 21.5s\tremaining: 7.52s\n",
      "741:\tlearn: 0.5089371\ttotal: 21.5s\tremaining: 7.49s\n",
      "742:\tlearn: 0.5089357\ttotal: 21.6s\tremaining: 7.46s\n",
      "743:\tlearn: 0.5089307\ttotal: 21.6s\tremaining: 7.43s\n",
      "744:\tlearn: 0.5089289\ttotal: 21.6s\tremaining: 7.4s\n",
      "745:\tlearn: 0.5089265\ttotal: 21.6s\tremaining: 7.37s\n",
      "746:\tlearn: 0.5089257\ttotal: 21.7s\tremaining: 7.34s\n",
      "747:\tlearn: 0.5089145\ttotal: 21.7s\tremaining: 7.31s\n",
      "748:\tlearn: 0.5089050\ttotal: 21.7s\tremaining: 7.28s\n",
      "749:\tlearn: 0.5089044\ttotal: 21.7s\tremaining: 7.25s\n",
      "750:\tlearn: 0.5088926\ttotal: 21.8s\tremaining: 7.22s\n",
      "751:\tlearn: 0.5088900\ttotal: 21.8s\tremaining: 7.19s\n",
      "752:\tlearn: 0.5088898\ttotal: 21.8s\tremaining: 7.16s\n",
      "753:\tlearn: 0.5088862\ttotal: 21.9s\tremaining: 7.13s\n",
      "754:\tlearn: 0.5088782\ttotal: 21.9s\tremaining: 7.1s\n",
      "755:\tlearn: 0.5088780\ttotal: 21.9s\tremaining: 7.07s\n",
      "756:\tlearn: 0.5088780\ttotal: 21.9s\tremaining: 7.04s\n",
      "757:\tlearn: 0.5088765\ttotal: 22s\tremaining: 7.01s\n",
      "758:\tlearn: 0.5088607\ttotal: 22s\tremaining: 6.98s\n",
      "759:\tlearn: 0.5088509\ttotal: 22s\tremaining: 6.95s\n",
      "760:\tlearn: 0.5088406\ttotal: 22s\tremaining: 6.92s\n",
      "761:\tlearn: 0.5088251\ttotal: 22.1s\tremaining: 6.89s\n",
      "762:\tlearn: 0.5088210\ttotal: 22.1s\tremaining: 6.87s\n",
      "763:\tlearn: 0.5088184\ttotal: 22.1s\tremaining: 6.84s\n",
      "764:\tlearn: 0.5088177\ttotal: 22.2s\tremaining: 6.8s\n",
      "765:\tlearn: 0.5088161\ttotal: 22.2s\tremaining: 6.78s\n",
      "766:\tlearn: 0.5088103\ttotal: 22.2s\tremaining: 6.75s\n",
      "767:\tlearn: 0.5088087\ttotal: 22.2s\tremaining: 6.71s\n",
      "768:\tlearn: 0.5088080\ttotal: 22.3s\tremaining: 6.68s\n",
      "769:\tlearn: 0.5088055\ttotal: 22.3s\tremaining: 6.66s\n",
      "770:\tlearn: 0.5088050\ttotal: 22.3s\tremaining: 6.63s\n",
      "771:\tlearn: 0.5088050\ttotal: 22.3s\tremaining: 6.59s\n",
      "772:\tlearn: 0.5088045\ttotal: 22.4s\tremaining: 6.56s\n",
      "773:\tlearn: 0.5088044\ttotal: 22.4s\tremaining: 6.53s\n",
      "774:\tlearn: 0.5088021\ttotal: 22.4s\tremaining: 6.51s\n",
      "775:\tlearn: 0.5087973\ttotal: 22.4s\tremaining: 6.48s\n",
      "776:\tlearn: 0.5087950\ttotal: 22.5s\tremaining: 6.45s\n",
      "777:\tlearn: 0.5087949\ttotal: 22.5s\tremaining: 6.42s\n",
      "778:\tlearn: 0.5087928\ttotal: 22.5s\tremaining: 6.39s\n",
      "779:\tlearn: 0.5087870\ttotal: 22.5s\tremaining: 6.36s\n",
      "780:\tlearn: 0.5087728\ttotal: 22.6s\tremaining: 6.33s\n",
      "781:\tlearn: 0.5087708\ttotal: 22.6s\tremaining: 6.3s\n",
      "782:\tlearn: 0.5087660\ttotal: 22.6s\tremaining: 6.27s\n",
      "783:\tlearn: 0.5087641\ttotal: 22.6s\tremaining: 6.24s\n",
      "784:\tlearn: 0.5087520\ttotal: 22.7s\tremaining: 6.21s\n",
      "785:\tlearn: 0.5087520\ttotal: 22.7s\tremaining: 6.18s\n",
      "786:\tlearn: 0.5087487\ttotal: 22.7s\tremaining: 6.15s\n",
      "787:\tlearn: 0.5087487\ttotal: 22.7s\tremaining: 6.12s\n",
      "788:\tlearn: 0.5087484\ttotal: 22.8s\tremaining: 6.09s\n",
      "789:\tlearn: 0.5087419\ttotal: 22.8s\tremaining: 6.06s\n",
      "790:\tlearn: 0.5087300\ttotal: 22.8s\tremaining: 6.03s\n",
      "791:\tlearn: 0.5087200\ttotal: 22.9s\tremaining: 6s\n",
      "792:\tlearn: 0.5087187\ttotal: 22.9s\tremaining: 5.97s\n",
      "793:\tlearn: 0.5087129\ttotal: 22.9s\tremaining: 5.94s\n",
      "794:\tlearn: 0.5087116\ttotal: 22.9s\tremaining: 5.91s\n",
      "795:\tlearn: 0.5087091\ttotal: 23s\tremaining: 5.88s\n",
      "796:\tlearn: 0.5087058\ttotal: 23s\tremaining: 5.85s\n",
      "797:\tlearn: 0.5086981\ttotal: 23s\tremaining: 5.83s\n",
      "798:\tlearn: 0.5086923\ttotal: 23s\tremaining: 5.8s\n",
      "799:\tlearn: 0.5086878\ttotal: 23.1s\tremaining: 5.77s\n",
      "800:\tlearn: 0.5086851\ttotal: 23.1s\tremaining: 5.74s\n",
      "801:\tlearn: 0.5086840\ttotal: 23.1s\tremaining: 5.71s\n",
      "802:\tlearn: 0.5086810\ttotal: 23.1s\tremaining: 5.68s\n",
      "803:\tlearn: 0.5086745\ttotal: 23.2s\tremaining: 5.65s\n",
      "804:\tlearn: 0.5086736\ttotal: 23.2s\tremaining: 5.62s\n",
      "805:\tlearn: 0.5086727\ttotal: 23.2s\tremaining: 5.59s\n",
      "806:\tlearn: 0.5086672\ttotal: 23.2s\tremaining: 5.56s\n",
      "807:\tlearn: 0.5086624\ttotal: 23.3s\tremaining: 5.53s\n",
      "808:\tlearn: 0.5086609\ttotal: 23.3s\tremaining: 5.5s\n",
      "809:\tlearn: 0.5086557\ttotal: 23.3s\tremaining: 5.47s\n",
      "810:\tlearn: 0.5086546\ttotal: 23.4s\tremaining: 5.44s\n",
      "811:\tlearn: 0.5086545\ttotal: 23.4s\tremaining: 5.41s\n",
      "812:\tlearn: 0.5086542\ttotal: 23.4s\tremaining: 5.38s\n",
      "813:\tlearn: 0.5086542\ttotal: 23.4s\tremaining: 5.35s\n",
      "814:\tlearn: 0.5086523\ttotal: 23.4s\tremaining: 5.32s\n",
      "815:\tlearn: 0.5086425\ttotal: 23.5s\tremaining: 5.29s\n",
      "816:\tlearn: 0.5086375\ttotal: 23.5s\tremaining: 5.26s\n",
      "817:\tlearn: 0.5086338\ttotal: 23.5s\tremaining: 5.23s\n",
      "818:\tlearn: 0.5086337\ttotal: 23.5s\tremaining: 5.2s\n",
      "819:\tlearn: 0.5086312\ttotal: 23.6s\tremaining: 5.17s\n",
      "820:\tlearn: 0.5086253\ttotal: 23.6s\tremaining: 5.14s\n",
      "821:\tlearn: 0.5086249\ttotal: 23.6s\tremaining: 5.11s\n",
      "822:\tlearn: 0.5086185\ttotal: 23.6s\tremaining: 5.08s\n",
      "823:\tlearn: 0.5086152\ttotal: 23.7s\tremaining: 5.05s\n",
      "824:\tlearn: 0.5086059\ttotal: 23.7s\tremaining: 5.03s\n",
      "825:\tlearn: 0.5086017\ttotal: 23.7s\tremaining: 5s\n",
      "826:\tlearn: 0.5085999\ttotal: 23.8s\tremaining: 4.97s\n",
      "827:\tlearn: 0.5085964\ttotal: 23.8s\tremaining: 4.94s\n",
      "828:\tlearn: 0.5085911\ttotal: 23.8s\tremaining: 4.91s\n",
      "829:\tlearn: 0.5085911\ttotal: 23.8s\tremaining: 4.88s\n",
      "830:\tlearn: 0.5085898\ttotal: 23.9s\tremaining: 4.85s\n",
      "831:\tlearn: 0.5085808\ttotal: 23.9s\tremaining: 4.82s\n",
      "832:\tlearn: 0.5085783\ttotal: 23.9s\tremaining: 4.79s\n",
      "833:\tlearn: 0.5085713\ttotal: 23.9s\tremaining: 4.76s\n",
      "834:\tlearn: 0.5085679\ttotal: 24s\tremaining: 4.74s\n",
      "835:\tlearn: 0.5085678\ttotal: 24s\tremaining: 4.7s\n",
      "836:\tlearn: 0.5085535\ttotal: 24s\tremaining: 4.68s\n",
      "837:\tlearn: 0.5085518\ttotal: 24s\tremaining: 4.65s\n",
      "838:\tlearn: 0.5085490\ttotal: 24.1s\tremaining: 4.62s\n",
      "839:\tlearn: 0.5085480\ttotal: 24.1s\tremaining: 4.59s\n",
      "840:\tlearn: 0.5085371\ttotal: 24.1s\tremaining: 4.56s\n",
      "841:\tlearn: 0.5085365\ttotal: 24.1s\tremaining: 4.53s\n",
      "842:\tlearn: 0.5085328\ttotal: 24.2s\tremaining: 4.5s\n",
      "843:\tlearn: 0.5085257\ttotal: 24.2s\tremaining: 4.47s\n",
      "844:\tlearn: 0.5085151\ttotal: 24.2s\tremaining: 4.44s\n",
      "845:\tlearn: 0.5085124\ttotal: 24.3s\tremaining: 4.42s\n",
      "846:\tlearn: 0.5085124\ttotal: 24.3s\tremaining: 4.38s\n",
      "847:\tlearn: 0.5085102\ttotal: 24.3s\tremaining: 4.36s\n",
      "848:\tlearn: 0.5085036\ttotal: 24.3s\tremaining: 4.33s\n",
      "849:\tlearn: 0.5085022\ttotal: 24.4s\tremaining: 4.3s\n",
      "850:\tlearn: 0.5084849\ttotal: 24.4s\tremaining: 4.27s\n",
      "851:\tlearn: 0.5084832\ttotal: 24.4s\tremaining: 4.24s\n",
      "852:\tlearn: 0.5084803\ttotal: 24.4s\tremaining: 4.21s\n",
      "853:\tlearn: 0.5084783\ttotal: 24.5s\tremaining: 4.18s\n",
      "854:\tlearn: 0.5084763\ttotal: 24.5s\tremaining: 4.15s\n",
      "855:\tlearn: 0.5084757\ttotal: 24.5s\tremaining: 4.12s\n",
      "856:\tlearn: 0.5084726\ttotal: 24.5s\tremaining: 4.09s\n",
      "857:\tlearn: 0.5084714\ttotal: 24.6s\tremaining: 4.07s\n",
      "858:\tlearn: 0.5084662\ttotal: 24.6s\tremaining: 4.04s\n",
      "859:\tlearn: 0.5084551\ttotal: 24.6s\tremaining: 4.01s\n",
      "860:\tlearn: 0.5084452\ttotal: 24.7s\tremaining: 3.98s\n",
      "861:\tlearn: 0.5084452\ttotal: 24.7s\tremaining: 3.95s\n",
      "862:\tlearn: 0.5084429\ttotal: 24.7s\tremaining: 3.92s\n",
      "863:\tlearn: 0.5084388\ttotal: 24.7s\tremaining: 3.9s\n",
      "864:\tlearn: 0.5084343\ttotal: 24.8s\tremaining: 3.87s\n",
      "865:\tlearn: 0.5084341\ttotal: 24.8s\tremaining: 3.84s\n",
      "866:\tlearn: 0.5084336\ttotal: 24.9s\tremaining: 3.81s\n",
      "867:\tlearn: 0.5084320\ttotal: 24.9s\tremaining: 3.79s\n",
      "868:\tlearn: 0.5084294\ttotal: 24.9s\tremaining: 3.76s\n",
      "869:\tlearn: 0.5084235\ttotal: 25s\tremaining: 3.73s\n",
      "870:\tlearn: 0.5084208\ttotal: 25.1s\tremaining: 3.71s\n",
      "871:\tlearn: 0.5084189\ttotal: 25.1s\tremaining: 3.68s\n",
      "872:\tlearn: 0.5084102\ttotal: 25.1s\tremaining: 3.65s\n",
      "873:\tlearn: 0.5084097\ttotal: 25.1s\tremaining: 3.62s\n",
      "874:\tlearn: 0.5083970\ttotal: 25.2s\tremaining: 3.6s\n",
      "875:\tlearn: 0.5083935\ttotal: 25.2s\tremaining: 3.57s\n",
      "876:\tlearn: 0.5083933\ttotal: 25.2s\tremaining: 3.54s\n",
      "877:\tlearn: 0.5083860\ttotal: 25.3s\tremaining: 3.51s\n",
      "878:\tlearn: 0.5083828\ttotal: 25.3s\tremaining: 3.48s\n",
      "879:\tlearn: 0.5083796\ttotal: 25.3s\tremaining: 3.45s\n",
      "880:\tlearn: 0.5083740\ttotal: 25.3s\tremaining: 3.42s\n",
      "881:\tlearn: 0.5083708\ttotal: 25.4s\tremaining: 3.39s\n",
      "882:\tlearn: 0.5083648\ttotal: 25.4s\tremaining: 3.37s\n",
      "883:\tlearn: 0.5083579\ttotal: 25.4s\tremaining: 3.34s\n",
      "884:\tlearn: 0.5083563\ttotal: 25.5s\tremaining: 3.31s\n",
      "885:\tlearn: 0.5083504\ttotal: 25.5s\tremaining: 3.28s\n",
      "886:\tlearn: 0.5083488\ttotal: 25.6s\tremaining: 3.25s\n",
      "887:\tlearn: 0.5083426\ttotal: 25.6s\tremaining: 3.23s\n",
      "888:\tlearn: 0.5083377\ttotal: 25.6s\tremaining: 3.2s\n",
      "889:\tlearn: 0.5083320\ttotal: 25.7s\tremaining: 3.17s\n",
      "890:\tlearn: 0.5083320\ttotal: 25.7s\tremaining: 3.14s\n",
      "891:\tlearn: 0.5083285\ttotal: 25.7s\tremaining: 3.11s\n",
      "892:\tlearn: 0.5083236\ttotal: 25.7s\tremaining: 3.08s\n",
      "893:\tlearn: 0.5083235\ttotal: 25.8s\tremaining: 3.05s\n",
      "894:\tlearn: 0.5083233\ttotal: 25.8s\tremaining: 3.02s\n",
      "895:\tlearn: 0.5083194\ttotal: 25.8s\tremaining: 2.99s\n",
      "896:\tlearn: 0.5083106\ttotal: 25.8s\tremaining: 2.96s\n",
      "897:\tlearn: 0.5083086\ttotal: 25.8s\tremaining: 2.94s\n",
      "898:\tlearn: 0.5083045\ttotal: 25.9s\tremaining: 2.91s\n",
      "899:\tlearn: 0.5083028\ttotal: 25.9s\tremaining: 2.88s\n",
      "900:\tlearn: 0.5083028\ttotal: 26s\tremaining: 2.85s\n",
      "901:\tlearn: 0.5082840\ttotal: 26s\tremaining: 2.82s\n",
      "902:\tlearn: 0.5082831\ttotal: 26s\tremaining: 2.79s\n",
      "903:\tlearn: 0.5082831\ttotal: 26s\tremaining: 2.77s\n",
      "904:\tlearn: 0.5082713\ttotal: 26.1s\tremaining: 2.74s\n",
      "905:\tlearn: 0.5082680\ttotal: 26.1s\tremaining: 2.71s\n",
      "906:\tlearn: 0.5082680\ttotal: 26.1s\tremaining: 2.68s\n",
      "907:\tlearn: 0.5082654\ttotal: 26.2s\tremaining: 2.65s\n",
      "908:\tlearn: 0.5082611\ttotal: 26.2s\tremaining: 2.62s\n",
      "909:\tlearn: 0.5082610\ttotal: 26.2s\tremaining: 2.59s\n",
      "910:\tlearn: 0.5082595\ttotal: 26.2s\tremaining: 2.56s\n",
      "911:\tlearn: 0.5082592\ttotal: 26.3s\tremaining: 2.53s\n",
      "912:\tlearn: 0.5082554\ttotal: 26.3s\tremaining: 2.5s\n",
      "913:\tlearn: 0.5082538\ttotal: 26.3s\tremaining: 2.48s\n",
      "914:\tlearn: 0.5082418\ttotal: 26.4s\tremaining: 2.45s\n",
      "915:\tlearn: 0.5082320\ttotal: 26.4s\tremaining: 2.42s\n",
      "916:\tlearn: 0.5082149\ttotal: 26.4s\tremaining: 2.39s\n",
      "917:\tlearn: 0.5082131\ttotal: 26.4s\tremaining: 2.36s\n",
      "918:\tlearn: 0.5082120\ttotal: 26.5s\tremaining: 2.33s\n",
      "919:\tlearn: 0.5082110\ttotal: 26.5s\tremaining: 2.3s\n",
      "920:\tlearn: 0.5081958\ttotal: 26.5s\tremaining: 2.27s\n",
      "921:\tlearn: 0.5081889\ttotal: 26.5s\tremaining: 2.25s\n",
      "922:\tlearn: 0.5081852\ttotal: 26.6s\tremaining: 2.22s\n",
      "923:\tlearn: 0.5081802\ttotal: 26.6s\tremaining: 2.19s\n",
      "924:\tlearn: 0.5081793\ttotal: 26.6s\tremaining: 2.16s\n",
      "925:\tlearn: 0.5081751\ttotal: 26.7s\tremaining: 2.13s\n",
      "926:\tlearn: 0.5081730\ttotal: 26.7s\tremaining: 2.1s\n",
      "927:\tlearn: 0.5081678\ttotal: 26.7s\tremaining: 2.07s\n",
      "928:\tlearn: 0.5081675\ttotal: 26.7s\tremaining: 2.04s\n",
      "929:\tlearn: 0.5081657\ttotal: 26.8s\tremaining: 2.02s\n",
      "930:\tlearn: 0.5081622\ttotal: 26.8s\tremaining: 1.99s\n",
      "931:\tlearn: 0.5081613\ttotal: 26.8s\tremaining: 1.96s\n",
      "932:\tlearn: 0.5081578\ttotal: 26.9s\tremaining: 1.93s\n",
      "933:\tlearn: 0.5081573\ttotal: 26.9s\tremaining: 1.9s\n",
      "934:\tlearn: 0.5081547\ttotal: 26.9s\tremaining: 1.87s\n",
      "935:\tlearn: 0.5081505\ttotal: 26.9s\tremaining: 1.84s\n",
      "936:\tlearn: 0.5081500\ttotal: 27s\tremaining: 1.81s\n",
      "937:\tlearn: 0.5081499\ttotal: 27s\tremaining: 1.78s\n",
      "938:\tlearn: 0.5081399\ttotal: 27s\tremaining: 1.75s\n",
      "939:\tlearn: 0.5081333\ttotal: 27.1s\tremaining: 1.73s\n",
      "940:\tlearn: 0.5081308\ttotal: 27.1s\tremaining: 1.7s\n",
      "941:\tlearn: 0.5081268\ttotal: 27.1s\tremaining: 1.67s\n",
      "942:\tlearn: 0.5081240\ttotal: 27.1s\tremaining: 1.64s\n",
      "943:\tlearn: 0.5081240\ttotal: 27.1s\tremaining: 1.61s\n",
      "944:\tlearn: 0.5081235\ttotal: 27.2s\tremaining: 1.58s\n",
      "945:\tlearn: 0.5081184\ttotal: 27.2s\tremaining: 1.55s\n",
      "946:\tlearn: 0.5081175\ttotal: 27.2s\tremaining: 1.52s\n",
      "947:\tlearn: 0.5081122\ttotal: 27.3s\tremaining: 1.5s\n",
      "948:\tlearn: 0.5081074\ttotal: 27.3s\tremaining: 1.47s\n",
      "949:\tlearn: 0.5080941\ttotal: 27.3s\tremaining: 1.44s\n",
      "950:\tlearn: 0.5080909\ttotal: 27.3s\tremaining: 1.41s\n",
      "951:\tlearn: 0.5080873\ttotal: 27.4s\tremaining: 1.38s\n",
      "952:\tlearn: 0.5080833\ttotal: 27.4s\tremaining: 1.35s\n",
      "953:\tlearn: 0.5080735\ttotal: 27.4s\tremaining: 1.32s\n",
      "954:\tlearn: 0.5080711\ttotal: 27.5s\tremaining: 1.29s\n",
      "955:\tlearn: 0.5080706\ttotal: 27.5s\tremaining: 1.26s\n",
      "956:\tlearn: 0.5080632\ttotal: 27.5s\tremaining: 1.24s\n",
      "957:\tlearn: 0.5080609\ttotal: 27.6s\tremaining: 1.21s\n",
      "958:\tlearn: 0.5080584\ttotal: 27.6s\tremaining: 1.18s\n",
      "959:\tlearn: 0.5080463\ttotal: 27.6s\tremaining: 1.15s\n",
      "960:\tlearn: 0.5080412\ttotal: 27.6s\tremaining: 1.12s\n",
      "961:\tlearn: 0.5080329\ttotal: 27.7s\tremaining: 1.09s\n",
      "962:\tlearn: 0.5080292\ttotal: 27.7s\tremaining: 1.06s\n",
      "963:\tlearn: 0.5080219\ttotal: 27.7s\tremaining: 1.03s\n",
      "964:\tlearn: 0.5080200\ttotal: 27.8s\tremaining: 1.01s\n",
      "965:\tlearn: 0.5080173\ttotal: 27.8s\tremaining: 978ms\n",
      "966:\tlearn: 0.5080162\ttotal: 27.8s\tremaining: 949ms\n",
      "967:\tlearn: 0.5080154\ttotal: 27.9s\tremaining: 921ms\n",
      "968:\tlearn: 0.5080080\ttotal: 27.9s\tremaining: 892ms\n",
      "969:\tlearn: 0.5080048\ttotal: 27.9s\tremaining: 863ms\n",
      "970:\tlearn: 0.5080042\ttotal: 27.9s\tremaining: 834ms\n",
      "971:\tlearn: 0.5080007\ttotal: 28s\tremaining: 806ms\n",
      "972:\tlearn: 0.5079953\ttotal: 28s\tremaining: 777ms\n",
      "973:\tlearn: 0.5079951\ttotal: 28s\tremaining: 748ms\n",
      "974:\tlearn: 0.5079890\ttotal: 28.1s\tremaining: 719ms\n",
      "975:\tlearn: 0.5079832\ttotal: 28.1s\tremaining: 690ms\n",
      "976:\tlearn: 0.5079795\ttotal: 28.1s\tremaining: 662ms\n",
      "977:\tlearn: 0.5079768\ttotal: 28.1s\tremaining: 633ms\n",
      "978:\tlearn: 0.5079736\ttotal: 28.2s\tremaining: 604ms\n",
      "979:\tlearn: 0.5079683\ttotal: 28.2s\tremaining: 575ms\n",
      "980:\tlearn: 0.5079652\ttotal: 28.2s\tremaining: 546ms\n",
      "981:\tlearn: 0.5079651\ttotal: 28.2s\tremaining: 518ms\n",
      "982:\tlearn: 0.5079647\ttotal: 28.3s\tremaining: 489ms\n",
      "983:\tlearn: 0.5079647\ttotal: 28.3s\tremaining: 460ms\n",
      "984:\tlearn: 0.5079646\ttotal: 28.3s\tremaining: 431ms\n",
      "985:\tlearn: 0.5079643\ttotal: 28.3s\tremaining: 402ms\n",
      "986:\tlearn: 0.5079640\ttotal: 28.3s\tremaining: 373ms\n",
      "987:\tlearn: 0.5079611\ttotal: 28.4s\tremaining: 345ms\n",
      "988:\tlearn: 0.5079602\ttotal: 28.4s\tremaining: 316ms\n",
      "989:\tlearn: 0.5079591\ttotal: 28.4s\tremaining: 287ms\n",
      "990:\tlearn: 0.5079575\ttotal: 28.5s\tremaining: 258ms\n",
      "991:\tlearn: 0.5079572\ttotal: 28.5s\tremaining: 230ms\n",
      "992:\tlearn: 0.5079564\ttotal: 28.5s\tremaining: 201ms\n",
      "993:\tlearn: 0.5079501\ttotal: 28.5s\tremaining: 172ms\n",
      "994:\tlearn: 0.5079498\ttotal: 28.6s\tremaining: 144ms\n",
      "995:\tlearn: 0.5079457\ttotal: 28.6s\tremaining: 115ms\n",
      "996:\tlearn: 0.5079428\ttotal: 28.6s\tremaining: 86.1ms\n",
      "997:\tlearn: 0.5079398\ttotal: 28.6s\tremaining: 57.4ms\n",
      "998:\tlearn: 0.5079389\ttotal: 28.7s\tremaining: 28.7ms\n",
      "999:\tlearn: 0.5079357\ttotal: 28.7s\tremaining: 0us\n"
     ]
    }
   ],
   "source": [
    "cat_model = CatBoostClassifier().fit(X_train, y_train)"
   ]
  },
  {
   "cell_type": "code",
   "execution_count": 106,
   "metadata": {},
   "outputs": [],
   "source": [
    "y_pred = cat_model.predict(X_test)"
   ]
  },
  {
   "cell_type": "code",
   "execution_count": 107,
   "metadata": {},
   "outputs": [],
   "source": [
    "y_pred_train = rf_model.predict(X_train)"
   ]
  },
  {
   "cell_type": "code",
   "execution_count": 108,
   "metadata": {},
   "outputs": [
    {
     "name": "stdout",
     "output_type": "stream",
     "text": [
      "test_score = 0.7465065502183406, train_score = 0.764151587106635\n"
     ]
    }
   ],
   "source": [
    "acc_test = accuracy_score(y_test, y_pred)\n",
    "acc_train = accuracy_score(y_train, y_pred_train)\n",
    "print('test_score = {}, train_score = {}'.format(acc_test, acc_train))"
   ]
  },
  {
   "cell_type": "code",
   "execution_count": 109,
   "metadata": {},
   "outputs": [
    {
     "data": {
      "text/plain": [
       "0.7241543167711086"
      ]
     },
     "execution_count": 109,
     "metadata": {},
     "output_type": "execute_result"
    }
   ],
   "source": [
    "jaccard_score(y_test, y_pred)"
   ]
  },
  {
   "cell_type": "code",
   "execution_count": 110,
   "metadata": {},
   "outputs": [
    {
     "name": "stdout",
     "output_type": "stream",
     "text": [
      "              precision    recall  f1-score   support\n",
      "\n",
      "           1       0.74      0.97      0.84     25221\n",
      "           2       0.78      0.26      0.39     11419\n",
      "\n",
      "    accuracy                           0.75     36640\n",
      "   macro avg       0.76      0.61      0.62     36640\n",
      "weighted avg       0.75      0.75      0.70     36640\n",
      "\n"
     ]
    }
   ],
   "source": [
    "print(classification_report(y_test, y_pred))"
   ]
  },
  {
   "cell_type": "code",
   "execution_count": 111,
   "metadata": {},
   "outputs": [
    {
     "data": {
      "text/plain": [
       "array([[24383,   838],\n",
       "       [ 8450,  2969]], dtype=int64)"
      ]
     },
     "execution_count": 111,
     "metadata": {},
     "output_type": "execute_result"
    }
   ],
   "source": [
    "cm_cb = confusion_matrix(y_test, y_pred)\n",
    "cm_cb"
   ]
  },
  {
   "cell_type": "markdown",
   "metadata": {},
   "source": [
    "# Models"
   ]
  },
  {
   "cell_type": "code",
   "execution_count": 112,
   "metadata": {},
   "outputs": [],
   "source": [
    "models = [knn_model,\n",
    "         LR,\n",
    "         drugTree,\n",
    "         xgb_model,\n",
    "         rf_model,\n",
    "         gbm_model,\n",
    "         cat_model\n",
    "]"
   ]
  },
  {
   "cell_type": "code",
   "execution_count": 113,
   "metadata": {},
   "outputs": [
    {
     "name": "stdout",
     "output_type": "stream",
     "text": [
      "------------------------------\n",
      "KNeighborsClassifier:\n",
      "Accuracy:  72.3772%\n",
      "------------------------------\n",
      "LogisticRegression:\n",
      "Accuracy:  74.3723%\n",
      "------------------------------\n",
      "DecisionTreeClassifier:\n",
      "Accuracy:  74.0639%\n",
      "------------------------------\n",
      "XGBClassifier:\n",
      "Accuracy:  74.6288%\n",
      "------------------------------\n",
      "RandomForestClassifier:\n",
      "Accuracy:  73.9929%\n",
      "------------------------------\n",
      "GradientBoostingClassifier:\n",
      "Accuracy:  74.5633%\n",
      "------------------------------\n",
      "CatBoostClassifier:\n",
      "Accuracy:  74.6507%\n"
     ]
    }
   ],
   "source": [
    "for model in models:\n",
    "    names = model.__class__.__name__\n",
    "    y_pred = model.predict(X_test)\n",
    "    accuracy = accuracy_score(y_test, y_pred)\n",
    "    print(\"-\"*30)\n",
    "    print(names + \":\")\n",
    "    print(\"Accuracy:  {:.4%}\".format(accuracy))"
   ]
  },
  {
   "cell_type": "code",
   "execution_count": 114,
   "metadata": {},
   "outputs": [
    {
     "data": {
      "text/plain": [
       "Text(0.5, 1.0, 'Models Accuracy Rate')"
      ]
     },
     "execution_count": 114,
     "metadata": {},
     "output_type": "execute_result"
    },
    {
     "data": {
      "image/png": "[encoded data removed]",
      "text/plain": [
       "<Figure size 432x288 with 1 Axes>"
      ]
     },
     "metadata": {
      "needs_background": "light"
     },
     "output_type": "display_data"
    }
   ],
   "source": [
    "final = []\n",
    "\n",
    "results = pd.DataFrame(columns = [\"Models\",\"Accuracy\"])\n",
    "\n",
    "for model in models:\n",
    "    names = model.__class__.__name__\n",
    "    y_pred = model.predict(X_test)\n",
    "    accuracy = accuracy_score(y_test, y_pred)\n",
    "    final = pd.DataFrame([[names, accuracy*100]], columns = [\"Models\",\"Accuracy\"])\n",
    "    results = results.append(final)\n",
    "\n",
    "sns.barplot(x = \"Accuracy\", y = \"Models\", data = results, color = \"r\")\n",
    "plt.xlabel(\"Accuracy %\")\n",
    "plt.title(\"Models Accuracy Rate\")"
   ]
  },
  {
   "cell_type": "markdown",
   "metadata": {},
   "source": [
    "-----------------------------"
   ]
  },
  {
   "cell_type": "markdown",
   "metadata": {},
   "source": [
    "| Algorithm          | Jaccard | F1-score | Train-Acc | Test-Acc |\n",
    "|--------------------|---------|----------|-----------|----------|\n",
    "| KNN                | 0.689   | 0.72     | 0.7357    | 0.7237   |\n",
    "| LogisticRegression | 0.723   | 0.74     | 0.7444    | 0.7437   |\n",
    "| Decision Tree      | 0.724   | 0.74     | 0.7429    | 0.7406   |\n",
    "| XGBoost            | 0.724   | 0.75     | 0.7515    | 0.7462   |\n",
    "| RandomForest       | 0.715   | 0.75     | 0.7641    | 0.7399   |\n",
    "| GradientBoosting   | 0.724   | 0.75     | 0.7641    | 0.7456   |\n",
    "| CatBoost           | 0.724   | 0.75     | 0.7641    | 0.7465   |"
   ]
  }
 ],
 "metadata": {
  "kernelspec": {
   "display_name": "Python 3",
   "language": "python",
   "name": "python3"
  },
  "language_info": {
   "codemirror_mode": {
    "name": "ipython",
    "version": 3
   },
   "file_extension": ".py",
   "mimetype": "text/x-python",
   "name": "python",
   "nbconvert_exporter": "python",
   "pygments_lexer": "ipython3",
   "version": "3.8.3"
  }
 },
 "nbformat": 4,
 "nbformat_minor": 4
}
